{
 "cells": [
  {
   "cell_type": "code",
   "execution_count": 1,
   "metadata": {},
   "outputs": [],
   "source": [
    "import os\n",
    "import sys\n",
    "import re\n",
    "import string\n",
    "from pyspark.sql import SparkSession\n",
    "from pyspark.sql.functions import regexp_replace\n",
    "from pyspark.sql.functions import lower, col\n",
    "\n",
    "os.environ['PYSPARK_PYTHON'] = sys.executable\n",
    "os.environ['PYSPARK_DRIVER_PYTHON'] = sys.executable"
   ]
  },
  {
   "cell_type": "code",
   "execution_count": 2,
   "metadata": {},
   "outputs": [],
   "source": [
    "def init_spark():\n",
    "  spark = SparkSession.builder.appName(\"BigData\").getOrCreate()\n",
    "  sc = spark.sparkContext\n",
    "  return spark,sc"
   ]
  },
  {
   "cell_type": "markdown",
   "metadata": {},
   "source": [
    "## Preprocess dataset for training and testing."
   ]
  },
  {
   "cell_type": "code",
   "execution_count": null,
   "metadata": {},
   "outputs": [],
   "source": [
    "def get_sample_from_file(file_name, output_file, sample_size = 10_000):\n",
    "    content = \"\"\n",
    "    with open(file_name, \"r\") as f:\n",
    "        for i in range(sample_size):\n",
    "            content += f.readline()\n",
    "    with open(output_file, \"w\") as f:\n",
    "        f.write(content)"
   ]
  },
  {
   "cell_type": "code",
   "execution_count": 3,
   "metadata": {},
   "outputs": [],
   "source": [
    "# load data from json file with spark\n",
    "def load_data_from_json(spark, file_name):\n",
    "    return spark.read.json(file_name)"
   ]
  },
  {
   "cell_type": "markdown",
   "metadata": {},
   "source": [
    "### Visualize dataset"
   ]
  },
  {
   "cell_type": "code",
   "execution_count": 4,
   "metadata": {},
   "outputs": [
    {
     "data": {
      "text/plain": [
       "[Row(abstract='  A fully differential calculation in perturbative quantum chromodynamics is\\npresented for the production of massive photon pairs at hadron colliders. All\\nnext-to-leading order perturbative contributions from quark-antiquark,\\ngluon-(anti)quark, and gluon-gluon subprocesses are included, as well as\\nall-orders resummation of initial-state gluon radiation valid at\\nnext-to-next-to-leading logarithmic accuracy. The region of phase space is\\nspecified in which the calculation is most reliable. Good agreement is\\ndemonstrated with data from the Fermilab Tevatron, and predictions are made for\\nmore detailed tests with CDF and DO data. Predictions are shown for\\ndistributions of diphoton pairs produced at the energy of the Large Hadron\\nCollider (LHC). Distributions of the diphoton pairs from the decay of a Higgs\\nboson are contrasted with those produced from QCD processes at the LHC, showing\\nthat enhanced sensitivity to the signal can be obtained with judicious\\nselection of events.\\n', authors=\"C. Bal\\\\'azs, E. L. Berger, P. M. Nadolsky, C.-P. Yuan\", authors_parsed=[['Balázs', 'C.', ''], ['Berger', 'E. L.', ''], ['Nadolsky', 'P. M.', ''], ['Yuan', 'C. -P.', '']], categories='hep-ph', comments='37 pages, 15 figures; published version', doi='10.1103/PhysRevD.76.013009', id='0704.0001', journal-ref='Phys.Rev.D76:013009,2007', license=None, report-no='ANL-HEP-PR-07-12', submitter='Pavel Nadolsky', title='Calculation of prompt diphoton production cross sections at Tevatron and\\n  LHC energies', update_date='2008-11-26', versions=[Row(created='Mon, 2 Apr 2007 19:18:42 GMT', version='v1'), Row(created='Tue, 24 Jul 2007 20:10:27 GMT', version='v2')]),\n",
       " Row(abstract='  We describe a new algorithm, the $(k,\\\\ell)$-pebble game with colors, and use\\nit obtain a characterization of the family of $(k,\\\\ell)$-sparse graphs and\\nalgorithmic solutions to a family of problems concerning tree decompositions of\\ngraphs. Special instances of sparse graphs appear in rigidity theory and have\\nreceived increased attention in recent years. In particular, our colored\\npebbles generalize and strengthen the previous results of Lee and Streinu and\\ngive a new proof of the Tutte-Nash-Williams characterization of arboricity. We\\nalso present a new decomposition that certifies sparsity based on the\\n$(k,\\\\ell)$-pebble game with colors. Our work also exposes connections between\\npebble game algorithms and previous sparse graph algorithms by Gabow, Gabow and\\nWestermann and Hendrickson.\\n', authors='Ileana Streinu and Louis Theran', authors_parsed=[['Streinu', 'Ileana', ''], ['Theran', 'Louis', '']], categories='math.CO cs.CG', comments='To appear in Graphs and Combinatorics', doi=None, id='0704.0002', journal-ref=None, license='http://arxiv.org/licenses/nonexclusive-distrib/1.0/', report-no=None, submitter='Louis Theran', title='Sparsity-certifying Graph Decompositions', update_date='2008-12-13', versions=[Row(created='Sat, 31 Mar 2007 02:26:18 GMT', version='v1'), Row(created='Sat, 13 Dec 2008 17:26:00 GMT', version='v2')]),\n",
       " Row(abstract=\"  The evolution of Earth-Moon system is described by the dark matter field\\nfluid model proposed in the Meeting of Division of Particle and Field 2004,\\nAmerican Physical Society. The current behavior of the Earth-Moon system agrees\\nwith this model very well and the general pattern of the evolution of the\\nMoon-Earth system described by this model agrees with geological and fossil\\nevidence. The closest distance of the Moon to Earth was about 259000 km at 4.5\\nbillion years ago, which is far beyond the Roche's limit. The result suggests\\nthat the tidal friction may not be the primary cause for the evolution of the\\nEarth-Moon system. The average dark matter field fluid constant derived from\\nEarth-Moon system data is 4.39 x 10^(-22) s^(-1)m^(-1). This model predicts\\nthat the Mars's rotation is also slowing with the angular acceleration rate\\nabout -4.38 x 10^(-22) rad s^(-2).\\n\", authors='Hongjun Pan', authors_parsed=[['Pan', 'Hongjun', '']], categories='physics.gen-ph', comments='23 pages, 3 figures', doi=None, id='0704.0003', journal-ref=None, license=None, report-no=None, submitter='Hongjun Pan', title='The evolution of the Earth-Moon system based on the dark matter field\\n  fluid model', update_date='2008-01-13', versions=[Row(created='Sun, 1 Apr 2007 20:46:54 GMT', version='v1'), Row(created='Sat, 8 Dec 2007 23:47:24 GMT', version='v2'), Row(created='Sun, 13 Jan 2008 00:36:28 GMT', version='v3')]),\n",
       " Row(abstract='  We show that a determinant of Stirling cycle numbers counts unlabeled acyclic\\nsingle-source automata. The proof involves a bijection from these automata to\\ncertain marked lattice paths and a sign-reversing involution to evaluate the\\ndeterminant.\\n', authors='David Callan', authors_parsed=[['Callan', 'David', '']], categories='math.CO', comments='11 pages', doi=None, id='0704.0004', journal-ref=None, license=None, report-no=None, submitter='David Callan', title='A determinant of Stirling cycle numbers counts unlabeled acyclic\\n  single-source automata', update_date='2007-05-23', versions=[Row(created='Sat, 31 Mar 2007 03:16:14 GMT', version='v1')]),\n",
       " Row(abstract='  In this paper we show how to compute the $\\\\Lambda_{\\\\alpha}$ norm, $\\\\alpha\\\\ge\\n0$, using the dyadic grid. This result is a consequence of the description of\\nthe Hardy spaces $H^p(R^N)$ in terms of dyadic and special atoms.\\n', authors='Wael Abu-Shammala and Alberto Torchinsky', authors_parsed=[['Abu-Shammala', 'Wael', ''], ['Torchinsky', 'Alberto', '']], categories='math.CA math.FA', comments=None, doi=None, id='0704.0005', journal-ref='Illinois J. Math. 52 (2008) no.2, 681-689', license=None, report-no=None, submitter='Alberto Torchinsky', title='From dyadic $\\\\Lambda_{\\\\alpha}$ to $\\\\Lambda_{\\\\alpha}$', update_date='2013-10-15', versions=[Row(created='Mon, 2 Apr 2007 18:09:58 GMT', version='v1')])]"
      ]
     },
     "execution_count": 4,
     "metadata": {},
     "output_type": "execute_result"
    }
   ],
   "source": [
    "sc = init_spark()[0]\n",
    "arxiv_dataset = load_data_from_json(sc, \"arxiv-sample.json\")\n",
    "# view first 5 rows\n",
    "arxiv_dataset.take(5)"
   ]
  },
  {
   "cell_type": "markdown",
   "metadata": {},
   "source": [
    "## Clean dataset"
   ]
  },
  {
   "cell_type": "markdown",
   "metadata": {},
   "source": [
    "### Searcing for missing values"
   ]
  },
  {
   "cell_type": "code",
   "execution_count": 136,
   "metadata": {},
   "outputs": [
    {
     "name": "stdout",
     "output_type": "stream",
     "text": [
      "Number of missing values in abstract column:  0\n",
      "Number of missing values in title column:  0\n",
      "Number of missing values in categories column:  0\n",
      "Number of missing values in id column:  0\n",
      "Number of missing values in submitter column:  0\n",
      "Number of missing values in authors column:  0\n",
      "Number of missing values in report-no column:  9118\n",
      "Number of missing values in comments column:  1138\n",
      "Number of missing values in doi column:  3641\n",
      "Number of missing values in journal-ref column:  4571\n",
      "Number of missing values in versions column:  0\n"
     ]
    }
   ],
   "source": [
    "# search for missing values\n",
    "print(\"Number of missing values in abstract column: \", arxiv_dataset.filter(arxiv_dataset.abstract.isNull()).count())\n",
    "print(\"Number of missing values in title column: \", arxiv_dataset.filter(arxiv_dataset.title.isNull()).count())\n",
    "print(\"Number of missing values in categories column: \", arxiv_dataset.filter(arxiv_dataset.categories.isNull()).count())\n",
    "print(\"Number of missing values in id column: \", arxiv_dataset.filter(arxiv_dataset.id.isNull()).count())\n",
    "print(\"Number of missing values in submitter column: \", arxiv_dataset.filter(arxiv_dataset.submitter.isNull()).count())\n",
    "print(\"Number of missing values in authors column: \", arxiv_dataset.filter(arxiv_dataset.authors.isNull()).count())\n",
    "print(\"Number of missing values in report-no column: \",arxiv_dataset.filter(arxiv_dataset[\"report-no\"].isNull()).count() )\n",
    "print(\"Number of missing values in comments column: \", arxiv_dataset.filter(arxiv_dataset.comments.isNull()).count())\n",
    "print(\"Number of missing values in doi column: \", arxiv_dataset.filter(arxiv_dataset.doi.isNull()).count())\n",
    "print(\"Number of missing values in journal-ref column: \", arxiv_dataset.filter(arxiv_dataset[\"journal-ref\"].isNull()).count())\n",
    "print(\"Number of missing values in versions column: \", arxiv_dataset.filter(arxiv_dataset.versions.isNull()).count())\n"
   ]
  },
  {
   "cell_type": "code",
   "execution_count": 93,
   "metadata": {},
   "outputs": [
    {
     "name": "stdout",
     "output_type": "stream",
     "text": [
      "+--------+-------+--------------+----------+--------+---+---+-----------+-------+---------+---------+-----+-----------+--------+\n",
      "|abstract|authors|authors_parsed|categories|comments|doi| id|journal-ref|license|report-no|submitter|title|update_date|versions|\n",
      "+--------+-------+--------------+----------+--------+---+---+-----------+-------+---------+---------+-----+-----------+--------+\n",
      "+--------+-------+--------------+----------+--------+---+---+-----------+-------+---------+---------+-----+-----------+--------+\n",
      "\n",
      "+--------+-------+--------------+----------+--------+---+---+-----------+-------+---------+---------+-----+-----------+--------+\n",
      "|abstract|authors|authors_parsed|categories|comments|doi| id|journal-ref|license|report-no|submitter|title|update_date|versions|\n",
      "+--------+-------+--------------+----------+--------+---+---+-----------+-------+---------+---------+-----+-----------+--------+\n",
      "+--------+-------+--------------+----------+--------+---+---+-----------+-------+---------+---------+-----+-----------+--------+\n",
      "\n",
      "+--------+-------+--------------+----------+--------+---+---+-----------+-------+---------+---------+-----+-----------+--------+\n",
      "|abstract|authors|authors_parsed|categories|comments|doi| id|journal-ref|license|report-no|submitter|title|update_date|versions|\n",
      "+--------+-------+--------------+----------+--------+---+---+-----------+-------+---------+---------+-----+-----------+--------+\n",
      "+--------+-------+--------------+----------+--------+---+---+-----------+-------+---------+---------+-----+-----------+--------+\n",
      "\n",
      "+--------+-------+--------------+----------+--------+---+---+-----------+-------+---------+---------+-----+-----------+--------+\n",
      "|abstract|authors|authors_parsed|categories|comments|doi| id|journal-ref|license|report-no|submitter|title|update_date|versions|\n",
      "+--------+-------+--------------+----------+--------+---+---+-----------+-------+---------+---------+-----+-----------+--------+\n",
      "+--------+-------+--------------+----------+--------+---+---+-----------+-------+---------+---------+-----+-----------+--------+\n",
      "\n"
     ]
    }
   ],
   "source": [
    "# show rows with empty fields\n",
    "arxiv_dataset.filter(arxiv_dataset[\"abstract\"] == \"\").show()\n",
    "arxiv_dataset.filter(arxiv_dataset[\"title\"] == \"\").show()\n",
    "arxiv_dataset.filter(arxiv_dataset[\"authors\"] == \"\").show()\n",
    "arxiv_dataset.filter(arxiv_dataset[\"categories\"] == \"\").show()"
   ]
  },
  {
   "cell_type": "markdown",
   "metadata": {},
   "source": [
    "### Basic preprocessing functions"
   ]
  },
  {
   "cell_type": "code",
   "execution_count": 145,
   "metadata": {},
   "outputs": [],
   "source": [
    "# fill ALL NULL values with empty string : use after removing rows with empty fields\n",
    "def fill_na_with_empty_string(df):\n",
    "    return df.fillna(\"\")\n",
    "\n",
    "# remove rows with empty fields\n",
    "def remove_empty_fields(df, field_name):\n",
    "    return df.filter(df[field_name] != \"\")\n",
    "\n",
    "# remove \"\\n\" from text\n",
    "def remove_empty_newlines(df, field_name):\n",
    "    return df.withColumn(field_name, regexp_replace(col(field_name), \"\\n\", \" \"))\n",
    "\n",
    "# remove math formulas and latex\n",
    "def remove_math_formula(df, field_name):\n",
    "    return df.withColumn(field_name, regexp_replace(col(field_name), \"\\$.*?\\$\", \"\"))\n",
    "\n",
    "# convert to lowercase\n",
    "def convert_to_lowercase(df, field_name):\n",
    "    return df.withColumn(field_name, lower(col(field_name)))\n",
    "\n",
    "# remove extra spaces\n",
    "def remove_extra_spaces(df, field_name):\n",
    "    df = df.withColumn(field_name, regexp_replace(col(field_name), \" +\", \" \"))\n",
    "    df = df.withColumn(field_name, regexp_replace(col(field_name), \"^ +\", \"\"))\n",
    "    return df\n",
    "\n",
    "# remove punctuation\n",
    "def remove_punctuation(df, field_name):\n",
    "    return df.withColumn(field_name, regexp_replace(col(field_name), \"[^\\w\\s]\", \"\"))\n"
   ]
  },
  {
   "cell_type": "code",
   "execution_count": 119,
   "metadata": {},
   "outputs": [
    {
     "name": "stdout",
     "output_type": "stream",
     "text": [
      "+-----------------------------------------------------------------------------------------------------------------------------------------------------------------------------------------------------------------------------------------------------------------------------------------------------------------------------------------------------------------------------------------------------------------------------------------------------------------------------------------------------------------------------------------------------------------------------------------------------------------------------------------------------------------------------------------------------------------------------------------------------------------------------------------------------------------------------------------------------------------------------------------------------------------------------------------------------------------------------------------------------------+\n",
      "|abstract                                                                                                                                                                                                                                                                                                                                                                                                                                                                                                                                                                                                                                                                                                                                                                                                                                                                                                                                                                                                   |\n",
      "+-----------------------------------------------------------------------------------------------------------------------------------------------------------------------------------------------------------------------------------------------------------------------------------------------------------------------------------------------------------------------------------------------------------------------------------------------------------------------------------------------------------------------------------------------------------------------------------------------------------------------------------------------------------------------------------------------------------------------------------------------------------------------------------------------------------------------------------------------------------------------------------------------------------------------------------------------------------------------------------------------------------+\n",
      "|  A fully differential calculation in perturbative quantum chromodynamics is\\npresented for the production of massive photon pairs at hadron colliders All\\nnexttoleading order perturbative contributions from quarkantiquark\\ngluonantiquark and gluongluon subprocesses are included as well as\\nallorders resummation of initialstate gluon radiation valid at\\nnexttonexttoleading logarithmic accuracy The region of phase space is\\nspecified in which the calculation is most reliable Good agreement is\\ndemonstrated with data from the Fermilab Tevatron and predictions are made for\\nmore detailed tests with CDF and DO data Predictions are shown for\\ndistributions of diphoton pairs produced at the energy of the Large Hadron\\nCollider LHC Distributions of the diphoton pairs from the decay of a Higgs\\nboson are contrasted with those produced from QCD processes at the LHC showing\\nthat enhanced sensitivity to the signal can be obtained with judicious\\nselection of events\\n|\n",
      "|  We describe a new algorithm the kellpebble game with colors and use\\nit obtain a characterization of the family of kellsparse graphs and\\nalgorithmic solutions to a family of problems concerning tree decompositions of\\ngraphs Special instances of sparse graphs appear in rigidity theory and have\\nreceived increased attention in recent years In particular our colored\\npebbles generalize and strengthen the previous results of Lee and Streinu and\\ngive a new proof of the TutteNashWilliams characterization of arboricity We\\nalso present a new decomposition that certifies sparsity based on the\\nkellpebble game with colors Our work also exposes connections between\\npebble game algorithms and previous sparse graph algorithms by Gabow Gabow and\\nWestermann and Hendrickson\\n                                                                                                                                                                                                  |\n",
      "|  The evolution of EarthMoon system is described by the dark matter field\\nfluid model proposed in the Meeting of Division of Particle and Field 2004\\nAmerican Physical Society The current behavior of the EarthMoon system agrees\\nwith this model very well and the general pattern of the evolution of the\\nMoonEarth system described by this model agrees with geological and fossil\\nevidence The closest distance of the Moon to Earth was about 259000 km at 45\\nbillion years ago which is far beyond the Roches limit The result suggests\\nthat the tidal friction may not be the primary cause for the evolution of the\\nEarthMoon system The average dark matter field fluid constant derived from\\nEarthMoon system data is 439 x 1022 s1m1 This model predicts\\nthat the Marss rotation is also slowing with the angular acceleration rate\\nabout 438 x 1022 rad s2\\n                                                                                                                      |\n",
      "|  We show that a determinant of Stirling cycle numbers counts unlabeled acyclic\\nsinglesource automata The proof involves a bijection from these automata to\\ncertain marked lattice paths and a signreversing involution to evaluate the\\ndeterminant\\n                                                                                                                                                                                                                                                                                                                                                                                                                                                                                                                                                                                                                                                                                                                                                   |\n",
      "|  In this paper we show how to compute the Lambda_alpha norm alphage\\n0 using the dyadic grid This result is a consequence of the description of\\nthe Hardy spaces HpRN in terms of dyadic and special atoms\\n                                                                                                                                                                                                                                                                                                                                                                                                                                                                                                                                                                                                                                                                                                                                                                                             |\n",
      "+-----------------------------------------------------------------------------------------------------------------------------------------------------------------------------------------------------------------------------------------------------------------------------------------------------------------------------------------------------------------------------------------------------------------------------------------------------------------------------------------------------------------------------------------------------------------------------------------------------------------------------------------------------------------------------------------------------------------------------------------------------------------------------------------------------------------------------------------------------------------------------------------------------------------------------------------------------------------------------------------------------------+\n",
      "only showing top 5 rows\n",
      "\n"
     ]
    }
   ],
   "source": [
    "arxiv_dataset.select(\"abstract\").show(5, truncate=False)"
   ]
  },
  {
   "cell_type": "markdown",
   "metadata": {},
   "source": [
    "### Clear 'abstract' column"
   ]
  },
  {
   "cell_type": "code",
   "execution_count": 96,
   "metadata": {},
   "outputs": [],
   "source": [
    "arxiv_dataset = remove_empty_fields(arxiv_dataset, \"abstract\")\n",
    "arxiv_dataset = remove_empty_newlines(arxiv_dataset, \"abstract\")\n",
    "# remove math equations from abstract ? \n",
    "# maybe we don't need to do this, because we can use the math equations for our model?\n",
    "arxiv_dataset = remove_math_formula(arxiv_dataset, \"abstract\")\n",
    "arxiv_dataset = convert_to_lowercase(arxiv_dataset, \"abstract\")\n",
    "arxiv_dataset = remove_extra_spaces(arxiv_dataset, \"abstract\")"
   ]
  },
  {
   "cell_type": "code",
   "execution_count": 97,
   "metadata": {},
   "outputs": [
    {
     "name": "stdout",
     "output_type": "stream",
     "text": [
      "+---------------------------------------------------------------------------------------------------------------------------------------------------------------------------------------------------------------------------------------------------------------------------------------------------------------------------------------------------------------------------------------------------------------------------------------------------------------------------------------------------------------------------------------------------------------------------------------------------------------------------------------------------------------------------------------------------------------------------------------------------------------------------------------------------------------------------------------------------------------------------------------------------------------------------------------------------------------------------------------------------------------------+\n",
      "|abstract                                                                                                                                                                                                                                                                                                                                                                                                                                                                                                                                                                                                                                                                                                                                                                                                                                                                                                                                                                                                             |\n",
      "+---------------------------------------------------------------------------------------------------------------------------------------------------------------------------------------------------------------------------------------------------------------------------------------------------------------------------------------------------------------------------------------------------------------------------------------------------------------------------------------------------------------------------------------------------------------------------------------------------------------------------------------------------------------------------------------------------------------------------------------------------------------------------------------------------------------------------------------------------------------------------------------------------------------------------------------------------------------------------------------------------------------------+\n",
      "|a fully differential calculation in perturbative quantum chromodynamics is presented for the production of massive photon pairs at hadron colliders. all next-to-leading order perturbative contributions from quark-antiquark, gluon-(anti)quark, and gluon-gluon subprocesses are included, as well as all-orders resummation of initial-state gluon radiation valid at next-to-next-to-leading logarithmic accuracy. the region of phase space is specified in which the calculation is most reliable. good agreement is demonstrated with data from the fermilab tevatron, and predictions are made for more detailed tests with cdf and do data. predictions are shown for distributions of diphoton pairs produced at the energy of the large hadron collider (lhc). distributions of the diphoton pairs from the decay of a higgs boson are contrasted with those produced from qcd processes at the lhc, showing that enhanced sensitivity to the signal can be obtained with judicious selection of events. |\n",
      "|we describe a new algorithm, the -pebble game with colors, and use it obtain a characterization of the family of -sparse graphs and algorithmic solutions to a family of problems concerning tree decompositions of graphs. special instances of sparse graphs appear in rigidity theory and have received increased attention in recent years. in particular, our colored pebbles generalize and strengthen the previous results of lee and streinu and give a new proof of the tutte-nash-williams characterization of arboricity. we also present a new decomposition that certifies sparsity based on the -pebble game with colors. our work also exposes connections between pebble game algorithms and previous sparse graph algorithms by gabow, gabow and westermann and hendrickson.                                                                                                                                                                                                                        |\n",
      "|the evolution of earth-moon system is described by the dark matter field fluid model proposed in the meeting of division of particle and field 2004, american physical society. the current behavior of the earth-moon system agrees with this model very well and the general pattern of the evolution of the moon-earth system described by this model agrees with geological and fossil evidence. the closest distance of the moon to earth was about 259000 km at 4.5 billion years ago, which is far beyond the roche's limit. the result suggests that the tidal friction may not be the primary cause for the evolution of the earth-moon system. the average dark matter field fluid constant derived from earth-moon system data is 4.39 x 10^(-22) s^(-1)m^(-1). this model predicts that the mars's rotation is also slowing with the angular acceleration rate about -4.38 x 10^(-22) rad s^(-2).                                                                                                        |\n",
      "|we show that a determinant of stirling cycle numbers counts unlabeled acyclic single-source automata. the proof involves a bijection from these automata to certain marked lattice paths and a sign-reversing involution to evaluate the determinant.                                                                                                                                                                                                                                                                                                                                                                                                                                                                                                                                                                                                                                                                                                                                                                |\n",
      "|in this paper we show how to compute the norm, , using the dyadic grid. this result is a consequence of the description of the hardy spaces in terms of dyadic and special atoms.                                                                                                                                                                                                                                                                                                                                                                                                                                                                                                                                                                                                                                                                                                                                                                                                                                    |\n",
      "+---------------------------------------------------------------------------------------------------------------------------------------------------------------------------------------------------------------------------------------------------------------------------------------------------------------------------------------------------------------------------------------------------------------------------------------------------------------------------------------------------------------------------------------------------------------------------------------------------------------------------------------------------------------------------------------------------------------------------------------------------------------------------------------------------------------------------------------------------------------------------------------------------------------------------------------------------------------------------------------------------------------------+\n",
      "only showing top 5 rows\n",
      "\n"
     ]
    }
   ],
   "source": [
    "arxiv_dataset.select(\"abstract\").show(5, truncate=False)"
   ]
  },
  {
   "cell_type": "markdown",
   "metadata": {},
   "source": [
    "### Lemmatization (will follow)"
   ]
  },
  {
   "cell_type": "markdown",
   "metadata": {},
   "source": [
    "## Convert Abstract to Vector Representation"
   ]
  },
  {
   "cell_type": "code",
   "execution_count": 23,
   "metadata": {},
   "outputs": [],
   "source": [
    "from pyspark.ml.feature import Word2Vec\n",
    "from pyspark.ml.feature import Tokenizer"
   ]
  },
  {
   "cell_type": "code",
   "execution_count": 25,
   "metadata": {},
   "outputs": [],
   "source": [
    "# create a Word2Vec model\n",
    "input_col = \"abstract\"\n",
    "output_col = \"abstract_vector\"\n",
    "\n",
    "words2vec_model = Word2Vec(\n",
    "    inputCol=\"words\",\n",
    "    outputCol=output_col,\n",
    "    vectorSize=100,\n",
    "    minCount=5\n",
    ")\n",
    "tokenized = Tokenizer(inputCol=input_col, outputCol=\"words\")\n",
    "tokenized_dataset = tokenized.transform(arxiv_dataset)\n",
    "model = words2vec_model.fit(tokenized_dataset)\n",
    "# show the vector of the first abstract\n"
   ]
  },
  {
   "cell_type": "code",
   "execution_count": 27,
   "metadata": {},
   "outputs": [
    {
     "name": "stdout",
     "output_type": "stream",
     "text": [
      "+-------------+-----------------------------------------------------------------------------------------------------------------------------------------------------------------------------------------------------------------------------------------------------------------------------------------------------------------------------------------------------------------------------------------------------------------------------------------------------------------------------------------------------------------------------------------------------------------------------------------------------------------------------------------------------------------------------------------------------------------------------------------------------------------------------------------------------------------------------------------------------------------------------------------------------------------------------------------------------------------------------------------------------------------------------------------------------------------------------------------------------------------------------------------------------------------------------------------------------------------------------------------------------------------------------------------------------------------------------------------------------------------------------------------------------------------------------------------------------------------------------------------------------------------------------------------------------------------------------------------------------------------------------------------------------------------------------------------------------------------------------------------------------------------------------------------------------------------------------------------------------------------------------------------------------------------------------------------------------------------------------------------------------------------------------------------------------------------------------------------------------------------------------------------------------------------------------------------------------------------------------------------------+\n",
      "|word         |vector                                                                                                                                                                                                                                                                                                                                                                                                                                                                                                                                                                                                                                                                                                                                                                                                                                                                                                                                                                                                                                                                                                                                                                                                                                                                                                                                                                                                                                                                                                                                                                                                                                                                                                                                                                                                                                                                                                                                                                                                                                                                                                                                                                                                                                         |\n",
      "+-------------+-----------------------------------------------------------------------------------------------------------------------------------------------------------------------------------------------------------------------------------------------------------------------------------------------------------------------------------------------------------------------------------------------------------------------------------------------------------------------------------------------------------------------------------------------------------------------------------------------------------------------------------------------------------------------------------------------------------------------------------------------------------------------------------------------------------------------------------------------------------------------------------------------------------------------------------------------------------------------------------------------------------------------------------------------------------------------------------------------------------------------------------------------------------------------------------------------------------------------------------------------------------------------------------------------------------------------------------------------------------------------------------------------------------------------------------------------------------------------------------------------------------------------------------------------------------------------------------------------------------------------------------------------------------------------------------------------------------------------------------------------------------------------------------------------------------------------------------------------------------------------------------------------------------------------------------------------------------------------------------------------------------------------------------------------------------------------------------------------------------------------------------------------------------------------------------------------------------------------------------------------+\n",
      "|specifically,|[-0.022539500147104263,-0.13236913084983826,0.08768683671951294,-0.10420333594083786,-0.020264504477381706,0.11355707794427872,0.1182483658194542,-0.010953524149954319,-0.10937138646841049,-0.040759023278951645,0.13578519225120544,0.06212949380278587,0.07517284154891968,0.10099578648805618,-0.06430909037590027,0.028968622907996178,-0.10109761357307434,0.1015239953994751,0.04371120035648346,0.01442981418222189,-0.030335385352373123,-0.08197616040706635,-0.10330498963594437,-0.0045797028578817844,-0.04766396805644035,0.08931911736726761,0.0062345354817807674,-0.0611114427447319,-0.037228964269161224,0.042109325528144836,-0.05812427029013634,0.1367589682340622,-0.06009434536099434,-0.06400248408317566,0.11217711865901947,0.08935992419719696,0.012552826665341854,-0.07058152556419373,-0.1420408934354782,0.006078127771615982,-0.007652220781892538,-0.013132026419043541,-0.13870111107826233,0.05959051102399826,-0.07031514495611191,-0.03113541379570961,0.060697779059410095,-0.009906582534313202,0.02079363912343979,7.668710313737392E-4,-0.017667856067419052,-0.08090905845165253,-0.03204062953591347,0.1353471726179123,-0.022627387195825577,-0.028170431032776833,0.034084443002939224,0.007581958547234535,0.038581736385822296,0.09719358384609222,0.0026162953581660986,-0.10643798112869263,0.08291712403297424,-0.004378216341137886,-0.0853860080242157,-0.022117216140031815,-0.0030220490880310535,-0.048202961683273315,-0.08205492794513702,0.07979841530323029,-0.01108955405652523,-0.007045395206660032,0.09989839792251587,-0.05910486355423927,0.030787229537963867,0.11999374628067017,-0.04978610947728157,0.019756242632865906,0.02667379565536976,0.0046886904165148735,0.043123289942741394,-0.013532668352127075,0.006937790662050247,-0.1517336517572403,0.002519706729799509,-0.06654819846153259,0.08001454174518585,0.05356866121292114,-0.007650839164853096,0.09437796473503113,-0.010109464637935162,0.09396345913410187,-0.010080941952764988,-0.06985205411911011,-0.0870748832821846,-0.08800791949033737,-0.10842087119817734,9.78131778538227E-4,-0.02913619391620159,0.007263699546456337]                                                                    |\n",
      "|quotient     |[0.011477870866656303,0.07269323617219925,-0.021317407488822937,0.012739456258714199,-0.050203919410705566,-0.06917165964841843,-0.1034284457564354,-0.0025167770218104124,-0.018895991146564484,-0.08507268875837326,0.016076022759079933,-0.036861419677734375,-0.07411108911037445,0.023282941430807114,-0.03566993027925491,-0.02521837130188942,-0.01957416720688343,-0.09341246634721756,-0.03819235786795616,-0.015762344002723694,0.05406813323497772,-0.06308308243751526,0.07376692444086075,-0.01272170152515173,-0.029270680621266365,0.019383719190955162,-0.08121156692504883,0.020253317430615425,0.00947461649775505,-0.01807689480483532,-0.034240711480379105,-0.08348403126001358,-0.031352072954177856,0.050867728888988495,0.004436056595295668,-0.026711955666542053,-0.014692679978907108,0.041519127786159515,0.03258274868130684,-0.06435074657201767,0.03801567479968071,-0.08846967667341232,0.052899569272994995,-0.030849825590848923,0.005964680574834347,0.011830690316855907,-0.04079510644078255,-0.06190931051969528,0.06800740212202072,-0.023764077574014664,0.02639826200902462,-0.04244251921772957,-0.04197024181485176,-0.028714435175061226,0.017647741362452507,0.024489736184477806,0.030337035655975342,0.08612452447414398,0.04795615375041962,-0.011676240712404251,0.09501496702432632,-0.06319376826286316,-0.060139842331409454,-0.04422878473997116,-0.0049092890694737434,-0.016671521589159966,0.032389380037784576,-0.025074485689401627,-8.933291537687182E-4,-0.03834918513894081,-0.004724118392914534,0.011466712690889835,-0.10740849375724792,-0.06957244127988815,0.039827611297369,0.01855509541928768,0.06154455244541168,-0.06988102942705154,0.04133012890815735,-0.02624470181763172,-0.0060918694362044334,-0.0029852078296244144,0.020995521917939186,-0.013934602029621601,-0.022012952715158463,0.023178614675998688,-0.04442625120282173,0.02301248535513878,0.03494090214371681,-0.008289121091365814,0.08734755963087082,0.026732072234153748,0.033439502120018005,0.01480461098253727,0.052877359092235565,0.02586359903216362,0.057551659643650055,-0.00711668049916625,0.018283233046531677,-0.042263537645339966]                                                  |\n",
      "|incident     |[0.011802229098975658,0.0696318969130516,0.06670743972063065,-0.020390981808304787,-0.03728669881820679,-0.12770295143127441,-0.13355468213558197,-0.08771268278360367,0.07516267150640488,-0.07661553472280502,-0.1330796182155609,-0.0546049028635025,-0.034843578934669495,-0.04188793525099754,-0.0028525488451123238,-0.12080753594636917,0.02595370262861252,-0.16114644706249237,-0.1659715622663498,-0.025632737204432487,-0.0412093847990036,-0.08414068073034286,0.164859801530838,0.16641250252723694,-0.03159172832965851,-0.03176736831665039,-0.10631316900253296,0.014051279984414577,0.01853819191455841,-0.05145540460944176,0.17771239578723907,-0.07120818644762039,-0.05806548893451691,0.03040478564798832,-0.14711405336856842,-0.05473221465945244,-0.045024655759334564,0.06042763963341713,-0.09252198785543442,-0.14411166310310364,-0.06512708961963654,-0.08573133498430252,0.05727405473589897,-0.010267380625009537,0.10629989206790924,0.032302360981702805,0.01510732900351286,0.0038004980888217688,0.019575268030166626,-0.1139274463057518,0.07246897369623184,-0.005231361836194992,-0.08013993501663208,0.011273855343461037,-7.398141897283494E-4,0.05590732395648956,0.03265579044818878,0.009286349639296532,-0.03923410549759865,-0.09880674630403519,0.020063379779458046,0.11810947954654694,0.0017598688136786222,-0.05835692211985588,0.13775135576725006,0.005137813277542591,0.01583956554532051,0.08475661277770996,0.12832191586494446,0.016131505370140076,-0.02698034979403019,-0.015690498054027557,-0.15256768465042114,-0.02492416836321354,0.0027048804331570864,0.09540604054927826,0.08757837116718292,-0.06284213811159134,0.06040259450674057,0.0582391694188118,-0.04550223797559738,-0.06940402835607529,-0.024064157158136368,0.13135631382465363,-0.020875459536910057,-0.11555653065443039,0.03810857981443405,0.055792298167943954,-0.02750513330101967,-0.07217396050691605,0.1406680941581726,-0.07501769810914993,0.043915994465351105,0.019356483593583107,-0.009205900132656097,0.05516009405255318,0.14327973127365112,-0.016252556815743446,0.18531617522239685,-0.05083620548248291]                                                                                  |\n",
      "|additivity   |[-0.013468644581735134,-0.014336196705698967,-0.002250835532322526,-0.04097176715731621,-0.05532505735754967,-0.005872797220945358,-0.05001697689294815,-0.029821038246154785,-0.020102161914110184,-0.051956359297037125,0.058026496320962906,0.0352516807615757,0.003720924723893404,0.0443413108587265,-0.021283147856593132,-0.0025864483322948217,0.0040691872127354145,-0.02007053792476654,0.03949153050780296,-0.007771099917590618,-0.007757528219372034,-0.06325478851795197,0.012794796377420425,-0.009942766278982162,-0.05644766241312027,-0.05577473342418671,-0.08953197300434113,0.013429682701826096,0.021421341225504875,-0.014631533995270729,-0.014778805896639824,-0.023799732327461243,0.012412513606250286,0.014582168310880661,0.026979217305779457,-0.01758847013115883,0.011722305789589882,0.048212796449661255,-0.007694242522120476,-0.016111359000205994,0.0393109992146492,-0.030180880799889565,0.02136889100074768,0.00724791968241334,0.025196630507707596,0.06335069984197617,-0.018324267119169235,-0.02919304370880127,-0.032790131866931915,-0.042868681252002716,-0.009234996512532234,-0.027771227061748505,-0.020255932584404945,0.026875756680965424,0.02805631048977375,0.04982641339302063,-0.033534854650497437,-0.005930168554186821,0.01631985232234001,-0.005009399726986885,0.07692420482635498,-0.01900162547826767,0.016606835648417473,-0.05348017066717148,0.0025951953139156103,-0.005757381208240986,-0.030102895572781563,-0.017984233796596527,-0.014041440561413765,0.044543731957674026,0.00512429466471076,-0.023952005431056023,-0.023992137983441353,-0.06893128156661987,0.030987823382019997,0.027076493948698044,0.009814947843551636,-0.029751259833574295,0.04556969925761223,0.004627052694559097,0.02058805152773857,-0.044082216918468475,-0.03966614976525307,-0.034179605543613434,0.0181119367480278,-0.014354013837873936,-0.01477437186986208,0.004117944743484259,0.021673521026968956,0.025498680770397186,0.04768973961472511,0.049766141921281815,-0.04586249962449074,-0.04096178710460663,-0.020924363285303116,0.04996349290013313,-0.009189644828438759,-0.018249571323394775,0.003911890555173159,0.029819080606102943]                                    |\n",
      "|serious      |[0.02523544430732727,-4.7822738997638226E-4,-0.00581668596714735,-0.022268934175372124,-0.0024485315661877394,0.0023250894155353308,-0.02105800248682499,0.015667693689465523,0.015869304537773132,-0.0027891742065548897,-0.011479259468615055,0.006596295163035393,-0.08474306017160416,9.614988230168819E-4,-0.014318405650556087,0.0013496062019839883,0.011647001840174198,0.029822716489434242,0.0031717640813440084,-0.018338410183787346,0.020024701952934265,-0.042428210377693176,-0.03375917300581932,0.005800855346024036,0.036421068012714386,0.02465524896979332,0.021510988473892212,-0.05679747462272644,-0.0019462434574961662,-0.042356111109256744,-0.004708604421466589,0.0341351181268692,0.008906780742108822,-0.05256102234125137,0.003896155161783099,-0.009695933200418949,0.0028639952652156353,-0.0049343532882630825,0.015713809058070183,0.023284398019313812,-0.018160101026296616,-0.005589811597019434,-2.518904220778495E-4,0.030281605198979378,-0.01813257485628128,0.016813095659017563,0.052717093378305435,-0.008678140118718147,-0.02076556161046028,0.02666565589606762,-0.014152240008115768,-0.029466712847352028,-0.03450862318277359,-0.031167179346084595,-0.03651319816708565,0.02438211813569069,0.022193437442183495,-0.03855825960636139,-4.799995804205537E-4,0.01005603838711977,0.02482639066874981,-0.009181633591651917,-0.0101179713383317,0.024995816871523857,0.02857319451868534,0.013425239361822605,0.04383259266614914,-0.0029525882564485073,-0.012177986092865467,0.0016772773815318942,0.02625351957976818,0.006505402270704508,-0.010995997115969658,-0.0391697883605957,-0.01451465580612421,0.024394452571868896,-0.02987363189458847,0.022763419896364212,0.01790834590792656,-0.007702451199293137,0.012945304624736309,-0.0128194410353899,-0.0221963319927454,0.04006383568048477,0.07805333286523819,-0.023825189098715782,-0.044740378856658936,-0.015605945140123367,-0.0231634434312582,-0.028190139681100845,-0.030983587726950645,-0.01758066937327385,0.014294534921646118,0.01786763034760952,-0.058278169482946396,0.03676735982298851,-0.014395803213119507,-0.04207923263311386,0.027068134397268295,-4.806398937944323E-4]                                  |\n",
      "|gauge.       |[1.4076509978622198E-4,-0.026044270023703575,0.023099470883607864,-0.024118555709719658,-0.014515145681798458,0.001364441472105682,0.018722670152783394,0.0012078045401722193,3.4558321931399405E-4,-0.028781108558177948,0.03522633761167526,0.017967188730835915,-0.005224304739385843,0.004085834138095379,-0.024293122813105583,0.022274747490882874,-0.018910039216279984,0.011791893281042576,0.006805808749049902,-0.0022838287986814976,-0.00997202005237341,0.0063795424066483974,-0.012245322577655315,0.01750168576836586,-0.05733058974146843,-0.023760326206684113,-0.023481110110878944,-0.015434467233717442,-0.005736099556088448,0.010026892647147179,6.809364422224462E-4,-0.007299773395061493,-0.0158458910882473,-0.016383318230509758,-0.0059212613850831985,0.014407512731850147,-0.044308293610811234,0.03992416337132454,-0.04475414752960205,-0.015504341572523117,-0.0074543156661093235,-0.024336379021406174,-0.008052068762481213,0.03510864078998566,-0.002411958295851946,-0.009606231935322285,0.0350986123085022,0.0035957200452685356,0.023594584316015244,0.00992138497531414,0.02222049981355667,-0.04971202835440636,-0.04524270445108414,0.033029090613126755,-0.018283430486917496,0.03793102875351906,0.014054815284907818,-7.80207512434572E-4,0.02114485204219818,0.010344057343900204,0.0416448749601841,-0.02660818211734295,0.026752494275569916,-0.009521122090518475,-0.04351973533630371,-0.009519544430077076,-0.005128464195877314,-0.02420588582754135,-0.033318910747766495,0.011097349226474762,-1.5930112567730248E-4,0.016773412004113197,0.010842915624380112,0.022730566561222076,0.013390965759754181,0.03258395567536354,0.0021352493204176426,-0.0018142791232094169,0.05417260155081749,-0.023684876039624214,-0.009838532656431198,-0.007433747872710228,-0.023795468732714653,-0.02413390763103962,0.017106231302022934,-0.013873420655727386,0.0011341876816004515,0.031733881682157516,0.024919232353568077,0.011161508038640022,0.024068724364042282,0.04326104745268822,-0.022333040833473206,-0.007222931832075119,-0.02952219732105732,-0.012074646539986134,0.0010377289727330208,-0.006770533975213766,-0.008576123043894768,0.032123878598213196]                     |\n",
      "|comply       |[0.0012478920398280025,-0.003726167371496558,0.024383878335356712,-0.036825090646743774,-0.021953800693154335,-0.007619918789714575,-0.03395511955022812,-0.019959943369030952,0.04253999516367912,-0.0375031977891922,0.006839732639491558,-0.011883040890097618,-0.001201858278363943,-0.006929751019924879,-0.013295581564307213,0.02744206041097641,0.060180630534887314,-0.022794043645262718,0.012160218320786953,-0.010493302717804909,-0.017301000654697418,-0.05524570867419243,0.014662505127489567,0.03221483901143074,-0.009257675148546696,-0.03907405585050583,-0.025464117527008057,-0.023002762347459793,0.004056883975863457,-0.010948154143989086,0.03980309143662453,0.012390390038490295,0.0035699873697012663,-0.006525831762701273,-0.02433655969798565,-0.018217481672763824,-0.03402763977646828,0.0744924396276474,-0.037368882447481155,0.0020056262146681547,-3.766321751754731E-4,-0.017021628096699715,0.014600892551243305,-0.013224517926573753,0.02546052448451519,-0.02057819999754429,0.03960190713405609,0.020010406151413918,0.03457475081086159,0.002538106869906187,0.05391552299261093,0.03429515287280083,-0.016039224341511726,0.029104463756084442,-0.028853153809905052,0.024613888934254646,-0.034855183213949203,-0.029847020283341408,0.027354007586836815,-0.025387894362211227,5.810055881738663E-4,0.018162911757826805,0.023494819179177284,-0.016349026933312416,0.01770966500043869,-0.029680905863642693,-0.05108192563056946,-0.018750295042991638,0.02204901911318302,-0.021184004843235016,-0.02152826637029648,-0.0036567419301718473,-0.02173955924808979,7.400740287266672E-4,0.007654646877199411,0.04007888585329056,-0.008342128247022629,0.003295395988970995,0.04325680807232857,0.024543078616261482,-0.0015087439678609371,0.024379726499319077,-0.04702798277139664,0.0295176450163126,0.001857294701039791,-0.04825481399893761,0.011847740039229393,0.006383329164236784,-6.594484148081392E-5,-0.0045773424208164215,0.04936143010854721,-0.021981066092848778,-0.03412827104330063,0.029373908415436745,-0.03014088049530983,0.018621044233441353,0.035043176263570786,-0.006477913819253445,0.010823169723153114,0.0053120022639632225]                                |\n",
      "|breaks       |[0.00878932885825634,0.01778826303780079,-0.11647125333547592,0.024959217756986618,0.03998022526502609,-0.0026292295660823584,0.005683001130819321,-5.924912402406335E-4,0.026061803102493286,-0.05538228899240494,-0.01894248090684414,-0.04909081757068634,-0.050098665058612823,-0.04510034620761871,-0.086628258228302,0.012432682327926159,0.11963081359863281,0.030766179785132408,0.005148258991539478,-0.02448904514312744,0.01698990724980831,-0.02517027035355568,-0.0023926140274852514,0.0706496611237526,0.04245229437947273,-0.0687587782740593,-0.046195853501558304,-0.031217148527503014,-0.016905469819903374,-0.0319058895111084,0.12010201811790466,-0.03169954940676689,0.003515714779496193,-0.10368399322032928,-0.02075539343059063,-0.10115813463926315,-0.08188609778881073,0.057413697242736816,-0.02345079742372036,-0.054640911519527435,0.03120124340057373,0.03990578651428223,0.0039047417230904102,-0.012378736399114132,0.07244756817817688,6.228277925401926E-4,-0.027872584760189056,-0.07610014081001282,-0.0242327693849802,0.09666053205728531,0.07743772119283676,-0.03693827614188194,-0.0437944270670414,0.09092327952384949,-0.10550712049007416,-0.008414536714553833,0.03835119307041168,-0.05965280160307884,0.11392145603895187,0.029275475069880486,-0.07317792624235153,0.0718143954873085,0.08142538368701935,-0.0037729376927018166,0.0405907928943634,0.0021388710010796785,0.036065444350242615,0.04237060993909836,-0.025007780641317368,-0.053011514246463776,-6.106290966272354E-4,-0.04600028321146965,-0.07180687040090561,-0.010165985673666,0.02330750785768032,0.0371440052986145,-0.03820626065135002,-0.061741042882204056,0.07231111079454422,-0.03314771503210068,-0.005222027190029621,-0.05210624262690544,-0.18659237027168274,0.029091324657201767,0.05553959682583809,-0.051336053758859634,0.029342738911509514,0.060880161821842194,0.022618582472205162,0.013645362108945847,0.08324636518955231,-0.12078648060560226,-0.007134514395147562,0.061440251767635345,-0.009603941813111305,0.08606128394603729,0.0819135308265686,-0.005786648485809565,0.017944497987627983,0.010586543008685112]                                                                        |\n",
      "|temperature, |[0.1365167647600174,0.08254122734069824,-0.08328799903392792,0.11532103270292282,0.04084586724638939,-0.09704776108264923,-0.07901988178491592,-0.0635969340801239,0.1419486105442047,-0.10019847750663757,-0.1412697285413742,-0.06932021677494049,-0.1652088463306427,-0.19195780158042908,-0.11388250440359116,-6.930478848516941E-4,0.08936461806297302,-0.16809898614883423,-0.3365974426269531,-0.12459444254636765,0.048299092799425125,0.024725796654820442,0.08885586261749268,0.287274569272995,0.01164355967193842,-0.09802184998989105,-0.032103750854730606,-0.07233785092830658,0.024989981204271317,-0.0780571699142456,0.25321274995803833,-0.030749645084142685,0.003218837082386017,-0.16871431469917297,-0.15821023285388947,5.40174194611609E-4,0.03796997666358948,0.08181993663311005,-0.045641787350177765,-0.15656410157680511,0.007045243866741657,-0.07812923192977905,0.1184988021850586,-0.20534519851207733,0.14873172342777252,0.16383224725723267,-0.062057409435510635,0.12020348012447357,0.008350202813744545,-0.10379312187433243,0.13415472209453583,-0.14975570142269135,-0.12642155587673187,-0.010213769041001797,-0.04562193527817726,0.0931050032377243,0.1669469177722931,-0.038018546998500824,0.012792214751243591,-0.10222549736499786,0.10804415494203568,0.12608610093593597,0.16142822802066803,0.09767994284629822,0.07649660855531693,-0.01107695885002613,0.09301779419183731,-0.024401351809501648,-0.041204098612070084,0.01370509248226881,-0.010031958110630512,0.068637415766716,-0.06849528849124908,0.01795133575797081,-0.01018353458493948,0.04916795715689659,0.07559051364660263,-0.11682099103927612,-0.1322607398033142,0.02755241096019745,0.014980869367718697,0.028850132599473,0.015296295285224915,0.28073960542678833,0.026662468910217285,-0.15420541167259216,-0.04639149084687233,0.04128829017281532,-0.07066678255796432,-0.15592381358146667,0.041231539100408554,-0.11218898743391037,0.024982517585158348,0.07877122610807419,-0.10214071720838547,0.12038099765777588,0.18117868900299072,0.025961443781852722,0.17123334109783173,0.021042993292212486]                                                                                                        |\n",
      "|metallicities|[-0.034755248576402664,0.013029905967414379,0.04250611737370491,-0.0216506477445364,0.03968648239970207,-0.03470373526215553,-0.004056938458234072,-0.06435279548168182,0.04211501404643059,-0.02508038468658924,0.0038599781692028046,0.009841096587479115,0.07757509499788284,-0.10144758969545364,-0.01649804413318634,0.017886102199554443,0.10188183188438416,-0.0325503833591938,-0.05831144005060196,-0.036827217787504196,-0.01576978527009487,0.025655675679445267,-0.019029442220926285,0.0173980463296175,-0.019049813970923424,-0.13658933341503143,-0.013972305692732334,-9.66060149949044E-4,0.05512981116771698,3.64080595318228E-4,0.14902330935001373,0.03867064416408539,0.033004049211740494,0.02439717948436737,-0.04731588065624237,0.0051701986230909824,-0.03986842930316925,0.028747741132974625,-0.138361856341362,-0.03932139277458191,-0.040278125554323196,-0.013679525814950466,0.036196690052747726,-0.014669363386929035,0.021996602416038513,0.003996196668595076,-0.004451748915016651,0.03628060594201088,0.014175744727253914,-0.02219277061522007,0.0641242116689682,0.06588125228881836,-0.008222647942602634,0.07681530714035034,-0.03211430087685585,-0.012548776343464851,-0.025215215981006622,-0.0816352367401123,-0.02654961869120598,-0.06396403163671494,0.05140376463532448,0.0743773803114891,0.07369031757116318,0.011913815513253212,0.11965751647949219,0.03649537265300751,-0.038314469158649445,0.019756382331252098,-0.014153058640658855,0.00863567553460598,-0.04463636130094528,-0.05812438949942589,-0.06376189738512039,0.003478314494714141,-0.005008630454540253,0.005612749606370926,0.014418371953070164,-6.45350432023406E-4,0.04476495832204819,-0.024764280766248703,0.028510577976703644,-0.0627221092581749,-0.0066392389126122,0.055659219622612,0.018164552748203278,-0.04394231736660004,0.076012521982193,0.0468200221657753,0.03489801660180092,0.015386177226901054,0.08350951224565506,-0.015710173174738884,-0.029283326119184494,0.048513997346162796,-0.026743650436401367,0.004059706814587116,0.08141116052865982,-0.053261518478393555,0.09363304823637009,0.03892601281404495]                                                                                |\n",
      "|sectors      |[0.03193521127104759,-0.058455705642700195,-0.0025706880260258913,-0.04538482055068016,-0.05767016485333443,-0.030062515288591385,-0.03837047889828682,-0.002153068548068404,0.02552979066967964,0.008397743105888367,0.08640448749065399,-0.014503118582069874,-0.02189749851822853,-0.025677014142274857,-0.022091558203101158,0.029642608016729355,0.062256596982479095,-0.01503962092101574,0.006116990465670824,-0.028355909511446953,4.4046947732567787E-4,-0.08347313851118088,0.055314961820840836,0.01296819094568491,-0.002853602869436145,-0.09437309950590134,-0.012419883161783218,-0.01013745553791523,0.04047224298119545,-0.007462458219379187,0.07437267154455185,0.034569915384054184,-0.015844527631998062,-0.044609930366277695,-0.006187144201248884,-0.037670351564884186,-0.04524889588356018,0.05754603445529938,-0.06941936910152435,-0.033367376774549484,0.03613663092255592,-0.022285405546426773,0.03779972717165947,0.044935304671525955,0.06312111765146255,-0.07077913731336594,0.025760453194379807,0.03553835675120354,0.006504186429083347,0.0034858740400522947,0.006849524099379778,0.016166435554623604,-0.04986075311899185,0.05682747811079025,0.041274528950452805,0.049880146980285645,-0.0420355461537838,0.0021233975421637297,0.009603832848370075,-0.006446448154747486,-0.07250387221574783,0.018995027989149094,0.05293646082282066,0.023274745792150497,-0.0052092419937253,-0.04035654664039612,-0.0645311176776886,0.012055134400725365,-7.420138572342694E-4,-0.06932870298624039,0.01983296498656273,-0.07848801463842392,-0.035217009484767914,-0.052948247641325,0.03373630717396736,0.051392361521720886,0.012918408960103989,-0.03395862504839897,0.08729732781648636,-0.009211696684360504,0.0037020668387413025,-0.03473372384905815,-0.10026681423187256,-0.014148851856589317,-0.003844332415610552,-0.05204650014638901,0.05351121351122856,0.05051911994814873,0.01656527817249298,0.02457982674241066,0.04704863578081131,-0.05051250010728836,-0.015989068895578384,0.0236077718436718,-0.03718157485127449,0.027402322739362717,0.030454525724053383,-0.03550594300031662,0.043787114322185516,0.004839714616537094]                                                         |\n",
      "|maurer-cartan|[0.032150473445653915,0.0012053842656314373,-0.017591290175914764,0.01271869521588087,-0.005701947491616011,0.019902914762496948,-0.020736027508974075,0.0340242013335228,-0.004120557568967342,-0.024121690541505814,0.017397545278072357,-0.019272448495030403,-0.04459322243928909,0.031057290732860565,-0.025032687932252884,0.016104869544506073,0.006390799768269062,0.007231475785374641,-0.0023335900623351336,0.010707360692322254,-0.009291417896747589,-0.06983725726604462,0.020124785602092743,0.014158649370074272,-0.010187397710978985,0.03853388875722885,-0.004287207964807749,-0.02952389419078827,0.005323501303792,-0.00791211798787117,-0.024450797587633133,-0.018448662012815475,0.007049214094877243,-0.02548329532146454,0.005901949480175972,-0.0058592697605490685,0.0029640579596161842,0.015906954184174538,0.018107807263731956,-0.016294393688440323,0.00104939891025424,-0.049449894577264786,0.0019748408813029528,-0.009251579642295837,-0.005690302234143019,-0.030224677175283432,-0.003942983224987984,-0.015463042072951794,0.012754607014358044,0.004179876763373613,-0.010156404227018356,-0.014487466774880886,-0.028023237362504005,-0.026673996821045876,-0.014557192102074623,0.0030830558389425278,0.002047962974756956,0.022375641390681267,0.030211206525564194,0.025342347100377083,0.006475815549492836,-0.045745305716991425,-0.0015752329491078854,-0.018482478335499763,-0.03458771854639053,-0.009086464531719685,0.003129097167402506,-0.003092053811997175,-0.024443842470645905,-0.014179693534970284,-0.024524055421352386,0.012432396411895752,0.04564853012561798,-0.012721024453639984,-0.00943582970649004,0.007073774002492428,-0.0045716241002082825,0.018758388236165047,-0.007742203772068024,0.012014071457087994,2.7480802964419127E-4,0.02215738594532013,-0.014387041330337524,0.026677347719669342,-0.01852344162762165,-0.007368877995759249,-0.007106172852218151,0.013790668919682503,-0.020751677453517914,-0.0031262391712516546,-0.02105819247663021,0.02022349089384079,8.381207007914782E-4,0.02200671099126339,0.003656575456261635,0.008664039894938469,0.0191244725137949,0.00942100491374731,-0.003546616993844509,0.01826614886522293]                     |\n",
      "|(3d)         |[0.004764001816511154,-0.013470522128045559,-0.0025768852792680264,-0.00717050489038229,0.024678930640220642,0.0078840721398592,-0.008694363757967949,-0.007093350403010845,-0.016689470037817955,0.001192883588373661,0.0011201375164091587,-0.013982577249407768,3.957417793571949E-4,-0.049651723355054855,0.014246098697185516,-0.033802445977926254,0.009437428787350655,0.00281025399453938,-0.0055708568543195724,-0.008786303922533989,0.012510085478425026,0.017063865438103676,0.007003581151366234,-0.012609753757715225,0.011524009518325329,-0.0019614961929619312,0.006013346835970879,0.026001889258623123,0.0313301607966423,-3.7804385647177696E-4,-0.021392647176980972,-0.0027007567696273327,0.007571130059659481,0.036027777940034866,0.02233310416340828,-0.005671421531587839,-0.02015281841158867,-0.01582970842719078,1.0096991900354624E-4,0.03229958936572075,-0.012725763022899628,0.005674733780324459,-0.004049176815897226,-0.022740771993994713,-0.03239712864160538,-0.011293021030724049,0.012835505418479443,0.008770771324634552,0.012530975043773651,-0.023273536935448647,0.016782056540250778,0.03550361096858978,-0.007596385665237904,-0.0211404487490654,0.0032214089296758175,-0.008320970460772514,-0.011924692429602146,-0.010757947340607643,0.012650469318032265,-0.014960925094783306,-0.0033981078304350376,0.006139103323221207,-0.0077477372251451015,0.005028869956731796,-0.0022469009272754192,-0.001998073188588023,-0.005476091988384724,-0.02213677205145359,0.006402797065675259,0.02340545691549778,-0.010336979292333126,0.03185972571372986,-0.004370228853076696,0.018973415717482567,-0.0177505724132061,-0.02968541346490383,0.016083937138319016,0.022112715989351273,0.003744638990610838,0.007135789841413498,-0.020160572603344917,0.02830236777663231,0.02578839287161827,0.009975815191864967,-0.0029263081960380077,0.023557230830192566,-0.04379929229617119,-0.022704221308231354,0.026714161038398743,-0.012231825850903988,-0.02141730487346649,0.007160855922847986,0.029240231961011887,0.020350344479084015,0.02945888601243496,0.014565655961632729,0.004277212079614401,0.019666148349642754,0.015070714987814426,-0.004821298643946648]                       |\n",
      "|embedded     |[0.07688798755407333,-0.004801803734153509,-0.031965650618076324,-0.01993398368358612,-0.03032328560948372,-0.06688011437654495,-0.104758620262146,0.16336387395858765,0.034791458398103714,-0.010166758671402931,-0.011335937306284904,0.04136078804731369,-0.18656215071678162,0.05668620392680168,7.814688724465668E-4,-0.10673754662275314,0.0707191452383995,0.08734254539012909,0.09142208844423294,-0.07637888938188553,0.13611085712909698,0.046415310353040695,0.052870891988277435,-0.02245953120291233,0.05464286357164383,0.046712566167116165,-0.013089991174638271,0.043463725596666336,0.13678815960884094,0.019855501130223274,-0.045950017869472504,-0.1337161362171173,0.03939967602491379,0.06680396944284439,-0.04069875180721283,-0.07083676755428314,-0.06878343224525452,0.03225944936275482,0.042287811636924744,0.01697709411382675,-0.052633825689554214,-0.037375275045633316,0.15722808241844177,0.031110182404518127,-0.02991657517850399,0.11517515033483505,0.08499318361282349,-0.018602441996335983,0.024004528298974037,-0.1053219586610794,-0.09622569382190704,-0.050908900797367096,-0.11165201663970947,-0.03558074310421944,-0.06824417412281036,0.08467043191194534,0.09598882496356964,-0.016016047447919846,0.06183379516005516,0.15315157175064087,-0.2338082194328308,-0.041364118456840515,-0.08226930350065231,0.13050560653209686,-0.019319981336593628,0.08898723870515823,0.059117641299963,-0.04663277789950371,-0.029040921479463577,-0.09471127390861511,0.13056576251983643,-0.09198644757270813,0.023259155452251434,0.07221504300832748,-0.03639435023069382,-0.11694630980491638,-0.04295619949698448,0.09721671789884567,0.2098388522863388,-0.12513621151447296,-0.03391176462173462,-0.007032208144664764,-0.15568570792675018,-0.08464400470256805,0.21283021569252014,0.03558773174881935,-0.03132201358675957,-0.05564802885055542,0.03096533566713333,-0.0010155580239370465,0.028770307078957558,-0.025672903284430504,-0.010633249767124653,0.02987532690167427,0.21557877957820892,0.20277230441570282,0.07108835875988007,-0.02618476003408432,0.0629880502820015,-0.0812169760465622]                                                                                      |\n",
      "|ignition     |[0.0077174450270831585,-0.05844441428780556,0.03833160176873207,-0.015500068664550781,-0.04582909122109413,0.004049837123602629,-0.022140314802527428,-0.03839020058512688,-0.0042131925001740456,-0.041177935898303986,0.048968635499477386,-0.011018016375601292,-0.02468777447938919,0.016860896721482277,-0.009861642494797707,-0.05005064606666565,-0.006971557158976793,0.030182650312781334,0.023319395259022713,-0.00230530952103436,0.011862056329846382,-0.07561074197292328,0.013314902782440186,0.0049895066767930984,-0.049761321395635605,-0.03702642768621445,-0.031138349324464798,-0.008438603021204472,9.111884864978492E-4,-0.013558230362832546,-0.012110953219234943,0.020633891224861145,-0.03920775279402733,-0.027463078498840332,0.05991658568382263,-0.003339398419484496,-0.020222961902618408,0.03668828681111336,-0.060269709676504135,-0.007530813571065664,0.024627186357975006,-0.025136785581707954,-0.03060890920460224,0.05389885604381561,0.007685274351388216,-0.019744040444493294,0.03719809278845787,-0.013349378481507301,-0.01867871731519699,-0.009830816648900509,-0.01636834628880024,-0.006801363080739975,0.006459001451730728,0.017630955204367638,0.00521535100415349,0.020381497219204903,-0.04089254513382912,-0.03505924716591835,-0.027898292988538742,-0.007148270960897207,0.017050765454769135,-0.016091711819171906,0.006457387004047632,-0.033173058182001114,-0.015283371321856976,-0.01965992897748947,-0.06797611713409424,-0.005475712940096855,0.001225755549967289,0.040716417133808136,-0.013975448906421661,-0.008840895257890224,0.004221115726977587,-0.03763308376073837,0.009589982219040394,0.036519605666399,0.04225851595401764,-0.0048980265855789185,-0.014476587064564228,0.03060910291969776,0.007335101719945669,-0.048416055738925934,-0.007848829962313175,-0.0035981303080916405,-0.017840029671788216,-0.012996111065149307,0.004650297109037638,0.0011162521550431848,0.007452851161360741,-0.0022729902993887663,0.036891452968120575,-0.002775672124698758,-0.021327996626496315,-0.003284966805949807,-0.03334040194749832,-0.0076041747815907,-0.013568595051765442,-0.0298124048858881,0.022414200007915497,0.01683049090206623]                       |\n",
      "|evanescent   |[0.011049415916204453,0.045361001044511795,-0.008824014104902744,-0.014588871039450169,2.7142782346345484E-4,-0.03527858108282089,-0.028711672872304916,-0.01491076685488224,0.019708475098013878,-0.026098962873220444,0.001910259947180748,0.009603905491530895,-0.03084012307226658,-0.0416511595249176,-0.004457306582480669,-0.01790769025683403,0.03189058601856232,-0.020616183057427406,-0.03680771216750145,-0.030160631984472275,0.027050061151385307,-0.025682082399725914,0.02827712893486023,0.0243525430560112,0.027973659336566925,0.0010538325877860188,-0.03452620282769203,0.010119163431227207,0.008713177405297756,0.004835112486034632,0.009428324177861214,-0.03304939717054367,-0.0037921981420367956,-0.004317937418818474,0.0027351074386388063,-0.04076351970434189,-0.042124342173337936,0.02110069803893566,-0.04416295140981674,-0.03798116743564606,0.024326995015144348,-0.032430220395326614,0.030279919505119324,-0.013672126457095146,-0.01749507524073124,-0.013997538946568966,0.008954371325671673,-0.019375737756490707,0.01941581629216671,0.013055739924311638,0.06721571832895279,0.014790287241339684,0.011451220139861107,-0.01727982424199581,0.013007594272494316,0.010398095473647118,-0.004677837714552879,-0.006167095620185137,0.017646556720137596,-0.013204474933445454,0.028746355324983597,0.0016272092470899224,-0.01199552696198225,0.010842611081898212,0.015560019761323929,0.009563738480210304,0.006743409670889378,-3.2120797550305724E-4,0.012723573483526707,5.775446188636124E-4,-0.005243671126663685,-0.036981333047151566,-0.0477108508348465,-0.015911418944597244,0.006507442332804203,0.04213336482644081,0.018622703850269318,0.011118789203464985,-0.007777610328048468,-0.023870838806033134,0.0340208001434803,-0.0055204774253070354,-0.003647052915766835,0.01357162557542324,0.013238229788839817,0.010703598149120808,-0.011070969514548779,0.034802816808223724,0.011327835731208324,-0.008393460884690285,0.03947564214468002,-0.010741883888840675,0.0318019837141037,0.04514363408088684,-0.00594232976436615,0.011887315660715103,0.037796132266521454,0.013766501098871231,0.0430278442800045,-0.003814808325842023]                                        |\n",
      "|back-action  |[0.00840767752379179,0.00514841265976429,0.013849540613591671,-0.0034516812302172184,-0.017704050987958908,-0.0021413948852568865,0.03202211856842041,-0.0023307763040065765,0.005559488199651241,0.01680782623589039,-0.011129788123071194,-0.006920706480741501,0.002830919809639454,-0.002326078712940216,-6.724123377352953E-4,-0.004806001204997301,-0.011314377188682556,0.010867618024349213,0.013751821592450142,-0.0016564959660172462,0.0044199819676578045,-0.0048379115760326385,0.008097919635474682,7.726079784333706E-4,0.014610515907406807,-0.0045666443184018135,0.02053750306367874,-0.013987148180603981,0.011014741845428944,-0.004031948745250702,0.011212261393666267,-0.013427051715552807,0.004419180564582348,-0.017162565141916275,-0.01703707128763199,-0.007588027976453304,0.016681404784321785,-0.01777064986526966,-0.0020930415485054255,-0.007782452739775181,-0.006676819175481796,-0.010980525985360146,-0.028969019651412964,0.028262723237276077,-0.008151612244546413,0.0032414530869573355,0.02375701442360878,-0.02344471402466297,-0.004543065559118986,0.021984312683343887,-0.007399541325867176,0.0022066892124712467,-0.012341990135610104,-0.013026156462728977,0.014313402585685253,-0.006889156065881252,0.030186930671334267,-0.012554298155009747,-0.0014096542727202177,0.012192459776997566,-0.017716173082590103,-0.007391085848212242,-0.023516952991485596,-0.002291694050654769,-0.014502661302685738,0.022135252133011818,0.0072949547320604324,-6.79398188367486E-4,-0.003305883379653096,-0.01986326463520527,0.030885115265846252,-0.014697838574647903,-0.005066546145826578,0.01521353330463171,-0.00498767476528883,-0.010966509580612183,0.021142084151506424,0.012761138379573822,0.012097090482711792,-0.028750086203217506,-0.01821398362517357,-0.045622970908880234,-0.03134964033961296,0.0015249360585585237,0.0069260853342711926,-0.024795621633529663,0.01527593843638897,0.00499645434319973,-0.0053681498393416405,0.02019282430410385,-0.003881626995280385,-0.02349664643406868,-0.0049414923414587975,-0.0014850716106593609,-0.004584829322993755,3.5397650208324194E-5,0.002930842339992523,-0.007359708193689585,0.007529749069362879,-0.011647796258330345]|\n",
      "|periodicity  |[0.014966334216296673,-0.03154876083135605,-0.02809242717921734,-0.020118961110711098,-0.01830757036805153,-0.07734854519367218,-0.0878390297293663,-0.04814767464995384,-0.01668020710349083,-0.007547570858150721,-0.009727925062179565,0.05664850026369095,-0.052080873399972916,-0.022345220670104027,-0.03551400825381279,-0.012009093537926674,0.018808353692293167,-0.026753036305308342,0.014955626800656319,-0.07880041003227234,-0.05451972410082817,-0.08155050873756409,0.009757052175700665,0.005529827903956175,0.01894066296517849,-0.0972769632935524,-0.017877496778964996,-0.028052255511283875,0.007118491921573877,-0.04486586153507233,0.01180596649646759,-0.045313362032175064,-0.0013812209945172071,-0.024062233045697212,-0.04084897041320801,-0.06917832046747208,-0.0585566945374012,0.006714255549013615,-0.034078288823366165,-0.05587398633360863,0.010700943879783154,-0.019931526854634285,0.08206020295619965,0.015577657148241997,0.052912816405296326,0.03556695953011513,0.020895106717944145,-0.03203251212835312,-0.026812860742211342,0.010246491059660912,-0.019464954733848572,-0.019311802461743355,0.03691807761788368,-0.002480508992448449,0.05713680014014244,0.017766200006008148,-0.0033401059918105602,0.002538661938160658,-0.026973221451044083,-0.10290736705064774,0.021629193797707558,0.02279282733798027,0.040663737803697586,-3.7593572051264346E-4,0.05077410861849785,1.5342835104092956E-4,-0.011403100565075874,0.01783667877316475,0.030414007604122162,0.0560886524617672,0.042724162340164185,-0.05705710127949715,-0.0727648064494133,-0.05087905377149582,-0.018572548404335976,0.07326897978782654,-0.025295725092291832,0.03410683572292328,0.036854829639196396,0.03635875880718231,0.079473577439785,-0.02469087764620781,0.004300522152334452,0.0093852449208498,0.04900803416967392,0.028857506811618805,-0.03895547613501549,-4.500854993239045E-5,-0.028752949088811874,-0.04694822430610657,0.01669381558895111,0.05678306892514229,0.008322385139763355,-0.022175142541527748,-0.040730323642492294,0.03348153457045555,0.005956375040113926,-0.03778722137212753,0.11035339534282684,0.03433433175086975]                                                        |\n",
      "|expansion.   |[0.04284634813666344,0.002551100682467222,-0.01107204332947731,0.0024896240793168545,-0.03337745741009712,-0.008118157275021076,-0.003151628654450178,-0.012133440002799034,-0.029683765023946762,-0.06745996326208115,0.03298969566822052,-0.02837286703288555,-0.06831434369087219,0.03248177096247673,-0.05373680591583252,0.005505815148353577,-0.01242530345916748,-0.02843383327126503,0.009721031412482262,0.004478796385228634,-0.014837397262454033,-0.009469648823142052,0.003516710363328457,0.02396046370267868,-0.013674328103661537,-0.0025219819508492947,-0.05037008225917816,-0.031544268131256104,0.035045091062784195,-0.049375519156455994,-0.029414014890789986,-0.04343093931674957,-0.05542740225791931,-0.029539430513978004,0.0038877346087247133,-0.012937561608850956,-0.05051727220416069,0.0014546139864251018,-0.023966113105416298,-0.030585041269659996,0.004574881400913,-0.07771182060241699,0.02383856102824211,0.0046301051042973995,0.003531294409185648,0.035935379564762115,-0.0012379083782434464,-0.007921844720840454,0.006477891001850367,0.004636066500097513,0.04606371372938156,-0.04368346557021141,-0.04247890040278435,0.004538377281278372,0.016453469172120094,0.04759816825389862,0.01724017783999443,-0.0020270468667149544,0.011373225599527359,0.06016731634736061,0.05516874045133591,-0.0458005890250206,0.010487664490938187,-0.030814656987786293,-0.027086669579148293,-0.011174350045621395,0.018056243658065796,-0.008850143291056156,-0.0213098656386137,0.04626274108886719,0.007056859787553549,0.0016509820707142353,-0.051807016134262085,-0.029362017288804054,-4.7694536624476314E-4,0.04469938576221466,0.007258998230099678,-6.42637547571212E-4,0.020153837278485298,-0.028434565290808678,0.003801139537245035,-0.016338996589183807,-0.03235238790512085,0.011968705803155899,0.08504793792963028,-0.012437782250344753,-0.06698177754878998,0.024500293657183647,0.021732114255428314,-0.022632654756307602,0.035785507410764694,0.09704983234405518,0.0027666969690471888,0.006329005118459463,-0.014954597689211369,0.05612678825855255,0.012478235177695751,-0.006069674156606197,0.008186426013708115,0.03237218037247658]                                      |\n",
      "|algebras.    |[-0.09770218282938004,-0.010523802600800991,-0.039383891969919205,-0.07228070497512817,0.05572125315666199,0.060530804097652435,0.02146466262638569,0.11235487461090088,-0.03940659388899803,-0.18816109001636505,0.12081573158502579,0.008939605206251144,0.07610825449228287,0.135503351688385,-0.11554034054279327,0.1902032047510147,0.07907053828239441,-0.028027845546603203,0.05682574585080147,-0.015440648421645164,0.07572735846042633,-0.012217688374221325,-0.050503380596637726,-0.09049676358699799,-0.06428889185190201,0.11674167215824127,-0.08531885594129562,0.02475130744278431,-0.12625636160373688,0.1416158378124237,-0.10691525042057037,-0.010679914616048336,-0.041335579007864,0.054505497217178345,0.16145072877407074,0.00892059225589037,-0.03392145410180092,0.09594213962554932,0.03229812532663345,-0.04466453194618225,0.06448095291852951,-0.008485156111419201,-0.0861426293849945,-0.008558354340493679,-0.09614032506942749,-0.059463586658239365,-0.08711202442646027,-0.09328831732273102,0.13268066942691803,0.0665905624628067,0.004245642106980085,-0.07244381308555603,-0.03689371794462204,-0.003722434863448143,-0.05531557649374008,0.09826499223709106,0.015783214941620827,0.1434638798236847,0.2178700566291809,0.18146026134490967,0.17410704493522644,-0.18485702574253082,0.029136572033166885,-0.06604776531457901,-0.17681750655174255,0.02390488237142563,1.8242481746710837E-4,-0.1556774079799652,-0.12364862114191055,-0.007110136095434427,0.029073456302285194,-0.009853123687207699,0.09988719969987869,0.026482949033379555,0.07994747906923294,0.11994879692792892,-0.006283350754529238,0.033365774899721146,0.14100082218647003,-0.07194866240024567,0.01938728056848049,0.1486632376909256,-0.08208576589822769,-0.1987198293209076,-0.11590726673603058,0.10830233246088028,-0.03785800561308861,0.07051683217287064,0.12946245074272156,0.2739124000072479,-0.02514784038066864,0.13322678208351135,0.04927212372422218,0.044638216495513916,0.11664068698883057,-0.06281435489654541,-0.07630559802055359,0.06618892401456833,-0.15811249613761902,0.03216417506337166]                                                                                                  |\n",
      "+-------------+-----------------------------------------------------------------------------------------------------------------------------------------------------------------------------------------------------------------------------------------------------------------------------------------------------------------------------------------------------------------------------------------------------------------------------------------------------------------------------------------------------------------------------------------------------------------------------------------------------------------------------------------------------------------------------------------------------------------------------------------------------------------------------------------------------------------------------------------------------------------------------------------------------------------------------------------------------------------------------------------------------------------------------------------------------------------------------------------------------------------------------------------------------------------------------------------------------------------------------------------------------------------------------------------------------------------------------------------------------------------------------------------------------------------------------------------------------------------------------------------------------------------------------------------------------------------------------------------------------------------------------------------------------------------------------------------------------------------------------------------------------------------------------------------------------------------------------------------------------------------------------------------------------------------------------------------------------------------------------------------------------------------------------------------------------------------------------------------------------------------------------------------------------------------------------------------------------------------------------------------------+\n",
      "only showing top 20 rows\n",
      "\n"
     ]
    }
   ],
   "source": [
    "model.getVectors().show(truncate=False)"
   ]
  },
  {
   "cell_type": "code",
   "execution_count": 22,
   "metadata": {},
   "outputs": [
    {
     "name": "stdout",
     "output_type": "stream",
     "text": [
      "+------------------------------------------+\n",
      "|words                                     |\n",
      "+------------------------------------------+\n",
      "|[hi, i, heard, about, spark]              |\n",
      "|[i, wish, java, could, use, case, classes]|\n",
      "|[logistic,regression,models,are,neat]     |\n",
      "+------------------------------------------+\n",
      "\n"
     ]
    }
   ],
   "source": [
    "# use tokenizer to split words\n",
    "from pyspark.ml.feature import Tokenizer\n",
    "# create a simple example dataframe with a single column called \"text\"\n",
    "sc = init_spark()[0]\n",
    "data = sc.createDataFrame([\n",
    "    (0, \"Hi I heard about Spark\"),\n",
    "    (1, \"I wish Java could use case classes\"),\n",
    "    (2, \"Logistic,regression,models,are,neat\")\n",
    "], [\"id\", \"text\"])\n",
    "\n",
    "\n",
    "# use tokenizer to split words\n",
    "tokenizer = Tokenizer(inputCol=\"text\", outputCol=\"words\")\n",
    "tokenized = tokenizer.transform(data)\n",
    "# view the transformed column\n",
    "tokenized.select(\"words\").show(truncate=False)\n",
    "# view data\n",
    "# data.show(1)\n",
    "\n"
   ]
  },
  {
   "cell_type": "code",
   "execution_count": 99,
   "metadata": {},
   "outputs": [
    {
     "name": "stdout",
     "output_type": "stream",
     "text": [
      "!\"#$%&'()*+,-./:;<=>?@[\\]^_`{|}~\n"
     ]
    }
   ],
   "source": []
  }
 ],
 "metadata": {
  "kernelspec": {
   "display_name": "Python 3",
   "language": "python",
   "name": "python3"
  },
  "language_info": {
   "codemirror_mode": {
    "name": "ipython",
    "version": 3
   },
   "file_extension": ".py",
   "mimetype": "text/x-python",
   "name": "python",
   "nbconvert_exporter": "python",
   "pygments_lexer": "ipython3",
   "version": "3.9.2"
  }
 },
 "nbformat": 4,
 "nbformat_minor": 2
}
