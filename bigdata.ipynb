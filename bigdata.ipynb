{
 "cells": [
  {
   "cell_type": "code",
   "execution_count": 1,
   "metadata": {},
   "outputs": [],
   "source": [
    "import os\n",
    "import sys\n",
    "from pyspark.sql import SparkSession\n",
    "from pyspark.ml.feature import Word2Vec, Tokenizer, StandardScaler\n",
    "from pyspark.sql.functions import regexp_replace, lower, col, udf, asc, desc, explode\n",
    "from pyspark.sql.functions import split, size, array_join\n",
    "from pyspark.sql.types import StringType, ArrayType\n",
    "from pyspark.ml.classification import RandomForestClassifier, NaiveBayes, LogisticRegression\n",
    "from pyspark.ml.feature import RegexTokenizer, StopWordsRemover, CountVectorizer\n",
    "\n",
    "from pyspark.ml.clustering import KMeans\n",
    "from pyspark.ml.evaluation import ClusteringEvaluator\n",
    "from pyspark.ml.feature import StringIndexer, Tokenizer, HashingTF, IDF\n",
    "from pyspark.ml.classification import LogisticRegression\n",
    "from pyspark.ml import Pipeline\n",
    "from pyspark.ml.evaluation import MulticlassClassificationEvaluator\n",
    "\n",
    "import re\n",
    "import spacy\n",
    "import nltk\n",
    "from nltk.corpus import stopwords\n",
    "\n",
    "from datetime import datetime\n",
    "import matplotlib.pyplot as plt\n",
    "\n",
    "from gensim import corpora, models\n",
    "import numpy as np\n",
    "\n",
    "from operator import contains\n",
    "from wordcloud import WordCloud, STOPWORDS\n",
    "\n",
    "# Needed on RaaS\n",
    "os.environ['PYSPARK_PYTHON'] = sys.executable\n",
    "\n",
    "# Not needed\n",
    "# os.environ['PYSPARK_DRIVER_PYTHON'] = sys.executable\n",
    "\n",
    "# cred ca vrea sa fie rulat totusi"
   ]
  },
  {
   "cell_type": "code",
   "execution_count": 2,
   "metadata": {},
   "outputs": [],
   "source": [
    "PATH = '/home/ubuntu/data/arxiv.json'"
   ]
  },
  {
   "cell_type": "code",
   "execution_count": 3,
   "metadata": {},
   "outputs": [],
   "source": [
    "def init_spark():\n",
    "  spark = SparkSession.builder.config(\"spark.driver.memory\", \"5g\").\\\n",
    "                              appName(\"BigData\").getOrCreate()\n",
    "  \n",
    "  sc = spark.sparkContext\n",
    "  return spark, sc"
   ]
  },
  {
   "cell_type": "markdown",
   "metadata": {},
   "source": [
    "## **Preprocess dataset for training and testing.**"
   ]
  },
  {
   "cell_type": "code",
   "execution_count": 4,
   "metadata": {},
   "outputs": [],
   "source": [
    "def get_sample_from_file(file_name, output_file, sample_size = 10_000):\n",
    "    \"\"\"\n",
    "    Reads a file and extracts a sample of lines from it.\n",
    "    \n",
    "    Parameters:\n",
    "    file_name (str): The name of the input file.\n",
    "    output_file (str): The name of the output file where the sample will be written.\n",
    "    sample_size (int): The number of lines to extract from the input file. Default is 10,000.\n",
    "    \"\"\"\n",
    "    \n",
    "    content = \"\"\n",
    "    with open(file_name, \"r\") as f:\n",
    "        for i in range(sample_size):\n",
    "            content += f.readline()\n",
    "\n",
    "    with open(output_file, \"w\") as f:\n",
    "        f.write(content)"
   ]
  },
  {
   "cell_type": "code",
   "execution_count": 5,
   "metadata": {},
   "outputs": [],
   "source": [
    "def load_data_from_json(spark, file_name):\n",
    "    return spark.read.json(file_name)"
   ]
  },
  {
   "cell_type": "markdown",
   "metadata": {},
   "source": [
    "### Initialize Context and Load Sample"
   ]
  },
  {
   "cell_type": "code",
   "execution_count": 6,
   "metadata": {},
   "outputs": [
    {
     "name": "stderr",
     "output_type": "stream",
     "text": [
      "Setting default log level to \"WARN\".\n",
      "To adjust logging level use sc.setLogLevel(newLevel). For SparkR, use setLogLevel(newLevel).\n",
      "24/01/18 20:34:30 WARN NativeCodeLoader: Unable to load native-hadoop library for your platform... using builtin-java classes where applicable\n",
      "                                                                                \r"
     ]
    }
   ],
   "source": [
    "sc = init_spark()[0]\n",
    "arxiv_dataset = load_data_from_json(sc, PATH)"
   ]
  },
  {
   "cell_type": "markdown",
   "metadata": {},
   "source": [
    "## **Clean dataset**"
   ]
  },
  {
   "cell_type": "markdown",
   "metadata": {},
   "source": [
    "### Searcing for missing values"
   ]
  },
  {
   "cell_type": "code",
   "execution_count": 8,
   "metadata": {},
   "outputs": [
    {
     "name": "stderr",
     "output_type": "stream",
     "text": [
      "                                                                                \r"
     ]
    },
    {
     "name": "stdout",
     "output_type": "stream",
     "text": [
      "Number of missing values in abstract column:  0\n"
     ]
    },
    {
     "name": "stderr",
     "output_type": "stream",
     "text": [
      "                                                                                \r"
     ]
    },
    {
     "name": "stdout",
     "output_type": "stream",
     "text": [
      "Number of missing values in title column:  0\n"
     ]
    },
    {
     "name": "stderr",
     "output_type": "stream",
     "text": [
      "                                                                                \r"
     ]
    },
    {
     "name": "stdout",
     "output_type": "stream",
     "text": [
      "Number of missing values in categories column:  0\n"
     ]
    },
    {
     "name": "stderr",
     "output_type": "stream",
     "text": [
      "                                                                                \r"
     ]
    },
    {
     "name": "stdout",
     "output_type": "stream",
     "text": [
      "Number of missing values in id column:  0\n"
     ]
    },
    {
     "name": "stderr",
     "output_type": "stream",
     "text": [
      "                                                                                \r"
     ]
    },
    {
     "name": "stdout",
     "output_type": "stream",
     "text": [
      "Number of missing values in submitter column:  15189\n"
     ]
    },
    {
     "name": "stderr",
     "output_type": "stream",
     "text": [
      "                                                                                \r"
     ]
    },
    {
     "name": "stdout",
     "output_type": "stream",
     "text": [
      "Number of missing values in authors column:  0\n"
     ]
    },
    {
     "name": "stderr",
     "output_type": "stream",
     "text": [
      "[Stage 19:====================================================>   (28 + 2) / 30]\r"
     ]
    },
    {
     "name": "stdout",
     "output_type": "stream",
     "text": [
      "Number of missing values in report-no column:  2221106\n"
     ]
    },
    {
     "name": "stderr",
     "output_type": "stream",
     "text": [
      "                                                                                \r"
     ]
    },
    {
     "name": "stdout",
     "output_type": "stream",
     "text": [
      "Number of missing values in comments column:  580509\n"
     ]
    },
    {
     "name": "stderr",
     "output_type": "stream",
     "text": [
      "                                                                                \r"
     ]
    },
    {
     "name": "stdout",
     "output_type": "stream",
     "text": [
      "Number of missing values in doi column:  1240532\n"
     ]
    },
    {
     "name": "stderr",
     "output_type": "stream",
     "text": [
      "                                                                                \r"
     ]
    },
    {
     "name": "stdout",
     "output_type": "stream",
     "text": [
      "Number of missing values in journal-ref column:  1570791\n"
     ]
    },
    {
     "name": "stderr",
     "output_type": "stream",
     "text": [
      "[Stage 31:====================================================>   (28 + 2) / 30]\r"
     ]
    },
    {
     "name": "stdout",
     "output_type": "stream",
     "text": [
      "Number of missing values in versions column:  0\n"
     ]
    },
    {
     "name": "stderr",
     "output_type": "stream",
     "text": [
      "                                                                                \r"
     ]
    }
   ],
   "source": [
    "# search for missing values\n",
    "print(\"Number of missing values in abstract column: \", arxiv_dataset.filter(arxiv_dataset.abstract.isNull()).count())\n",
    "print(\"Number of missing values in title column: \", arxiv_dataset.filter(arxiv_dataset.title.isNull()).count())\n",
    "print(\"Number of missing values in categories column: \", arxiv_dataset.filter(arxiv_dataset.categories.isNull()).count())\n",
    "print(\"Number of missing values in id column: \", arxiv_dataset.filter(arxiv_dataset.id.isNull()).count())\n",
    "print(\"Number of missing values in submitter column: \", arxiv_dataset.filter(arxiv_dataset.submitter.isNull()).count())\n",
    "print(\"Number of missing values in authors column: \", arxiv_dataset.filter(arxiv_dataset.authors.isNull()).count())\n",
    "print(\"Number of missing values in report-no column: \",arxiv_dataset.filter(arxiv_dataset[\"report-no\"].isNull()).count() )\n",
    "print(\"Number of missing values in comments column: \", arxiv_dataset.filter(arxiv_dataset.comments.isNull()).count())\n",
    "print(\"Number of missing values in doi column: \", arxiv_dataset.filter(arxiv_dataset.doi.isNull()).count())\n",
    "print(\"Number of missing values in journal-ref column: \", arxiv_dataset.filter(arxiv_dataset[\"journal-ref\"].isNull()).count())\n",
    "print(\"Number of missing values in versions column: \", arxiv_dataset.filter(arxiv_dataset.versions.isNull()).count())\n"
   ]
  },
  {
   "cell_type": "code",
   "execution_count": 9,
   "metadata": {},
   "outputs": [
    {
     "name": "stderr",
     "output_type": "stream",
     "text": [
      "                                                                                \r"
     ]
    }
   ],
   "source": [
    "# show rows with empty fields\n",
    "empty_abstract = arxiv_dataset.filter(arxiv_dataset[\"abstract\"] == \"\").count()\n",
    "empty_title = arxiv_dataset.filter(arxiv_dataset[\"title\"] == \"\").count()\n",
    "empty_authors = arxiv_dataset.filter(arxiv_dataset[\"authors\"] == \"\").count()\n",
    "empty_categories = arxiv_dataset.filter(arxiv_dataset[\"categories\"] == \"\").count()"
   ]
  },
  {
   "cell_type": "code",
   "execution_count": 10,
   "metadata": {},
   "outputs": [
    {
     "name": "stdout",
     "output_type": "stream",
     "text": [
      "0\n",
      "0\n",
      "0\n",
      "0\n"
     ]
    }
   ],
   "source": [
    "print(empty_abstract)\n",
    "print(empty_title)\n",
    "print(empty_authors)\n",
    "print(empty_categories)"
   ]
  },
  {
   "cell_type": "markdown",
   "metadata": {},
   "source": [
    "### **Basic preprocessing functions**"
   ]
  },
  {
   "cell_type": "code",
   "execution_count": 7,
   "metadata": {},
   "outputs": [],
   "source": [
    "# fill ALL NULL values with empty string : use after removing rows with empty fields\n",
    "def fill_na_with_empty_string(df):\n",
    "    return df.fillna(\"\")\n",
    "\n",
    "# remove rows with empty fields\n",
    "def remove_empty_fields(df, field_name):\n",
    "    return df.filter(df[field_name] != \"\")\n",
    "\n",
    "# remove \"\\n\" from text\n",
    "def remove_empty_newlines(df, field_name):\n",
    "    return df.withColumn(field_name, regexp_replace(col(field_name), \"\\n\", \" \"))\n",
    "\n",
    "# remove math formulas and latex\n",
    "def remove_math_formula(df, field_name):\n",
    "    return df.withColumn(field_name, regexp_replace(col(field_name), \"\\$.*?\\$\", \"\"))\n",
    "\n",
    "# convert to lowercase\n",
    "def convert_to_lowercase(df, field_name):\n",
    "    return df.withColumn(field_name, lower(col(field_name)))\n",
    "\n",
    "# remove extra spaces\n",
    "def remove_extra_spaces(df, field_name):\n",
    "    df = df.withColumn(field_name, regexp_replace(col(field_name), \" +\", \" \"))\n",
    "    df = df.withColumn(field_name, regexp_replace(col(field_name), \"^ +\", \"\"))\n",
    "    return df\n",
    "\n",
    "def remove_punctuation_except_dot(df, field_name):\n",
    "    pattern = \"[^a-zA-Z0-9\\s\\.,]\"\n",
    "    cleaned_df = df.withColumn(field_name, regexp_replace(col(field_name), pattern, \"\"))\n",
    "    return cleaned_df\n",
    "\n",
    "# remove punctuation\n",
    "def remove_punctuation(df, field_name):\n",
    "    return df.withColumn(field_name, regexp_replace(col(field_name), \"[^\\w\\s]\", \"\"))\n",
    "\n",
    "def remove_text_in_braces(df, field_name):\n",
    "    pattern = r'[\\(\\{\\[].*?[\\)\\}\\]]'\n",
    "    cleaned_df = df.withColumn(field_name, regexp_replace(col(field_name), pattern, ''))\n",
    "    return cleaned_df\n",
    "\n",
    "def remove_text_between_parentheses(strings_list):\n",
    "    result_list = []\n",
    "    for string in strings_list:\n",
    "        modified_string = re.sub(r'\\([^()]*\\)', '', string)\n",
    "        result_list.append(modified_string)\n",
    "    return result_list\n",
    "\n",
    "def remove_substring_from_list(input_list, substring_to_remove):\n",
    "    return [element.replace(substring_to_remove, \"\") for element in input_list]\n",
    "\n",
    "def remove_stop_words(df, field_name, output_field, stop_words):\n",
    "  df = df.withColumn(\"tokens\", split(field_name, \"\\\\s+\"))\n",
    "  remover = StopWordsRemover(stopWords=stop_words, inputCol=\"tokens\", outputCol=output_field)\n",
    "  return remover.transform(df).select(field_name, \"categories\", array_join(output_field, \" \").alias(output_field))\n",
    "\n",
    "def split_function(sep, authors_list):\n",
    "  for i in range(len(authors_list)):\n",
    "      element = authors_list[i]\n",
    "      author = element.split(sep)\n",
    "      authors_list[i] = author\n",
    "  authors_list = set([item for sublist in authors_list for item in sublist])\n",
    "  return list(authors_list)\n",
    "\n",
    "def delete_new_line_and_spaces(author_list):\n",
    "  for i in range(len(author_list)):\n",
    "    if author_list[i].startswith(\"\\n \"):\n",
    "      author_list[i] = author_list[i].replace(\"\\n \", '', 1)\n",
    "  for i in range(len(author_list)):\n",
    "    author_list[i] = author_list[i].strip()\n",
    "  for author in author_list:\n",
    "    if author == '':\n",
    "      author_list.remove(author)\n",
    "  return author_list\n",
    "\n",
    "def delete_duplicate(author_list):\n",
    "  distinct_list = []\n",
    "  for author in author_list:\n",
    "    if author not in distinct_list:\n",
    "      distinct_list.append(author)\n",
    "  return distinct_list\n",
    "\n",
    "def delete_letter(author_list):\n",
    "  for author in author_list:\n",
    "    if len(author) == 1:\n",
    "      author_list.remove(author)\n",
    "    elif len(author) == 2 and author[-1] == \".\":\n",
    "      author_list.remove(author)\n",
    "  return author_list\n",
    "\n",
    "def remove_characters_before_substring(original_list, target_substring):\n",
    "    return [remove_characters(element, target_substring) for element in original_list]\n",
    "\n",
    "def remove_characters(original_string, target_substring):\n",
    "    index = original_string.lower().find(target_substring.lower())\n",
    "    if index != -1:\n",
    "        return original_string[index + len(target_substring):]\n",
    "    else:\n",
    "        return original_string\n",
    "\n",
    "def delete_element(input_list, substr):\n",
    "  for element in input_list:\n",
    "    if substr.lower() in element.lower():\n",
    "      input_list.remove(element)\n",
    "  return input_list\n"
   ]
  },
  {
   "cell_type": "markdown",
   "metadata": {},
   "source": [
    "### Clear 'abstract' column"
   ]
  },
  {
   "cell_type": "code",
   "execution_count": 12,
   "metadata": {},
   "outputs": [],
   "source": [
    "arxiv_dataset = remove_empty_fields(arxiv_dataset, \"abstract\")\n",
    "arxiv_dataset = remove_empty_newlines(arxiv_dataset, \"abstract\")\n",
    "arxiv_dataset = remove_math_formula(arxiv_dataset, \"abstract\")\n",
    "arxiv_dataset = convert_to_lowercase(arxiv_dataset, \"abstract\")\n",
    "arxiv_dataset = remove_extra_spaces(arxiv_dataset, \"abstract\")"
   ]
  },
  {
   "cell_type": "code",
   "execution_count": 13,
   "metadata": {},
   "outputs": [
    {
     "name": "stdout",
     "output_type": "stream",
     "text": [
      "+---------------------------------------------------------------------------------------------------------------------------------------------------------------------------------------------------------------------------------------------------------------------------------------------------------------------------------------------------------------------------------------------------------------------------------------------------------------------------------------------------------------------------------------------------------------------------------------------------------------------------------------------------------------------------------------------------------------------------------------------------------------------------------------------------------------------------------------------------------------------------------------------------------------------------------------------------------------------------------------------------------------------+\n",
      "|abstract                                                                                                                                                                                                                                                                                                                                                                                                                                                                                                                                                                                                                                                                                                                                                                                                                                                                                                                                                                                                             |\n",
      "+---------------------------------------------------------------------------------------------------------------------------------------------------------------------------------------------------------------------------------------------------------------------------------------------------------------------------------------------------------------------------------------------------------------------------------------------------------------------------------------------------------------------------------------------------------------------------------------------------------------------------------------------------------------------------------------------------------------------------------------------------------------------------------------------------------------------------------------------------------------------------------------------------------------------------------------------------------------------------------------------------------------------+\n",
      "|a fully differential calculation in perturbative quantum chromodynamics is presented for the production of massive photon pairs at hadron colliders. all next-to-leading order perturbative contributions from quark-antiquark, gluon-(anti)quark, and gluon-gluon subprocesses are included, as well as all-orders resummation of initial-state gluon radiation valid at next-to-next-to-leading logarithmic accuracy. the region of phase space is specified in which the calculation is most reliable. good agreement is demonstrated with data from the fermilab tevatron, and predictions are made for more detailed tests with cdf and do data. predictions are shown for distributions of diphoton pairs produced at the energy of the large hadron collider (lhc). distributions of the diphoton pairs from the decay of a higgs boson are contrasted with those produced from qcd processes at the lhc, showing that enhanced sensitivity to the signal can be obtained with judicious selection of events. |\n",
      "|we describe a new algorithm, the -pebble game with colors, and use it obtain a characterization of the family of -sparse graphs and algorithmic solutions to a family of problems concerning tree decompositions of graphs. special instances of sparse graphs appear in rigidity theory and have received increased attention in recent years. in particular, our colored pebbles generalize and strengthen the previous results of lee and streinu and give a new proof of the tutte-nash-williams characterization of arboricity. we also present a new decomposition that certifies sparsity based on the -pebble game with colors. our work also exposes connections between pebble game algorithms and previous sparse graph algorithms by gabow, gabow and westermann and hendrickson.                                                                                                                                                                                                                        |\n",
      "|the evolution of earth-moon system is described by the dark matter field fluid model proposed in the meeting of division of particle and field 2004, american physical society. the current behavior of the earth-moon system agrees with this model very well and the general pattern of the evolution of the moon-earth system described by this model agrees with geological and fossil evidence. the closest distance of the moon to earth was about 259000 km at 4.5 billion years ago, which is far beyond the roche's limit. the result suggests that the tidal friction may not be the primary cause for the evolution of the earth-moon system. the average dark matter field fluid constant derived from earth-moon system data is 4.39 x 10^(-22) s^(-1)m^(-1). this model predicts that the mars's rotation is also slowing with the angular acceleration rate about -4.38 x 10^(-22) rad s^(-2).                                                                                                        |\n",
      "|we show that a determinant of stirling cycle numbers counts unlabeled acyclic single-source automata. the proof involves a bijection from these automata to certain marked lattice paths and a sign-reversing involution to evaluate the determinant.                                                                                                                                                                                                                                                                                                                                                                                                                                                                                                                                                                                                                                                                                                                                                                |\n",
      "|in this paper we show how to compute the norm, , using the dyadic grid. this result is a consequence of the description of the hardy spaces in terms of dyadic and special atoms.                                                                                                                                                                                                                                                                                                                                                                                                                                                                                                                                                                                                                                                                                                                                                                                                                                    |\n",
      "+---------------------------------------------------------------------------------------------------------------------------------------------------------------------------------------------------------------------------------------------------------------------------------------------------------------------------------------------------------------------------------------------------------------------------------------------------------------------------------------------------------------------------------------------------------------------------------------------------------------------------------------------------------------------------------------------------------------------------------------------------------------------------------------------------------------------------------------------------------------------------------------------------------------------------------------------------------------------------------------------------------------------+\n",
      "only showing top 5 rows\n",
      "\n"
     ]
    }
   ],
   "source": [
    "# Show some changed rows\n",
    "arxiv_dataset.select(\"abstract\").show(5, truncate=False)"
   ]
  },
  {
   "cell_type": "markdown",
   "metadata": {},
   "source": [
    "## Convert Abstract to Vector Representation"
   ]
  },
  {
   "cell_type": "code",
   "execution_count": null,
   "metadata": {},
   "outputs": [
    {
     "name": "stderr",
     "output_type": "stream",
     "text": [
      "[Stage 61:=====================================>                  (20 + 4) / 30]\r"
     ]
    }
   ],
   "source": [
    "# create a Word2Vec model\n",
    "input_col = \"abstract\"\n",
    "output_col = \"abstract_vector\"\n",
    "\n",
    "words2vec_model = Word2Vec(\n",
    "    inputCol=\"words\",\n",
    "    outputCol=output_col,\n",
    "    vectorSize=100,\n",
    "    minCount=5\n",
    ")\n",
    "\n",
    "tokenized = Tokenizer(inputCol=input_col, outputCol=\"words\")\n",
    "tokenized_dataset = tokenized.transform(arxiv_dataset)\n",
    "model = words2vec_model.fit(tokenized_dataset)"
   ]
  },
  {
   "cell_type": "code",
   "execution_count": null,
   "metadata": {},
   "outputs": [],
   "source": [
    "model.getVectors().show(n=2, truncate=False)"
   ]
  },
  {
   "cell_type": "markdown",
   "metadata": {},
   "source": [
    "### **Vizualize most popular categories based on how many authors contributed to that category**"
   ]
  },
  {
   "cell_type": "code",
   "execution_count": 8,
   "metadata": {},
   "outputs": [],
   "source": [
    "@udf(returnType=ArrayType(StringType()))\n",
    "def get_authors_list(parsed_authors):\n",
    "    authors = [\n",
    "        f\"{author[0]} {author[1]}\" for author in parsed_authors\n",
    "    ]\n",
    "    return authors"
   ]
  },
  {
   "cell_type": "code",
   "execution_count": 15,
   "metadata": {},
   "outputs": [],
   "source": [
    "arxiv_dataset = arxiv_dataset.withColumn(\"authors_list\", get_authors_list(\"authors_parsed\"))"
   ]
  },
  {
   "cell_type": "code",
   "execution_count": 17,
   "metadata": {},
   "outputs": [
    {
     "name": "stderr",
     "output_type": "stream",
     "text": [
      "[Stage 48:>                                                         (0 + 1) / 1]\r"
     ]
    },
    {
     "name": "stdout",
     "output_type": "stream",
     "text": [
      "+------------------------------------------------------+\n",
      "|authors_list                                          |\n",
      "+------------------------------------------------------+\n",
      "|[Balázs C., Berger E. L., Nadolsky P. M., Yuan C. -P.]|\n",
      "|[Streinu Ileana, Theran Louis]                        |\n",
      "|[Pan Hongjun]                                         |\n",
      "|[Callan David]                                        |\n",
      "|[Abu-Shammala Wael, Torchinsky Alberto]               |\n",
      "+------------------------------------------------------+\n",
      "only showing top 5 rows\n",
      "\n"
     ]
    },
    {
     "name": "stderr",
     "output_type": "stream",
     "text": [
      "                                                                                \r"
     ]
    }
   ],
   "source": [
    "arxiv_dataset.select(\"authors_list\").show(5, truncate=False)"
   ]
  },
  {
   "cell_type": "code",
   "execution_count": 18,
   "metadata": {},
   "outputs": [],
   "source": [
    "# preprocess authors column : remove the \"and\" word and split the authors by comma\n",
    "def preprocess_authors(df):\n",
    "    return df.withColumn(\"authors\", regexp_replace(col(\"authors\"), \" and \", \", \"))\n",
    "\n",
    "# preprocess authors column : remove extra commas\n",
    "def remove_authors_extra_commas(df):\n",
    "    return df.withColumn(\"authors\", regexp_replace(col(\"authors\"), \",+\", \",\"))\n",
    "    \n",
    "# preprocess authors column : remove empty spaces (more than one space)\n",
    "def remove_authors_extra_spaces(df):\n",
    "    return df.withColumn(\"authors\", regexp_replace(col(\"authors\"), \" +\", \" \"))\n",
    "\n",
    "# preprocess authors column : remove parentheses and their content\n",
    "def remove_authors_parentheses(df):\n",
    "    return df.withColumn(\"authors\", regexp_replace(col(\"authors\"), \"\\(.+?\\)\", \"\"))\n",
    "    "
   ]
  },
  {
   "cell_type": "code",
   "execution_count": 19,
   "metadata": {},
   "outputs": [],
   "source": [
    "arxiv_dataset = preprocess_authors(arxiv_dataset)\n",
    "arxiv_dataset = remove_authors_extra_commas(arxiv_dataset)\n",
    "arxiv_dataset = remove_authors_extra_spaces(arxiv_dataset)"
   ]
  },
  {
   "cell_type": "code",
   "execution_count": 20,
   "metadata": {},
   "outputs": [
    {
     "name": "stdout",
     "output_type": "stream",
     "text": [
      "+------------------------------------------------------+\n",
      "|authors_list                                          |\n",
      "+------------------------------------------------------+\n",
      "|[Balázs C., Berger E. L., Nadolsky P. M., Yuan C. -P.]|\n",
      "|[Streinu Ileana, Theran Louis]                        |\n",
      "|[Pan Hongjun]                                         |\n",
      "|[Callan David]                                        |\n",
      "|[Abu-Shammala Wael, Torchinsky Alberto]               |\n",
      "+------------------------------------------------------+\n",
      "only showing top 5 rows\n",
      "\n"
     ]
    }
   ],
   "source": [
    "# see the first 5 rows\n",
    "arxiv_dataset.select(\"authors_list\").show(5, truncate=False)"
   ]
  },
  {
   "cell_type": "code",
   "execution_count": 21,
   "metadata": {},
   "outputs": [
    {
     "name": "stderr",
     "output_type": "stream",
     "text": [
      "                                                                                \r"
     ]
    },
    {
     "name": "stdout",
     "output_type": "stream",
     "text": [
      "Number of categories:  176\n"
     ]
    },
    {
     "name": "stderr",
     "output_type": "stream",
     "text": [
      "                                                                                \r"
     ]
    },
    {
     "name": "stdout",
     "output_type": "stream",
     "text": [
      "Number of authors:  1568947\n"
     ]
    },
    {
     "name": "stderr",
     "output_type": "stream",
     "text": [
      "                                                                                \r"
     ]
    }
   ],
   "source": [
    "# Get all categories\n",
    "categories = arxiv_dataset.select(\"categories\")\n",
    "\n",
    "categories = (\n",
    "    categories.rdd.map(lambda x: x.categories)\n",
    "    .map(lambda x: x.split(\" \"))\n",
    "    .map(lambda x: [item for item in x])\n",
    "    .flatMap(lambda x: x)\n",
    "    .distinct()\n",
    ")\n",
    "\n",
    "print(\"Number of categories: \", categories.count())\n",
    "\n",
    "# Get all authors\n",
    "authors = arxiv_dataset.select(\"authors_list\")\n",
    "authors = (\n",
    "    authors.rdd.map(lambda x: x.authors_list)\n",
    "    .map(lambda x: [item for item in x])\n",
    "    .flatMap(lambda x: x)\n",
    "    .distinct()\n",
    ")\n",
    "\n",
    "print(\"Number of authors: \", authors.count())\n",
    "\n",
    "# get all authors for each category\n",
    "\n",
    "categories_authors = {}\n",
    "auth_categories = arxiv_dataset.select(\"categories\", \"authors_list\")\n",
    "categories_authors = (\n",
    "    auth_categories.rdd.map(lambda x: (x.categories, x.authors_list))\n",
    "    .map(lambda x: (x[0].split(\" \"), x[1]))\n",
    "    .flatMap(lambda x: [(item, x[1]) for item in x[0]])\n",
    "    .reduceByKey(lambda x, y: x + y)\n",
    "    .map(lambda x: (x[0], list(set(x[1]))))\n",
    ")\n",
    "\n",
    "# categories_authors to dict\n",
    "categories_authors = dict(categories_authors.collect())\n",
    "\n",
    "# get number of authors for each category\n",
    "count_authors = {}\n",
    "for category in categories_authors:\n",
    "    count_authors[category] = len(categories_authors[category])\n",
    "\n",
    "# sort categories based on number of authors\n",
    "sorted_categories = sorted(count_authors.items(), key=lambda x: x[1], reverse=True)\n",
    "\n",
    "# get top 10 categories\n",
    "top_categories = sorted_categories[:10]"
   ]
  },
  {
   "cell_type": "code",
   "execution_count": 22,
   "metadata": {},
   "outputs": [
    {
     "data": {
      "text/plain": [
       "[('cs.LG', 222982),\n",
       " ('cond-mat.mtrl-sci', 166747),\n",
       " ('cs.CV', 157651),\n",
       " ('cs.AI', 143642),\n",
       " ('quant-ph', 117660),\n",
       " ('cond-mat.mes-hall', 116305),\n",
       " ('astro-ph.IM', 107898),\n",
       " ('hep-ph', 101636),\n",
       " ('physics.ins-det', 98432),\n",
       " ('hep-ex', 95385)]"
      ]
     },
     "execution_count": 22,
     "metadata": {},
     "output_type": "execute_result"
    }
   ],
   "source": [
    "top_categories"
   ]
  },
  {
   "cell_type": "markdown",
   "metadata": {},
   "source": [
    "### **Topic extraction and stats (most popular topic per category)**"
   ]
  },
  {
   "cell_type": "code",
   "execution_count": null,
   "metadata": {},
   "outputs": [],
   "source": [
    "# loading back the data\n",
    "arxiv_dataset = load_data_from_json(sc, PATH)"
   ]
  },
  {
   "cell_type": "code",
   "execution_count": 7,
   "metadata": {},
   "outputs": [],
   "source": [
    "# https://arxiv.org/help/api/user-manual\n",
    "category_map = {'astro-ph': 'Astrophysics',\n",
    "'astro-ph.CO': 'Cosmology and Nongalactic Astrophysics',\n",
    "'astro-ph.EP': 'Earth and Planetary Astrophysics',\n",
    "'astro-ph.GA': 'Astrophysics of Galaxies',\n",
    "'astro-ph.HE': 'High Energy Astrophysical Phenomena',\n",
    "'astro-ph.IM': 'Instrumentation and Methods for Astrophysics',\n",
    "'astro-ph.SR': 'Solar and Stellar Astrophysics',\n",
    "'cond-mat.dis-nn': 'Disordered Systems and Neural Networks',\n",
    "'cond-mat.mes-hall': 'Mesoscale and Nanoscale Physics',\n",
    "'cond-mat.mtrl-sci': 'Materials Science',\n",
    "'cond-mat.other': 'Other Condensed Matter',\n",
    "'cond-mat.quant-gas': 'Quantum Gases',\n",
    "'cond-mat.soft': 'Soft Condensed Matter',\n",
    "'cond-mat.stat-mech': 'Statistical Mechanics',\n",
    "'cond-mat.str-el': 'Strongly Correlated Electrons',\n",
    "'cond-mat.supr-con': 'Superconductivity',\n",
    "'cs.AI': 'Artificial Intelligence',\n",
    "'cs.AR': 'Hardware Architecture',\n",
    "'cs.CC': 'Computational Complexity',\n",
    "'cs.CE': 'Computational Engineering, Finance, and Science',\n",
    "'cs.CG': 'Computational Geometry',\n",
    "'cs.CL': 'Computation and Language',\n",
    "'cs.CR': 'Cryptography and Security',\n",
    "'cs.CV': 'Computer Vision and Pattern Recognition',\n",
    "'cs.CY': 'Computers and Society',\n",
    "'cs.DB': 'Databases',\n",
    "'cs.DC': 'Distributed, Parallel, and Cluster Computing',\n",
    "'cs.DL': 'Digital Libraries',\n",
    "'cs.DM': 'Discrete Mathematics',\n",
    "'cs.DS': 'Data Structures and Algorithms',\n",
    "'cs.ET': 'Emerging Technologies',\n",
    "'cs.FL': 'Formal Languages and Automata Theory',\n",
    "'cs.GL': 'General Literature',\n",
    "'cs.GR': 'Graphics',\n",
    "'cs.GT': 'Computer Science and Game Theory',\n",
    "'cs.HC': 'Human-Computer Interaction',\n",
    "'cs.IR': 'Information Retrieval',\n",
    "'cs.IT': 'Information Theory',\n",
    "'cs.LG': 'Machine Learning',\n",
    "'cs.LO': 'Logic in Computer Science',\n",
    "'cs.MA': 'Multiagent Systems',\n",
    "'cs.MM': 'Multimedia',\n",
    "'cs.MS': 'Mathematical Software',\n",
    "'cs.NA': 'Numerical Analysis',\n",
    "'cs.NE': 'Neural and Evolutionary Computing',\n",
    "'cs.NI': 'Networking and Internet Architecture',\n",
    "'cs.OH': 'Other Computer Science',\n",
    "'cs.OS': 'Operating Systems',\n",
    "'cs.PF': 'Performance',\n",
    "'cs.PL': 'Programming Languages',\n",
    "'cs.RO': 'Robotics',\n",
    "'cs.SC': 'Symbolic Computation',\n",
    "'cs.SD': 'Sound',\n",
    "'cs.SE': 'Software Engineering',\n",
    "'cs.SI': 'Social and Information Networks',\n",
    "'cs.SY': 'Systems and Control',\n",
    "'econ.EM': 'Econometrics',\n",
    "'eess.AS': 'Audio and Speech Processing',\n",
    "'eess.IV': 'Image and Video Processing',\n",
    "'eess.SP': 'Signal Processing',\n",
    "'gr-qc': 'General Relativity and Quantum Cosmology',\n",
    "'hep-ex': 'High Energy Physics - Experiment',\n",
    "'hep-lat': 'High Energy Physics - Lattice',\n",
    "'hep-ph': 'High Energy Physics - Phenomenology',\n",
    "'hep-th': 'High Energy Physics - Theory',\n",
    "'math.AC': 'Commutative Algebra',\n",
    "'math.AG': 'Algebraic Geometry',\n",
    "'math.AP': 'Analysis of PDEs',\n",
    "'math.AT': 'Algebraic Topology',\n",
    "'math.CA': 'Classical Analysis and ODEs',\n",
    "'math.CO': 'Combinatorics',\n",
    "'math.CT': 'Category Theory',\n",
    "'math.CV': 'Complex Variables',\n",
    "'math.DG': 'Differential Geometry',\n",
    "'math.DS': 'Dynamical Systems',\n",
    "'math.FA': 'Functional Analysis',\n",
    "'math.GM': 'General Mathematics',\n",
    "'math.GN': 'General Topology',\n",
    "'math.GR': 'Group Theory',\n",
    "'math.GT': 'Geometric Topology',\n",
    "'math.HO': 'History and Overview',\n",
    "'math.IT': 'Information Theory',\n",
    "'math.KT': 'K-Theory and Homology',\n",
    "'math.LO': 'Logic',\n",
    "'math.MG': 'Metric Geometry',\n",
    "'math.MP': 'Mathematical Physics',\n",
    "'math.NA': 'Numerical Analysis',\n",
    "'math.NT': 'Number Theory',\n",
    "'math.OA': 'Operator Algebras',\n",
    "'math.OC': 'Optimization and Control',\n",
    "'math.PR': 'Probability',\n",
    "'math.QA': 'Quantum Algebra',\n",
    "'math.RA': 'Rings and Algebras',\n",
    "'math.RT': 'Representation Theory',\n",
    "'math.SG': 'Symplectic Geometry',\n",
    "'math.SP': 'Spectral Theory',\n",
    "'math.ST': 'Statistics Theory',\n",
    "'math-ph': 'Mathematical Physics',\n",
    "'nlin.AO': 'Adaptation and Self-Organizing Systems',\n",
    "'nlin.CD': 'Chaotic Dynamics',\n",
    "'nlin.CG': 'Cellular Automata and Lattice Gases',\n",
    "'nlin.PS': 'Pattern Formation and Solitons',\n",
    "'nlin.SI': 'Exactly Solvable and Integrable Systems',\n",
    "'nucl-ex': 'Nuclear Experiment',\n",
    "'nucl-th': 'Nuclear Theory',\n",
    "'physics.acc-ph': 'Accelerator Physics',\n",
    "'physics.ao-ph': 'Atmospheric and Oceanic Physics',\n",
    "'physics.app-ph': 'Applied Physics',\n",
    "'physics.atm-clus': 'Atomic and Molecular Clusters',\n",
    "'physics.atom-ph': 'Atomic Physics',\n",
    "'physics.bio-ph': 'Biological Physics',\n",
    "'physics.chem-ph': 'Chemical Physics',\n",
    "'physics.class-ph': 'Classical Physics',\n",
    "'physics.comp-ph': 'Computational Physics',\n",
    "'physics.data-an': 'Data Analysis, Statistics and Probability',\n",
    "'physics.ed-ph': 'Physics Education',\n",
    "'physics.flu-dyn': 'Fluid Dynamics',\n",
    "'physics.gen-ph': 'General Physics',\n",
    "'physics.geo-ph': 'Geophysics',\n",
    "'physics.hist-ph': 'History and Philosophy of Physics',\n",
    "'physics.ins-det': 'Instrumentation and Detectors',\n",
    "'physics.med-ph': 'Medical Physics',\n",
    "'physics.optics': 'Optics',\n",
    "'physics.plasm-ph': 'Plasma Physics',\n",
    "'physics.pop-ph': 'Popular Physics',\n",
    "'physics.soc-ph': 'Physics and Society',\n",
    "'physics.space-ph': 'Space Physics',\n",
    "'q-bio.BM': 'Biomolecules',\n",
    "'q-bio.CB': 'Cell Behavior',\n",
    "'q-bio.GN': 'Genomics',\n",
    "'q-bio.MN': 'Molecular Networks',\n",
    "'q-bio.NC': 'Neurons and Cognition',\n",
    "'q-bio.OT': 'Other Quantitative Biology',\n",
    "'q-bio.PE': 'Populations and Evolution',\n",
    "'q-bio.QM': 'Quantitative Methods',\n",
    "'q-bio.SC': 'Subcellular Processes',\n",
    "'q-bio.TO': 'Tissues and Organs',\n",
    "'q-fin.CP': 'Computational Finance',\n",
    "'q-fin.EC': 'Economics',\n",
    "'q-fin.GN': 'General Finance',\n",
    "'q-fin.MF': 'Mathematical Finance',\n",
    "'q-fin.PM': 'Portfolio Management',\n",
    "'q-fin.PR': 'Pricing of Securities',\n",
    "'q-fin.RM': 'Risk Management',\n",
    "'q-fin.ST': 'Statistical Finance',\n",
    "'q-fin.TR': 'Trading and Market Microstructure',\n",
    "'quant-ph': 'Quantum Physics',\n",
    "'stat.AP': 'Applications',\n",
    "'stat.CO': 'Computation',\n",
    "'stat.ME': 'Methodology',\n",
    "'stat.ML': 'Machine Learning',\n",
    "'stat.OT': 'Other Statistics',\n",
    "'stat.TH': 'Statistics Theory'}"
   ]
  },
  {
   "cell_type": "markdown",
   "metadata": {},
   "source": [
    "#### **Display the distribution of categories**\n",
    "- the categories are mostly 1 to 2 per paper"
   ]
  },
  {
   "cell_type": "code",
   "execution_count": 8,
   "metadata": {},
   "outputs": [],
   "source": [
    "categories_length = arxiv_dataset.select(size(split(arxiv_dataset.categories, \" \")).alias(\"categories_length\"))"
   ]
  },
  {
   "cell_type": "code",
   "execution_count": 9,
   "metadata": {},
   "outputs": [
    {
     "name": "stderr",
     "output_type": "stream",
     "text": [
      "[Stage 13:======================================================> (29 + 1) / 30]\r"
     ]
    },
    {
     "name": "stdout",
     "output_type": "stream",
     "text": [
      "Max number of categories:  13\n",
      "Min number of categories:  1\n",
      "Average number of categories:  1.6957565665834098\n",
      "Standard deviation of categories:  0.9250407314885232\n",
      "Median number of categories:  1.0\n"
     ]
    },
    {
     "name": "stderr",
     "output_type": "stream",
     "text": [
      "                                                                                \r"
     ]
    }
   ],
   "source": [
    "# print max, min, and average number of categories\n",
    "maxim = categories_length.agg({\"categories_length\": \"max\"}).collect()[0][0]\n",
    "minim = categories_length.agg({\"categories_length\": \"min\"}).collect()[0][0]\n",
    "avg = categories_length.agg({\"categories_length\": \"mean\"}).collect()[0][0]\n",
    "std = categories_length.agg({\"categories_length\": \"std\"}).collect()[0][0]\n",
    "median = categories_length.agg({\"categories_length\": \"median\"}).collect()[0][0]\n",
    "\n",
    "print(\"Max number of categories: \", maxim)\n",
    "print(\"Min number of categories: \", minim)\n",
    "print(\"Average number of categories: \", avg)\n",
    "print(\"Standard deviation of categories: \", std)\n",
    "print(\"Median number of categories: \", median)"
   ]
  },
  {
   "cell_type": "code",
   "execution_count": 10,
   "metadata": {},
   "outputs": [
    {
     "name": "stderr",
     "output_type": "stream",
     "text": [
      "                                                                                \r"
     ]
    },
    {
     "data": {
      "text/plain": [
       "(array([1.29308e+06, 0.00000e+00, 0.00000e+00, 0.00000e+00, 0.00000e+00,\n",
       "        0.00000e+00, 0.00000e+00, 0.00000e+00, 7.05024e+05, 0.00000e+00,\n",
       "        0.00000e+00, 0.00000e+00, 0.00000e+00, 0.00000e+00, 0.00000e+00,\n",
       "        0.00000e+00, 2.79714e+05, 0.00000e+00, 0.00000e+00, 0.00000e+00,\n",
       "        0.00000e+00, 0.00000e+00, 0.00000e+00, 0.00000e+00, 0.00000e+00,\n",
       "        9.03560e+04, 0.00000e+00, 0.00000e+00, 0.00000e+00, 0.00000e+00,\n",
       "        0.00000e+00, 0.00000e+00, 0.00000e+00, 2.52430e+04, 0.00000e+00,\n",
       "        0.00000e+00, 0.00000e+00, 0.00000e+00, 0.00000e+00, 0.00000e+00,\n",
       "        0.00000e+00, 5.38900e+03, 0.00000e+00, 0.00000e+00, 0.00000e+00,\n",
       "        0.00000e+00, 0.00000e+00, 0.00000e+00, 0.00000e+00, 0.00000e+00,\n",
       "        8.02000e+02, 0.00000e+00, 0.00000e+00, 0.00000e+00, 0.00000e+00,\n",
       "        0.00000e+00, 0.00000e+00, 0.00000e+00, 1.45000e+02, 0.00000e+00,\n",
       "        0.00000e+00, 0.00000e+00, 0.00000e+00, 0.00000e+00, 0.00000e+00,\n",
       "        0.00000e+00, 3.20000e+01, 0.00000e+00, 0.00000e+00, 0.00000e+00,\n",
       "        0.00000e+00, 0.00000e+00, 0.00000e+00, 0.00000e+00, 0.00000e+00,\n",
       "        1.40000e+01, 0.00000e+00, 0.00000e+00, 0.00000e+00, 0.00000e+00,\n",
       "        0.00000e+00, 0.00000e+00, 0.00000e+00, 2.00000e+00, 0.00000e+00,\n",
       "        0.00000e+00, 0.00000e+00, 0.00000e+00, 0.00000e+00, 0.00000e+00,\n",
       "        0.00000e+00, 0.00000e+00, 0.00000e+00, 0.00000e+00, 0.00000e+00,\n",
       "        0.00000e+00, 0.00000e+00, 0.00000e+00, 0.00000e+00, 1.00000e+00]),\n",
       " array([ 1.  ,  1.12,  1.24,  1.36,  1.48,  1.6 ,  1.72,  1.84,  1.96,\n",
       "         2.08,  2.2 ,  2.32,  2.44,  2.56,  2.68,  2.8 ,  2.92,  3.04,\n",
       "         3.16,  3.28,  3.4 ,  3.52,  3.64,  3.76,  3.88,  4.  ,  4.12,\n",
       "         4.24,  4.36,  4.48,  4.6 ,  4.72,  4.84,  4.96,  5.08,  5.2 ,\n",
       "         5.32,  5.44,  5.56,  5.68,  5.8 ,  5.92,  6.04,  6.16,  6.28,\n",
       "         6.4 ,  6.52,  6.64,  6.76,  6.88,  7.  ,  7.12,  7.24,  7.36,\n",
       "         7.48,  7.6 ,  7.72,  7.84,  7.96,  8.08,  8.2 ,  8.32,  8.44,\n",
       "         8.56,  8.68,  8.8 ,  8.92,  9.04,  9.16,  9.28,  9.4 ,  9.52,\n",
       "         9.64,  9.76,  9.88, 10.  , 10.12, 10.24, 10.36, 10.48, 10.6 ,\n",
       "        10.72, 10.84, 10.96, 11.08, 11.2 , 11.32, 11.44, 11.56, 11.68,\n",
       "        11.8 , 11.92, 12.04, 12.16, 12.28, 12.4 , 12.52, 12.64, 12.76,\n",
       "        12.88, 13.  ]),\n",
       " <BarContainer object of 100 artists>)"
      ]
     },
     "execution_count": 10,
     "metadata": {},
     "output_type": "execute_result"
    },
    {
     "data": {
      "image/png": "[encoded data removed]",
      "text/plain": [
       "<Figure size 640x480 with 1 Axes>"
      ]
     },
     "metadata": {},
     "output_type": "display_data"
    }
   ],
   "source": [
    "categories_length_list  = map(lambda row: row.categories_length, categories_length.collect())\n",
    "plt.hist(list(categories_length_list), bins=100)"
   ]
  },
  {
   "cell_type": "markdown",
   "metadata": {},
   "source": [
    "#### **Most/Least popular category**"
   ]
  },
  {
   "cell_type": "code",
   "execution_count": 9,
   "metadata": {},
   "outputs": [
    {
     "name": "stderr",
     "output_type": "stream",
     "text": [
      "----------------------------------------                                        \n",
      "Exception occurred during processing of request from ('127.0.0.1', 56942)\n",
      "Traceback (most recent call last):\n",
      "  File \"/usr/lib/python3.10/socketserver.py\", line 316, in _handle_request_noblock\n",
      "    self.process_request(request, client_address)\n",
      "  File \"/usr/lib/python3.10/socketserver.py\", line 347, in process_request\n",
      "    self.finish_request(request, client_address)\n",
      "  File \"/usr/lib/python3.10/socketserver.py\", line 360, in finish_request\n",
      "    self.RequestHandlerClass(request, client_address, self)\n",
      "  File \"/usr/lib/python3.10/socketserver.py\", line 747, in __init__\n",
      "    self.handle()\n",
      "  File \"/home/ubuntu/jupyter/BDA/lib/python3.10/site-packages/pyspark/accumulators.py\", line 295, in handle\n",
      "    poll(accum_updates)\n",
      "  File \"/home/ubuntu/jupyter/BDA/lib/python3.10/site-packages/pyspark/accumulators.py\", line 267, in poll\n",
      "    if self.rfile in r and func():\n",
      "  File \"/home/ubuntu/jupyter/BDA/lib/python3.10/site-packages/pyspark/accumulators.py\", line 271, in accum_updates\n",
      "    num_updates = read_int(self.rfile)\n",
      "  File \"/home/ubuntu/jupyter/BDA/lib/python3.10/site-packages/pyspark/serializers.py\", line 596, in read_int\n",
      "    raise EOFError\n",
      "EOFError\n",
      "----------------------------------------\n",
      "ERROR:root:Exception while sending command.\n",
      "Traceback (most recent call last):\n",
      "  File \"/home/ubuntu/jupyter/BDA/lib/python3.10/site-packages/py4j/clientserver.py\", line 516, in send_command\n",
      "    raise Py4JNetworkError(\"Answer from Java side is empty\")\n",
      "py4j.protocol.Py4JNetworkError: Answer from Java side is empty\n",
      "\n",
      "During handling of the above exception, another exception occurred:\n",
      "\n",
      "Traceback (most recent call last):\n",
      "  File \"/home/ubuntu/jupyter/BDA/lib/python3.10/site-packages/py4j/java_gateway.py\", line 1038, in send_command\n",
      "    response = connection.send_command(command)\n",
      "  File \"/home/ubuntu/jupyter/BDA/lib/python3.10/site-packages/py4j/clientserver.py\", line 539, in send_command\n",
      "    raise Py4JNetworkError(\n",
      "py4j.protocol.Py4JNetworkError: Error while sending or receiving\n"
     ]
    },
    {
     "data": {
      "image/png": "[encoded data removed]",
      "text/plain": [
       "<Figure size 2000x1000 with 1 Axes>"
      ]
     },
     "metadata": {},
     "output_type": "display_data"
    }
   ],
   "source": [
    "categories = arxiv_dataset.select(\"categories\")\n",
    "categories = (\n",
    "    categories.rdd.map(lambda x: x.categories)\n",
    "    .map(lambda x: x.split(\" \"))\n",
    "    .map(lambda x: [item for item in x])\n",
    "    .flatMap(lambda x: x)\n",
    "    .distinct()\n",
    ")\n",
    "\n",
    "# get most frequent categories\n",
    "categories_count = {}\n",
    "for category in categories.collect():\n",
    "    categories_count[category] = 0\n",
    "\n",
    "for row in arxiv_dataset.select(\"categories\").collect():\n",
    "    for category in row.categories.split(\" \"):\n",
    "        categories_count[category] += 1\n",
    "\n",
    "sorted_categories = sorted(categories_count.items(), key=lambda x: x[1], reverse=True)\n",
    "top_categories = sorted_categories[:10]\n",
    "\n",
    "# plot the top 10 categories\n",
    "plt.figure(figsize=(20, 10))\n",
    "plt.bar(*zip(*top_categories))\n",
    "plt.xticks(rotation=90)\n",
    "plt.show()\n"
   ]
  },
  {
   "cell_type": "markdown",
   "metadata": {},
   "source": [
    "#### Analyzing the abstracts"
   ]
  },
  {
   "cell_type": "code",
   "execution_count": 8,
   "metadata": {},
   "outputs": [],
   "source": [
    "# abstract length (histogram)\n",
    "abstract_lengths = arxiv_dataset.select(size(split(\"abstract\", \" \")).alias('abstract_lengths'))"
   ]
  },
  {
   "cell_type": "code",
   "execution_count": 9,
   "metadata": {},
   "outputs": [
    {
     "name": "stderr",
     "output_type": "stream",
     "text": [
      "[Stage 13:======================================================> (29 + 1) / 30]\r"
     ]
    },
    {
     "name": "stdout",
     "output_type": "stream",
     "text": [
      "Max length of abstract:  848\n",
      "Min length of abstract:  3\n",
      "Average length of abstract:  130.2041826784043\n",
      "Standard deviation of abstract length:  58.3419904624102\n",
      "Median length of abstract:  125.0\n"
     ]
    },
    {
     "name": "stderr",
     "output_type": "stream",
     "text": [
      "                                                                                \r"
     ]
    }
   ],
   "source": [
    "max_length = abstract_lengths.agg({\"abstract_lengths\": \"max\"}).collect()[0][0]\n",
    "min_length = abstract_lengths.agg({\"abstract_lengths\": \"min\"}).collect()[0][0]\n",
    "avg_length = abstract_lengths.agg({\"abstract_lengths\": \"mean\"}).collect()[0][0]\n",
    "std_length = abstract_lengths.agg({\"abstract_lengths\": \"std\"}).collect()[0][0]\n",
    "median_length = abstract_lengths.agg({\"abstract_lengths\": \"median\"}).collect()[0][0]\n",
    "\n",
    "# In number of words\n",
    "print(\"Max length of abstract: \", max_length)\n",
    "print(\"Min length of abstract: \", min_length)\n",
    "print(\"Average length of abstract: \", avg_length)\n",
    "print(\"Standard deviation of abstract length: \", std_length)\n",
    "print(\"Median length of abstract: \", median_length)"
   ]
  },
  {
   "cell_type": "code",
   "execution_count": 10,
   "metadata": {},
   "outputs": [
    {
     "name": "stderr",
     "output_type": "stream",
     "text": [
      "                                                                                \r"
     ]
    },
    {
     "data": {
      "text/plain": [
       "(array([1.64200e+03, 1.09600e+04, 2.71470e+04, 3.69570e+04, 5.75880e+04,\n",
       "        6.63800e+04, 9.14420e+04, 9.46590e+04, 1.22099e+05, 1.18774e+05,\n",
       "        1.25141e+05, 1.38633e+05, 1.23087e+05, 1.37256e+05, 1.18649e+05,\n",
       "        1.37730e+05, 1.12821e+05, 1.14618e+05, 9.35450e+04, 8.65270e+04,\n",
       "        9.11590e+04, 7.88530e+04, 6.83560e+04, 5.31330e+04, 5.33730e+04,\n",
       "        4.42540e+04, 5.44370e+04, 3.63670e+04, 3.18680e+04, 2.36550e+04,\n",
       "        1.87450e+04, 1.46410e+04, 8.05000e+03, 4.44300e+03, 1.56100e+03,\n",
       "        6.43000e+02, 2.16000e+02, 8.80000e+01, 4.60000e+01, 3.80000e+01,\n",
       "        3.20000e+01, 1.70000e+01, 2.60000e+01, 1.70000e+01, 2.20000e+01,\n",
       "        1.20000e+01, 1.50000e+01, 9.00000e+00, 1.00000e+01, 8.00000e+00,\n",
       "        7.00000e+00, 4.00000e+00, 9.00000e+00, 5.00000e+00, 9.00000e+00,\n",
       "        2.00000e+00, 3.00000e+00, 1.00000e+00, 1.00000e+00, 2.00000e+00,\n",
       "        2.00000e+00, 1.00000e+00, 1.00000e+00, 2.00000e+00, 0.00000e+00,\n",
       "        0.00000e+00, 1.00000e+00, 0.00000e+00, 0.00000e+00, 0.00000e+00,\n",
       "        1.00000e+00, 0.00000e+00, 0.00000e+00, 0.00000e+00, 0.00000e+00,\n",
       "        0.00000e+00, 0.00000e+00, 0.00000e+00, 0.00000e+00, 0.00000e+00,\n",
       "        0.00000e+00, 0.00000e+00, 1.00000e+00, 0.00000e+00, 0.00000e+00,\n",
       "        0.00000e+00, 0.00000e+00, 0.00000e+00, 0.00000e+00, 0.00000e+00,\n",
       "        0.00000e+00, 0.00000e+00, 0.00000e+00, 0.00000e+00, 0.00000e+00,\n",
       "        0.00000e+00, 0.00000e+00, 0.00000e+00, 0.00000e+00, 1.00000e+00]),\n",
       " array([  3.  ,  11.45,  19.9 ,  28.35,  36.8 ,  45.25,  53.7 ,  62.15,\n",
       "         70.6 ,  79.05,  87.5 ,  95.95, 104.4 , 112.85, 121.3 , 129.75,\n",
       "        138.2 , 146.65, 155.1 , 163.55, 172.  , 180.45, 188.9 , 197.35,\n",
       "        205.8 , 214.25, 222.7 , 231.15, 239.6 , 248.05, 256.5 , 264.95,\n",
       "        273.4 , 281.85, 290.3 , 298.75, 307.2 , 315.65, 324.1 , 332.55,\n",
       "        341.  , 349.45, 357.9 , 366.35, 374.8 , 383.25, 391.7 , 400.15,\n",
       "        408.6 , 417.05, 425.5 , 433.95, 442.4 , 450.85, 459.3 , 467.75,\n",
       "        476.2 , 484.65, 493.1 , 501.55, 510.  , 518.45, 526.9 , 535.35,\n",
       "        543.8 , 552.25, 560.7 , 569.15, 577.6 , 586.05, 594.5 , 602.95,\n",
       "        611.4 , 619.85, 628.3 , 636.75, 645.2 , 653.65, 662.1 , 670.55,\n",
       "        679.  , 687.45, 695.9 , 704.35, 712.8 , 721.25, 729.7 , 738.15,\n",
       "        746.6 , 755.05, 763.5 , 771.95, 780.4 , 788.85, 797.3 , 805.75,\n",
       "        814.2 , 822.65, 831.1 , 839.55, 848.  ]),\n",
       " <BarContainer object of 100 artists>)"
      ]
     },
     "execution_count": 10,
     "metadata": {},
     "output_type": "execute_result"
    },
    {
     "data": {
      "image/png": "[encoded data removed]",
      "text/plain": [
       "<Figure size 640x480 with 1 Axes>"
      ]
     },
     "metadata": {},
     "output_type": "display_data"
    }
   ],
   "source": [
    "abstract_lengths_list = map(lambda row: row.abstract_lengths, abstract_lengths.collect())\n",
    "\n",
    "plt.hist(list(abstract_lengths_list), bins=100)"
   ]
  },
  {
   "cell_type": "markdown",
   "metadata": {},
   "source": [
    "### **LDA preparations**"
   ]
  },
  {
   "cell_type": "code",
   "execution_count": 11,
   "metadata": {},
   "outputs": [
    {
     "name": "stderr",
     "output_type": "stream",
     "text": [
      "[nltk_data] Downloading package stopwords to /home/ubuntu/nltk_data...\n",
      "[nltk_data]   Package stopwords is already up-to-date!\n",
      "[nltk_data] Downloading package wordnet to /home/ubuntu/nltk_data...\n",
      "[nltk_data]   Package wordnet is already up-to-date!\n"
     ]
    },
    {
     "data": {
      "text/plain": [
       "True"
      ]
     },
     "execution_count": 11,
     "metadata": {},
     "output_type": "execute_result"
    }
   ],
   "source": [
    "nltk.download('stopwords')\n",
    "nltk.download('wordnet')"
   ]
  },
  {
   "cell_type": "code",
   "execution_count": 6,
   "metadata": {},
   "outputs": [],
   "source": [
    "# after some research : spacy is a bit faster than nltk on large datasets\n",
    "def lemmatization(text):\n",
    "    lemmatizer = nltk.stem.WordNetLemmatizer()\n",
    "    return \" \".join([lemmatizer.lemmatize(word) for word in text.split(\" \")])"
   ]
  },
  {
   "cell_type": "code",
   "execution_count": 7,
   "metadata": {},
   "outputs": [],
   "source": [
    "nlp = spacy.load('en_core_web_sm')"
   ]
  },
  {
   "cell_type": "code",
   "execution_count": 18,
   "metadata": {},
   "outputs": [],
   "source": [
    "@udf(returnType=StringType())\n",
    "def lemmatization_spacy(text):\n",
    "    doc = nlp(text)\n",
    "    return \" \".join([token.lemma_ for token in doc])"
   ]
  },
  {
   "cell_type": "code",
   "execution_count": 19,
   "metadata": {},
   "outputs": [],
   "source": [
    "@udf(returnType=StringType())\n",
    "def remove_stopwords(text):\n",
    "    doc = nlp(text)\n",
    "    return \" \".join([token.text for token in doc if not token.is_stop])"
   ]
  },
  {
   "cell_type": "code",
   "execution_count": 31,
   "metadata": {},
   "outputs": [],
   "source": [
    "@udf(returnType=StringType())\n",
    "def remove_punctuation_udf(text):\n",
    "    doc = nlp(text)\n",
    "    return \" \".join([token.text for token in doc if not token.is_punct])"
   ]
  },
  {
   "cell_type": "code",
   "execution_count": 34,
   "metadata": {},
   "outputs": [],
   "source": [
    "@udf(returnType=StringType())\n",
    "def convert_to_lowercase(text):\n",
    "    return text.lower()"
   ]
  },
  {
   "cell_type": "code",
   "execution_count": 23,
   "metadata": {},
   "outputs": [],
   "source": [
    "get_sample_from_file(PATH+\"/arxiv-metadata-oai-snapshot.json\", \"/home/ubuntu/data/arxiv-sample.json\", sample_size = 100_000)"
   ]
  },
  {
   "cell_type": "code",
   "execution_count": 12,
   "metadata": {},
   "outputs": [
    {
     "name": "stderr",
     "output_type": "stream",
     "text": [
      "                                                                                \r"
     ]
    }
   ],
   "source": [
    "arxiv_dataset = load_data_from_json(sc, \"/home/ubuntu/data/arxiv-sample.json\")"
   ]
  },
  {
   "cell_type": "code",
   "execution_count": 35,
   "metadata": {},
   "outputs": [],
   "source": [
    "# clear abstract column\n",
    "arxiv_dataset = remove_empty_fields(arxiv_dataset, \"abstract\")\n",
    "arxiv_dataset = remove_empty_newlines(arxiv_dataset, \"abstract\")\n",
    "arxiv_dataset = remove_math_formula(arxiv_dataset, \"abstract\")\n",
    "arxiv_dataset = remove_extra_spaces(arxiv_dataset, \"abstract\")\n",
    "arxiv_dataset = remove_punctuation(arxiv_dataset, \"abstract\")\n",
    "\n",
    "# convert to lowercase\n",
    "arxiv_dataset = arxiv_dataset.withColumn(\"abstract\", convert_to_lowercase(\"abstract\"))\n",
    "# remove punctuation\n",
    "arxiv_dataset = arxiv_dataset.withColumn(\"abstract\", remove_punctuation_udf(\"abstract\"))\n",
    "# remove stopwords\n",
    "arxiv_dataset = arxiv_dataset.withColumn(\"abstract\", remove_stopwords(\"abstract\"))"
   ]
  },
  {
   "cell_type": "code",
   "execution_count": 36,
   "metadata": {},
   "outputs": [],
   "source": [
    "arxiv_dataset = arxiv_dataset.withColumn(\"abstract\", lemmatization_spacy(\"abstract\"))"
   ]
  },
  {
   "cell_type": "markdown",
   "metadata": {},
   "source": [
    "### **Gensim**"
   ]
  },
  {
   "cell_type": "code",
   "execution_count": 37,
   "metadata": {},
   "outputs": [
    {
     "name": "stderr",
     "output_type": "stream",
     "text": [
      "                                                                                \r"
     ]
    }
   ],
   "source": [
    "abstracts = arxiv_dataset.select(\"abstract\").rdd.map(lambda x: x.abstract.split()).collect()"
   ]
  },
  {
   "cell_type": "code",
   "execution_count": 38,
   "metadata": {},
   "outputs": [],
   "source": [
    "dictionary = corpora.Dictionary(abstracts)\n",
    "dictionary.filter_extremes(no_below=20, no_above=0.05)"
   ]
  },
  {
   "cell_type": "code",
   "execution_count": 39,
   "metadata": {},
   "outputs": [
    {
     "data": {
      "text/plain": [
       "[('cluster', 1335),\n",
       " ('hole', 1011),\n",
       " ('network', 974),\n",
       " ('velocity', 879),\n",
       " ('frequency', 843)]"
      ]
     },
     "execution_count": 39,
     "metadata": {},
     "output_type": "execute_result"
    }
   ],
   "source": [
    "dictionary.most_common(5)"
   ]
  },
  {
   "cell_type": "code",
   "execution_count": 41,
   "metadata": {},
   "outputs": [],
   "source": [
    "corpus = [dictionary.doc2bow(text) for text in abstracts]"
   ]
  },
  {
   "cell_type": "code",
   "execution_count": 42,
   "metadata": {},
   "outputs": [],
   "source": [
    "lda_model = models.LdaMulticore(corpus=corpus, id2word=dictionary, num_topics=10, random_state=42, passes=100)"
   ]
  },
  {
   "cell_type": "code",
   "execution_count": 43,
   "metadata": {},
   "outputs": [
    {
     "data": {
      "text/plain": [
       "[(0,\n",
       "  '0.016*\"lattice\" + 0.011*\"critical\" + 0.010*\"charge\" + 0.009*\"chain\" + 0.008*\"band\" + 0.008*\"gap\" + 0.008*\"pair\" + 0.006*\"dependence\" + 0.006*\"electronic\" + 0.006*\"regime\"'),\n",
       " (1,\n",
       "  '0.016*\"algebra\" + 0.012*\"representation\" + 0.011*\"product\" + 0.010*\"invariant\" + 0.010*\"operator\" + 0.009*\"lie\" + 0.009*\"manifold\" + 0.009*\"let\" + 0.008*\"g\" + 0.008*\"algebras\"'),\n",
       " (2,\n",
       "  '0.011*\"boundary\" + 0.011*\"operator\" + 0.010*\"metric\" + 0.010*\"matrix\" + 0.010*\"entropy\" + 0.009*\"random\" + 0.008*\"generalize\" + 0.008*\"law\" + 0.008*\"curvature\" + 0.007*\"asymptotic\"'),\n",
       " (3,\n",
       "  '0.019*\"quark\" + 0.015*\"scatter\" + 0.013*\"production\" + 0.013*\"cross\" + 0.011*\"section\" + 0.011*\"collision\" + 0.010*\"nuclear\" + 0.010*\"heavy\" + 0.009*\"proton\" + 0.009*\"meson\"'),\n",
       " (4,\n",
       "  '0.013*\"frequency\" + 0.011*\"gamma\" + 0.010*\"signal\" + 0.009*\"neutrino\" + 0.009*\"detector\" + 0.009*\"cosmic\" + 0.008*\"physics\" + 0.007*\"noise\" + 0.007*\"flux\" + 0.007*\"test\"'),\n",
       " (5,\n",
       "  '0.019*\"gauge\" + 0.016*\"black\" + 0.016*\"hole\" + 0.014*\"matter\" + 0.013*\"string\" + 0.011*\"cosmological\" + 0.011*\"dark\" + 0.011*\"gravity\" + 0.011*\"scalar\" + 0.011*\"universe\"'),\n",
       " (6,\n",
       "  '0.016*\"information\" + 0.014*\"network\" + 0.013*\"scheme\" + 0.013*\"algorithm\" + 0.012*\"channel\" + 0.011*\"code\" + 0.010*\"entanglement\" + 0.010*\"control\" + 0.009*\"error\" + 0.009*\"qubit\"'),\n",
       " (7,\n",
       "  '0.011*\"mode\" + 0.010*\"force\" + 0.009*\"flow\" + 0.007*\"atom\" + 0.007*\"velocity\" + 0.007*\"pressure\" + 0.006*\"instability\" + 0.006*\"motion\" + 0.006*\"fluid\" + 0.006*\"layer\"'),\n",
       " (8,\n",
       "  '0.014*\"cluster\" + 0.010*\"disk\" + 0.008*\"stellar\" + 0.007*\"gas\" + 0.007*\"velocity\" + 0.007*\"redshift\" + 0.006*\"object\" + 0.006*\"luminosity\" + 0.006*\"planet\" + 0.006*\"radio\"'),\n",
       " (9,\n",
       "  '0.021*\"network\" + 0.019*\"graph\" + 0.015*\"algorithm\" + 0.011*\"degree\" + 0.010*\"n\" + 0.010*\"polynomial\" + 0.010*\"link\" + 0.009*\"random\" + 0.008*\"tree\" + 0.007*\"length\"')]"
      ]
     },
     "execution_count": 43,
     "metadata": {},
     "output_type": "execute_result"
    }
   ],
   "source": [
    "lda_model.print_topics()"
   ]
  },
  {
   "cell_type": "code",
   "execution_count": 44,
   "metadata": {},
   "outputs": [],
   "source": [
    "topics = [\n",
    "    lda_model.get_document_topics(c)\n",
    "    for c in corpus\n",
    "]"
   ]
  },
  {
   "cell_type": "code",
   "execution_count": 45,
   "metadata": {},
   "outputs": [
    {
     "data": {
      "text/plain": [
       "[(9, 0.9769116)]"
      ]
     },
     "execution_count": 45,
     "metadata": {},
     "output_type": "execute_result"
    }
   ],
   "source": [
    "topics[1]"
   ]
  },
  {
   "cell_type": "code",
   "execution_count": 46,
   "metadata": {},
   "outputs": [],
   "source": [
    "def most_probable_topic(t):\n",
    "    t = np.array(t)\n",
    "    idx = t[:, 1].argmax()\n",
    "    return int(t[idx, 0])\n",
    "\n",
    "final_topics = [most_probable_topic(t) for t in topics]"
   ]
  },
  {
   "cell_type": "markdown",
   "metadata": {},
   "source": [
    "### **Query for similar articles (based on the same topic/category/common authors/other criteria)**"
   ]
  },
  {
   "cell_type": "code",
   "execution_count": 8,
   "metadata": {},
   "outputs": [
    {
     "name": "stderr",
     "output_type": "stream",
     "text": [
      "                                                                                \r"
     ]
    }
   ],
   "source": [
    "# loading back the data\n",
    "arxiv_dataset = load_data_from_json(sc, \"/home/ubuntu/data/arxiv-sample.json\")"
   ]
  },
  {
   "cell_type": "code",
   "execution_count": 9,
   "metadata": {},
   "outputs": [],
   "source": [
    "tokenizer = Tokenizer(inputCol=\"abstract\", outputCol=\"words\")\n",
    "words_data = tokenizer.transform(arxiv_dataset)"
   ]
  },
  {
   "cell_type": "code",
   "execution_count": 10,
   "metadata": {},
   "outputs": [
    {
     "name": "stderr",
     "output_type": "stream",
     "text": [
      "                                                                                \r"
     ]
    }
   ],
   "source": [
    "hashing_tf = HashingTF(inputCol=\"words\", outputCol=\"rawFeatures\", numFeatures=1000)\n",
    "featurized_data = hashing_tf.transform(words_data)\n",
    "\n",
    "idf = IDF(inputCol=\"rawFeatures\", outputCol=\"features\")\n",
    "idf_model = idf.fit(featurized_data)\n",
    "tfidf_data = idf_model.transform(featurized_data)"
   ]
  },
  {
   "cell_type": "code",
   "execution_count": 11,
   "metadata": {},
   "outputs": [
    {
     "data": {
      "text/plain": [
       "SparseVector(1000, {9: 2.7937, 17: 0.1745, 22: 1.9864, 26: 3.0387, 63: 4.6255, 69: 2.9413, 80: 4.7787, 92: 2.7616, 113: 2.8185, 115: 2.8933, 133: 0.9823, 134: 9.6271, 147: 2.7505, 157: 1.527, 159: 2.593, 161: 2.8578, 162: 4.097, 168: 2.3882, 179: 2.0085, 188: 4.8346, 209: 1.1261, 226: 3.4398, 235: 2.0198, 253: 2.1638, 280: 2.7474, 282: 2.2673, 283: 3.0019, 289: 1.8503, 290: 3.0513, 304: 1.4913, 307: 1.8166, 311: 3.5864, 333: 1.7965, 335: 2.5971, 344: 1.4661, 351: 2.917, 353: 2.2799, 372: 0.0, 406: 2.1262, 413: 2.5171, 436: 3.2016, 439: 2.9115, 462: 3.4803, 467: 0.2604, 488: 0.1973, 490: 2.3158, 495: 0.1853, 510: 1.7893, 514: 3.2165, 535: 5.366, 575: 3.2755, 578: 2.6382, 591: 2.2037, 629: 2.01, 646: 3.6345, 650: 1.7756, 652: 3.1943, 653: 2.7521, 662: 2.8987, 663: 0.2806, 675: 3.51, 687: 3.2417, 695: 1.7255, 697: 2.7888, 718: 1.9612, 749: 1.7248, 759: 2.6354, 760: 0.4503, 763: 2.4644, 770: 2.223, 797: 2.9879, 804: 0.9008, 842: 3.1537, 843: 2.8631, 850: 2.9152, 855: 0.8729, 863: 3.3815, 873: 2.2454, 886: 6.841, 891: 0.3496, 894: 2.0637, 899: 3.9453, 903: 1.9394, 921: 3.8792, 928: 2.3445, 964: 3.2546, 973: 3.6459, 994: 5.4979})"
      ]
     },
     "execution_count": 11,
     "metadata": {},
     "output_type": "execute_result"
    }
   ],
   "source": [
    "# Calculate TF-IDF similarity between articles\n",
    "article_id = \"0704.0001\"  # Example article ID\n",
    "article_tfidf = tfidf_data.filter(col(\"id\") == article_id).select(\"features\").first()[\"features\"]\n",
    "article_tfidf"
   ]
  },
  {
   "cell_type": "code",
   "execution_count": 12,
   "metadata": {},
   "outputs": [
    {
     "data": {
      "text/plain": [
       "SparseVector(1000, {17: 0.0872, 24: 3.2041, 25: 2.8897, 55: 4.2258, 60: 1.5513, 85: 2.4397, 93: 3.5615, 125: 2.3817, 130: 1.4989, 133: 0.9823, 144: 3.316, 165: 2.5873, 181: 2.8613, 182: 2.408, 201: 5.2988, 212: 3.2417, 216: 2.8018, 221: 4.5116, 228: 1.9893, 241: 2.6942, 259: 3.142, 272: 1.3912, 274: 1.8031, 290: 6.1027, 296: 2.1708, 297: 5.834, 299: 1.5631, 310: 5.0946, 346: 2.6326, 372: 0.0, 377: 2.9376, 394: 2.1577, 425: 3.0945, 467: 0.651, 468: 1.5646, 488: 0.1973, 492: 2.6508, 495: 0.1853, 521: 2.616, 527: 2.1346, 581: 0.6502, 585: 5.6777, 588: 0.5146, 591: 2.2037, 601: 3.693, 613: 2.947, 636: 3.734, 650: 0.8878, 663: 0.4208, 686: 1.1935, 705: 3.2265, 719: 6.4886, 736: 0.6273, 760: 0.4503, 783: 2.0876, 784: 3.3525, 785: 3.1056, 791: 3.1034, 792: 2.3744, 828: 2.564, 846: 2.906, 870: 2.8185, 871: 2.144, 884: 3.0858, 885: 2.1355, 889: 1.8252, 891: 1.0487, 904: 3.8267, 935: 2.6839, 971: 8.3996, 975: 8.6475, 982: 3.51, 987: 3.1191})"
      ]
     },
     "execution_count": 12,
     "metadata": {},
     "output_type": "execute_result"
    }
   ],
   "source": [
    "article_id2 = \"0704.0002\"  # Example article ID\n",
    "article_tfidf2 = tfidf_data.filter(col(\"id\") == article_id2).select(\"features\").first()[\"features\"]\n",
    "article_tfidf2"
   ]
  },
  {
   "cell_type": "code",
   "execution_count": 13,
   "metadata": {},
   "outputs": [],
   "source": [
    "def cosine_similarity(a, b):\n",
    "    return float(a.dot(b) / (a.norm(2) * b.norm(2)))"
   ]
  },
  {
   "cell_type": "code",
   "execution_count": 14,
   "metadata": {},
   "outputs": [
    {
     "name": "stderr",
     "output_type": "stream",
     "text": [
      "                                                                                \r"
     ]
    }
   ],
   "source": [
    "# calculate cosine similarity between article_id and other articles and sort them\n",
    "similarity = tfidf_data.rdd.map(lambda x: (x.id, cosine_similarity(article_tfidf, x.features))).sortBy(lambda x: x[1], ascending=False)"
   ]
  },
  {
   "cell_type": "code",
   "execution_count": 15,
   "metadata": {},
   "outputs": [
    {
     "name": "stderr",
     "output_type": "stream",
     "text": [
      "                                                                                \r"
     ]
    },
    {
     "data": {
      "text/plain": [
       "[('0704.0001', 0.9999999999999999),\n",
       " ('0705.0035', 0.3158517952866129),\n",
       " ('0706.0518', 0.27351676851108747),\n",
       " ('0704.1344', 0.25314024097273047),\n",
       " ('0705.3887', 0.24939255602324506),\n",
       " ('0704.1677', 0.24928594693946296),\n",
       " ('0705.2759', 0.2389668543153525),\n",
       " ('0705.1622', 0.2381125997976095),\n",
       " ('0705.3836', 0.23796792259432678),\n",
       " ('0704.0601', 0.2320099196850292)]"
      ]
     },
     "execution_count": 15,
     "metadata": {},
     "output_type": "execute_result"
    }
   ],
   "source": [
    "similarity.take(10)"
   ]
  },
  {
   "cell_type": "code",
   "execution_count": 16,
   "metadata": {},
   "outputs": [
    {
     "data": {
      "text/plain": [
       "'0705.0035'"
      ]
     },
     "execution_count": 16,
     "metadata": {},
     "output_type": "execute_result"
    }
   ],
   "source": [
    "# take the second article from similarity list\n",
    "article_id2 = similarity.take(2)[1][0]\n",
    "article_id2"
   ]
  },
  {
   "cell_type": "code",
   "execution_count": 17,
   "metadata": {},
   "outputs": [
    {
     "name": "stdout",
     "output_type": "stream",
     "text": [
      "+---------------------------------------------------------------------------------------------+--------------------------------------------------------------------------------------------------------------------------------------------------------------------------------------------------------------------------------------------------------------------------------------------------------------------------------------------------------------------------------------------------------------------------------------------------------------------------------------------------------------------------------------------------------------------------------------------------------------------------------------------------------------------------------------------------------------------------------------------------------------------------------------------------------------------------------------------------------------------------------------------------------+------------------------------------------------------------------------------------+----------+\n",
      "|title                                                                                        |abstract                                                                                                                                                                                                                                                                                                                                                                                                                                                                                                                                                                                                                                                                                                                                                                                                                                                                                                |authors                                                                             |categories|\n",
      "+---------------------------------------------------------------------------------------------+--------------------------------------------------------------------------------------------------------------------------------------------------------------------------------------------------------------------------------------------------------------------------------------------------------------------------------------------------------------------------------------------------------------------------------------------------------------------------------------------------------------------------------------------------------------------------------------------------------------------------------------------------------------------------------------------------------------------------------------------------------------------------------------------------------------------------------------------------------------------------------------------------------+------------------------------------------------------------------------------------+----------+\n",
      "|Higgs boson production with one bottom quark including higher-order\\n  soft-gluon corrections|  A Higgs boson produced in association with one or more bottom quarks is of\\ngreat theoretical and experimental interest to the high-energy community. A\\nprecise prediction of its total and differential cross-section can have a great\\nimpact on the discovery of a Higgs boson with large bottom-quark Yukawa\\ncoupling, like the scalar (h^0 and H^0) and pseudoscalar (A^0) Higgs bosons of\\nthe Minimal Supersymmetric Standard Model (MSSM) in the region of large\\n\\tan\\beta. In this paper we apply the threshold resummation formalism to\\ndetermine both differential and total cross-sections for b g \\to b\\Phi (where\\n\\Phi = h^0, H^0), including up to next-to-next-to-next-to-leading order (NNNLO)\\nsoft plus virtual QCD corrections at next-to-leading logarithmic (NLL)\\naccuracy. We present results for both the Fermilab Tevatron and the CERN Large\\nHadron Collider (LHC).\\n|B. Field (Florida State), C.B. Jackson (Brookhaven), and L. Reina\\n  (Florida State)|hep-ph    |\n",
      "+---------------------------------------------------------------------------------------------+--------------------------------------------------------------------------------------------------------------------------------------------------------------------------------------------------------------------------------------------------------------------------------------------------------------------------------------------------------------------------------------------------------------------------------------------------------------------------------------------------------------------------------------------------------------------------------------------------------------------------------------------------------------------------------------------------------------------------------------------------------------------------------------------------------------------------------------------------------------------------------------------------------+------------------------------------------------------------------------------------+----------+\n",
      "\n"
     ]
    }
   ],
   "source": [
    "# get the information of the second article\n",
    "arxiv_dataset.filter(arxiv_dataset.id == article_id2).select(\"title\", \"abstract\", \"authors\", \"categories\").show(truncate=False)"
   ]
  },
  {
   "cell_type": "code",
   "execution_count": 18,
   "metadata": {},
   "outputs": [
    {
     "name": "stdout",
     "output_type": "stream",
     "text": [
      "+----------------------------------------------------------------------------------------+-------------------------------------------------------------------------------------------------------------------------------------------------------------------------------------------------------------------------------------------------------------------------------------------------------------------------------------------------------------------------------------------------------------------------------------------------------------------------------------------------------------------------------------------------------------------------------------------------------------------------------------------------------------------------------------------------------------------------------------------------------------------------------------------------------------------------------------------------------------------------------------------------------------------------------------------------------------------------------------------------------------------------------------+-----------------------------------------------------+----------+\n",
      "|title                                                                                   |abstract                                                                                                                                                                                                                                                                                                                                                                                                                                                                                                                                                                                                                                                                                                                                                                                                                                                                                                                                                                                                                             |authors                                              |categories|\n",
      "+----------------------------------------------------------------------------------------+-------------------------------------------------------------------------------------------------------------------------------------------------------------------------------------------------------------------------------------------------------------------------------------------------------------------------------------------------------------------------------------------------------------------------------------------------------------------------------------------------------------------------------------------------------------------------------------------------------------------------------------------------------------------------------------------------------------------------------------------------------------------------------------------------------------------------------------------------------------------------------------------------------------------------------------------------------------------------------------------------------------------------------------+-----------------------------------------------------+----------+\n",
      "|Calculation of prompt diphoton production cross sections at Tevatron and\\n  LHC energies|  A fully differential calculation in perturbative quantum chromodynamics is\\npresented for the production of massive photon pairs at hadron colliders. All\\nnext-to-leading order perturbative contributions from quark-antiquark,\\ngluon-(anti)quark, and gluon-gluon subprocesses are included, as well as\\nall-orders resummation of initial-state gluon radiation valid at\\nnext-to-next-to-leading logarithmic accuracy. The region of phase space is\\nspecified in which the calculation is most reliable. Good agreement is\\ndemonstrated with data from the Fermilab Tevatron, and predictions are made for\\nmore detailed tests with CDF and DO data. Predictions are shown for\\ndistributions of diphoton pairs produced at the energy of the Large Hadron\\nCollider (LHC). Distributions of the diphoton pairs from the decay of a Higgs\\nboson are contrasted with those produced from QCD processes at the LHC, showing\\nthat enhanced sensitivity to the signal can be obtained with judicious\\nselection of events.\\n|C. Bal\\'azs, E. L. Berger, P. M. Nadolsky, C.-P. Yuan|hep-ph    |\n",
      "+----------------------------------------------------------------------------------------+-------------------------------------------------------------------------------------------------------------------------------------------------------------------------------------------------------------------------------------------------------------------------------------------------------------------------------------------------------------------------------------------------------------------------------------------------------------------------------------------------------------------------------------------------------------------------------------------------------------------------------------------------------------------------------------------------------------------------------------------------------------------------------------------------------------------------------------------------------------------------------------------------------------------------------------------------------------------------------------------------------------------------------------+-----------------------------------------------------+----------+\n",
      "\n"
     ]
    }
   ],
   "source": [
    "# get the information of the first article\n",
    "arxiv_dataset.filter(arxiv_dataset.id == article_id).select(\"title\", \"abstract\", \"authors\", \"categories\").show(truncate=False)"
   ]
  },
  {
   "cell_type": "markdown",
   "metadata": {},
   "source": [
    "### **Query for similar articles based on category**"
   ]
  },
  {
   "cell_type": "code",
   "execution_count": 19,
   "metadata": {},
   "outputs": [
    {
     "name": "stdout",
     "output_type": "stream",
     "text": [
      "categories to search after: cond-mat.str-el\n",
      "+---------------------------------------------------------------------------------------------------------------+----------------------------------------------------------------------------------------------------------------------------------------------------------------------------------------------------------------------------------------------------------------------------------------------------------------------------------------------------------------------------------------------------------------------------------------------------------------------------------------------------------------------------------------------------------------------------------------------------------------------------------------------------------------------------------------+--------------------------------------------------------------------------------------------------------------------------------------------------------------------------------------------+----------------------------------+\n",
      "|title                                                                                                          |abstract                                                                                                                                                                                                                                                                                                                                                                                                                                                                                                                                                                                                                                                                                |authors                                                                                                                                                                                     |categories                        |\n",
      "+---------------------------------------------------------------------------------------------------------------+----------------------------------------------------------------------------------------------------------------------------------------------------------------------------------------------------------------------------------------------------------------------------------------------------------------------------------------------------------------------------------------------------------------------------------------------------------------------------------------------------------------------------------------------------------------------------------------------------------------------------------------------------------------------------------------+--------------------------------------------------------------------------------------------------------------------------------------------------------------------------------------------+----------------------------------+\n",
      "|Spectroscopic Properties of Polarons in Strongly Correlated Systems by\\n  Exact Diagrammatic Monte Carlo Method|  We present recent advances in understanding of the ground and excited states\\nof the electron-phonon coupled systems obtained by novel methods of\\nDiagrammatic Monte Carlo and Stochastic Optimization, which enable the\\napproximation-free calculation of Matsubara Green function in imaginary times\\nand perform unbiased analytic continuation to real frequencies. We present\\nexact numeric results on the ground state properties, Lehmann spectral function\\nand optical conductivity of different strongly correlated systems: Frohlich\\npolaron, Rashba-Pekar exciton-polaron, pseudo Jahn-Teller polaron, exciton, and\\ninteracting with phonons hole in the t-J model.\\n|A. S. Mishchenko (1 and 2) and N. Nagaosa (1 and 3) ((1) CREST, Japan\\n  Science and Technology Agency, (2) Russian Research Centre ``Kurchatov\\n  Institute'', (3) The University of Tokyo)|cond-mat.str-el cond-mat.stat-mech|\n",
      "+---------------------------------------------------------------------------------------------------------------+----------------------------------------------------------------------------------------------------------------------------------------------------------------------------------------------------------------------------------------------------------------------------------------------------------------------------------------------------------------------------------------------------------------------------------------------------------------------------------------------------------------------------------------------------------------------------------------------------------------------------------------------------------------------------------------+--------------------------------------------------------------------------------------------------------------------------------------------------------------------------------------------+----------------------------------+\n",
      "\n"
     ]
    }
   ],
   "source": [
    "### Similar article based on category\n",
    "def get_similar_articles_by_category(article_id):\n",
    "    # iterate over all articles \n",
    "    categories_search = (\n",
    "        arxiv_dataset.filter(arxiv_dataset.id == article_id)\n",
    "        .select(\"categories\")\n",
    "        .rdd.map(lambda x: x.categories)\n",
    "        .map(lambda x: x.split(\" \"))\n",
    "        .map(lambda x: [item for item in x])\n",
    "        .flatMap(lambda x: x)\n",
    "        .collect()\n",
    "    )\n",
    "    include_all = len(categories_search)\n",
    "    if include_all == 0: # invalid article id\n",
    "        return []\n",
    "    similar_categories = (\n",
    "        arxiv_dataset.rdd.map(lambda x: (x.id, x.categories))\n",
    "        .map(lambda x: (x[0], x[1].split(\" \")))\n",
    "        .filter(lambda x: len(list(value for value in x[1] if value in categories_search)) == include_all)\n",
    "        .map(lambda x: x[0])\n",
    "        .filter(lambda x: x != article_id)\n",
    "        .collect()\n",
    "    )\n",
    "    return similar_categories\n",
    "\n",
    "# get a random article from the list\n",
    "article_ = arxiv_dataset.rdd.takeSample(False, 1)[0]\n",
    "# show the article category\n",
    "print(\"categories to search after:\",  article_.categories)\n",
    "similar_articles = get_similar_articles_by_category(article_.id)\n",
    "if len(similar_articles) > 0:\n",
    "    test_id = similar_articles[0]\n",
    "    arxiv_dataset.filter(arxiv_dataset.id == test_id).select(\"title\", \"abstract\", \"authors\", \"categories\").show(truncate=False)\n"
   ]
  },
  {
   "cell_type": "markdown",
   "metadata": {},
   "source": [
    "### **Query for similar articles based on common authors**"
   ]
  },
  {
   "cell_type": "code",
   "execution_count": 20,
   "metadata": {},
   "outputs": [],
   "source": [
    "def get_similar_articles_by_common_authors(article_id):\n",
    "    # get list of authors for the article\n",
    "    authors_search = (\n",
    "        arxiv_dataset.filter(arxiv_dataset.id == article_id)\n",
    "        .select(\"authors_list\")\n",
    "        .rdd.map(lambda x: x.authors_list)\n",
    "        .map(lambda x: [item for item in x])\n",
    "        .flatMap(lambda x: x)\n",
    "        .collect()\n",
    "    )\n",
    "    similar_authors = (\n",
    "        arxiv_dataset.rdd.map(lambda x: (x.id, x.authors_list))\n",
    "        .map(lambda x: (x[0], x[1]))\n",
    "        .filter(lambda x: len(list(value for value in x[1] if value in authors_search)) > 0)\n",
    "        .map(lambda x: x[0])\n",
    "        .filter(lambda x: x != article_id)\n",
    "        .collect()\n",
    "    )\n",
    "    return similar_authors"
   ]
  },
  {
   "cell_type": "code",
   "execution_count": 23,
   "metadata": {},
   "outputs": [],
   "source": [
    "# preprocess dataset authors column\n",
    "arxiv_dataset = arxiv_dataset.withColumn(\"authors_list\", get_authors_list(\"authors_parsed\"))"
   ]
  },
  {
   "cell_type": "code",
   "execution_count": 24,
   "metadata": {},
   "outputs": [
    {
     "name": "stderr",
     "output_type": "stream",
     "text": [
      "                                                                                \r"
     ]
    },
    {
     "name": "stdout",
     "output_type": "stream",
     "text": [
      "authors to search after: ['Lim May', 'Braha Dan', 'Wijesinghe Sanith', 'Tucker Stephenson', 'Bar-Yam Yaneer']\n"
     ]
    },
    {
     "name": "stderr",
     "output_type": "stream",
     "text": [
      "                                                                                \r"
     ]
    },
    {
     "name": "stdout",
     "output_type": "stream",
     "text": [
      "+-----------------------------------------------------------------------------+------------------------------------------------------------------------------------------------------------------------------------------------------------------------------------------------------------------------------------------------------------------------------------------------------------------------------------------------------------------------------------------------------------------------------------------------------------------------------------------------------------------------------------------------------------------------------------------------------------------------------------------------------------------------------------------------------------------------------------------------------------------------------------------------------------------------------------------------------------------------------------------------------------------------------------------------------------------------------------------------------+----------------------------------------------------------------------------------------------+---------------+\n",
      "|title                                                                        |abstract                                                                                                                                                                                                                                                                                                                                                                                                                                                                                                                                                                                                                                                                                                                                                                                                                                                                                                                                                                                              |authors                                                                                       |categories     |\n",
      "+-----------------------------------------------------------------------------+------------------------------------------------------------------------------------------------------------------------------------------------------------------------------------------------------------------------------------------------------------------------------------------------------------------------------------------------------------------------------------------------------------------------------------------------------------------------------------------------------------------------------------------------------------------------------------------------------------------------------------------------------------------------------------------------------------------------------------------------------------------------------------------------------------------------------------------------------------------------------------------------------------------------------------------------------------------------------------------------------+----------------------------------------------------------------------------------------------+---------------+\n",
      "|Dynamical Response of Networks under External Perturbations: Exact\\n  Results|  We introduce and solve a general model of dynamic response under external\\nperturbations. This model captures a wide range of systems out of equilibrium\\nincluding Ising models of physical systems, social opinions, and population\\ngenetics. The distribution of states under perturbation and relaxation process\\nreflects two regimes -- one driven by the external perturbation, and one driven\\nby internal ordering. These regimes parallel the disordered and ordered regimes\\nof equilibrium physical systems driven by thermal perturbations but here are\\nshown to be relevant for non-thermal and non-equilibrium external influences on\\ncomplex biological and social systems. We extend our results to a wide range of\\nnetwork topologies by introducing an effective strength of external\\nperturbation by analytic mean-field approximation. Simulations show this\\ngeneralization is remarkably accurate for many topologies of current interest\\nin describing real systems.\\n|David D. Chinellato, Marcus A.M. de Aguiar, Irving R. Epstein, Dan\\n  Braha and Yaneer Bar-Yam|nlin.SI nlin.CG|\n",
      "+-----------------------------------------------------------------------------+------------------------------------------------------------------------------------------------------------------------------------------------------------------------------------------------------------------------------------------------------------------------------------------------------------------------------------------------------------------------------------------------------------------------------------------------------------------------------------------------------------------------------------------------------------------------------------------------------------------------------------------------------------------------------------------------------------------------------------------------------------------------------------------------------------------------------------------------------------------------------------------------------------------------------------------------------------------------------------------------------+----------------------------------------------------------------------------------------------+---------------+\n",
      "\n"
     ]
    }
   ],
   "source": [
    "# get a random article from the list\n",
    "article_ = arxiv_dataset.rdd.takeSample(False, 1)[0]\n",
    "\n",
    "authors_to_search = article_.authors_list\n",
    "\n",
    "print(\"authors to search after:\", authors_to_search)\n",
    "similar_articles = get_similar_articles_by_common_authors(article_.id)\n",
    "\n",
    "if len(similar_articles) > 0:\n",
    "    test_id = similar_articles[0]\n",
    "    arxiv_dataset.filter(arxiv_dataset.id == test_id).select(\"title\", \"abstract\", \"authors\", \"categories\").show(truncate=False)\n"
   ]
  },
  {
   "cell_type": "markdown",
   "metadata": {},
   "source": [
    "### **Classification (for a new article to determine its category)**"
   ]
  },
  {
   "cell_type": "markdown",
   "metadata": {},
   "source": [
    "### First approach:\n",
    "- use TF-IDF to vectorize the abstracts and Tokeniezer to tokenize the abstracts\n",
    "- use CountVectors (\"document-term vectors\") and regex tokenizer to tokenize the abstracts ( + remove stop words)\n",
    "\n",
    "Models to use:\n",
    "- Naive Bayes\n",
    "- Logistic Regression\n",
    "- Random Forest\n",
    "\n",
    "Finally: use Cross-Validation -> try to tune the hyperparameters"
   ]
  },
  {
   "cell_type": "code",
   "execution_count": 8,
   "metadata": {},
   "outputs": [
    {
     "name": "stderr",
     "output_type": "stream",
     "text": [
      "                                                                                \r"
     ]
    }
   ],
   "source": [
    "# loading back the data\n",
    "arxiv_dataset = load_data_from_json(sc, \"/home/ubuntu/data/arxiv-sample.json\")"
   ]
  },
  {
   "cell_type": "code",
   "execution_count": 9,
   "metadata": {},
   "outputs": [],
   "source": [
    "# drop columns\n",
    "drop_colums = [\"authors_parsed\", \"authors_list\", \"comments\", \"doi\", \"journal-ref\", \"license\", \"report-no\", \"submitter\", \"title\", \"versions\", \"authors\", \"update_date\"]\n",
    "arxiv_dataset = arxiv_dataset.drop(*drop_colums)"
   ]
  },
  {
   "cell_type": "code",
   "execution_count": 10,
   "metadata": {},
   "outputs": [
    {
     "name": "stdout",
     "output_type": "stream",
     "text": [
      "+--------------------+---------------+---------+\n",
      "|            abstract|     categories|       id|\n",
      "+--------------------+---------------+---------+\n",
      "|  A fully differe...|         hep-ph|0704.0001|\n",
      "|  We describe a n...|  math.CO cs.CG|0704.0002|\n",
      "|  The evolution o...| physics.gen-ph|0704.0003|\n",
      "|  We show that a ...|        math.CO|0704.0004|\n",
      "|  In this paper w...|math.CA math.FA|0704.0005|\n",
      "+--------------------+---------------+---------+\n",
      "only showing top 5 rows\n",
      "\n"
     ]
    }
   ],
   "source": [
    "arxiv_dataset.show(5)"
   ]
  },
  {
   "cell_type": "code",
   "execution_count": 11,
   "metadata": {},
   "outputs": [],
   "source": [
    "# from the categories column, get the first category\n",
    "arxiv_dataset = arxiv_dataset.withColumn(\"category\", split(\"categories\", \" \")[0])\n",
    "# drop the categories column\n",
    "arxiv_dataset = arxiv_dataset.drop(\"categories\")"
   ]
  },
  {
   "cell_type": "code",
   "execution_count": 12,
   "metadata": {},
   "outputs": [
    {
     "name": "stdout",
     "output_type": "stream",
     "text": [
      "+--------------------+---------+--------------+\n",
      "|            abstract|       id|      category|\n",
      "+--------------------+---------+--------------+\n",
      "|  A fully differe...|0704.0001|        hep-ph|\n",
      "|  We describe a n...|0704.0002|       math.CO|\n",
      "|  The evolution o...|0704.0003|physics.gen-ph|\n",
      "|  We show that a ...|0704.0004|       math.CO|\n",
      "|  In this paper w...|0704.0005|       math.CA|\n",
      "+--------------------+---------+--------------+\n",
      "only showing top 5 rows\n",
      "\n"
     ]
    }
   ],
   "source": [
    "arxiv_dataset.show(5)"
   ]
  },
  {
   "cell_type": "code",
   "execution_count": 13,
   "metadata": {},
   "outputs": [
    {
     "name": "stderr",
     "output_type": "stream",
     "text": [
      "                                                                                \r"
     ]
    }
   ],
   "source": [
    "string_indexer = StringIndexer(inputCol=\"category\", outputCol=\"label\", handleInvalid=\"skip\")\n",
    "indexer_fitted = string_indexer.fit(arxiv_dataset)\n",
    "labels = indexer_fitted.labels # retrieve labels in order to use them later\n",
    "arxiv_dataset = indexer_fitted.transform(arxiv_dataset)"
   ]
  },
  {
   "cell_type": "code",
   "execution_count": 14,
   "metadata": {},
   "outputs": [
    {
     "name": "stdout",
     "output_type": "stream",
     "text": [
      "+--------------------+---------+--------------+-----+\n",
      "|            abstract|       id|      category|label|\n",
      "+--------------------+---------+--------------+-----+\n",
      "|  A fully differe...|0704.0001|        hep-ph|  2.0|\n",
      "|  We describe a n...|0704.0002|       math.CO| 20.0|\n",
      "|  The evolution o...|0704.0003|physics.gen-ph| 21.0|\n",
      "|  We show that a ...|0704.0004|       math.CO| 20.0|\n",
      "|  In this paper w...|0704.0005|       math.CA| 29.0|\n",
      "+--------------------+---------+--------------+-----+\n",
      "only showing top 5 rows\n",
      "\n"
     ]
    }
   ],
   "source": [
    "arxiv_dataset.show(5)"
   ]
  },
  {
   "cell_type": "code",
   "execution_count": null,
   "metadata": {},
   "outputs": [],
   "source": [
    "# remove stopwords\n",
    "arxiv_dataset = arxiv_dataset.withColumn(\"abstract\", remove_stopwords(\"abstract\"))\n",
    "# convert to lowercase\n",
    "arxiv_dataset = arxiv_dataset.withColumn(\"abstract\", convert_to_lowercase(\"abstract\"))\n",
    "# remove punctuation\n",
    "arxiv_dataset = arxiv_dataset.withColumn(\"abstract\", remove_punctuation(\"abstract\"))\n",
    "# apply lemmatization\n",
    "arxiv_dataset = arxiv_dataset.withColumn(\"abstract\", lemmatization_spacy(\"abstract\"))"
   ]
  },
  {
   "cell_type": "markdown",
   "metadata": {},
   "source": [
    "### Prepare the models: Logistic Regression, Random Forest, Naive Bayes"
   ]
  },
  {
   "cell_type": "code",
   "execution_count": 16,
   "metadata": {},
   "outputs": [],
   "source": [
    "lr = LogisticRegression(labelCol=\"label\", featuresCol=\"features\", maxIter=30, regParam=0.3, elasticNetParam=0)\n",
    "rf = RandomForestClassifier(labelCol=\"label\", featuresCol=\"features\", numTrees=10)\n",
    "nb = NaiveBayes(labelCol=\"label\", featuresCol=\"features\", smoothing=1.0, modelType=\"multinomial\")"
   ]
  },
  {
   "cell_type": "markdown",
   "metadata": {},
   "source": [
    "desired approach: prepare the training data and then use what model you want"
   ]
  },
  {
   "cell_type": "code",
   "execution_count": 17,
   "metadata": {},
   "outputs": [
    {
     "name": "stderr",
     "output_type": "stream",
     "text": [
      "                                                                                \r"
     ]
    }
   ],
   "source": [
    "# Define a pipeline with stages for tokenization, TF-IDF conversion, and Logistic Regression\n",
    "tokenizer = Tokenizer(inputCol=\"abstract\", outputCol=\"words\")\n",
    "hashing_tf = HashingTF(inputCol=\"words\", outputCol=\"rawFeatures\", numFeatures=10000)\n",
    "\n",
    "# minDocFreq: remove sparse terms\n",
    "idf = IDF(inputCol=\"rawFeatures\", outputCol=\"features\", minDocFreq=5)\n",
    "\n",
    "pipeline = Pipeline(stages=[tokenizer, hashing_tf, idf])\n",
    "\n",
    "# fit the pipeline\n",
    "pipeline_model = pipeline.fit(arxiv_dataset)\n",
    "dataset = pipeline_model.transform(arxiv_dataset)\n",
    "\n",
    "# Split the data into training and testing sets\n",
    "(training_data, testing_data) = dataset.randomSplit([0.8, 0.2], seed=123)"
   ]
  },
  {
   "cell_type": "code",
   "execution_count": 18,
   "metadata": {},
   "outputs": [
    {
     "name": "stderr",
     "output_type": "stream",
     "text": [
      "[Stage 8:>                                                          (0 + 1) / 1]\r"
     ]
    },
    {
     "name": "stdout",
     "output_type": "stream",
     "text": [
      "+--------------------+---------+----------------+-----+--------------------+--------------------+--------------------+\n",
      "|            abstract|       id|        category|label|               words|         rawFeatures|            features|\n",
      "+--------------------+---------+----------------+-----+--------------------+--------------------+--------------------+\n",
      "|  (Abridged) Lumi...|0704.2177|        astro-ph|  0.0|[, , (abridged), ...|(10000,[66,107,16...|(10000,[66,107,16...|\n",
      "|  (abridged) The ...|0704.2970|        astro-ph|  0.0|[, , (abridged), ...|(10000,[7,110,125...|(10000,[7,110,125...|\n",
      "|  A ToO observati...|0704.2338|        astro-ph|  0.0|[, , a, too, obse...|(10000,[86,102,11...|(10000,[86,102,11...|\n",
      "|  A beautiful the...|0704.2396|physics.class-ph| 52.0|[, , a, beautiful...|(10000,[292,488,1...|(10000,[292,488,1...|\n",
      "|  A celebrated re...|0704.0644|         math.CO| 20.0|[, , a, celebrate...|(10000,[39,132,31...|(10000,[39,132,31...|\n",
      "+--------------------+---------+----------------+-----+--------------------+--------------------+--------------------+\n",
      "only showing top 5 rows\n",
      "\n"
     ]
    },
    {
     "name": "stderr",
     "output_type": "stream",
     "text": [
      "                                                                                \r"
     ]
    }
   ],
   "source": [
    "testing_data.show(5)"
   ]
  },
  {
   "cell_type": "code",
   "execution_count": 19,
   "metadata": {},
   "outputs": [
    {
     "name": "stderr",
     "output_type": "stream",
     "text": [
      "24/01/18 19:54:04 WARN InstanceBuilder: Failed to load implementation from:dev.ludovic.netlib.blas.JNIBLAS\n",
      "24/01/18 19:54:54 WARN DAGScheduler: Broadcasting large task binary with size 1057.9 KiB\n",
      "                                                                                \r"
     ]
    }
   ],
   "source": [
    "model_lr = lr.fit(training_data)\n",
    "model_rf = rf.fit(training_data)\n",
    "model_nb = nb.fit(training_data)"
   ]
  },
  {
   "cell_type": "code",
   "execution_count": 20,
   "metadata": {},
   "outputs": [],
   "source": [
    "# Make predictions on the testing data\n",
    "predictions_lr = model_lr.transform(testing_data)\n",
    "predictions_rf = model_rf.transform(testing_data)\n",
    "predictions_nb = model_nb.transform(testing_data)"
   ]
  },
  {
   "cell_type": "code",
   "execution_count": 21,
   "metadata": {},
   "outputs": [
    {
     "name": "stderr",
     "output_type": "stream",
     "text": [
      "24/01/18 19:55:07 WARN DAGScheduler: Broadcasting large task binary with size 10.2 MiB\n",
      "                                                                                \r"
     ]
    },
    {
     "name": "stdout",
     "output_type": "stream",
     "text": [
      "+--------------------+-----+----------+\n",
      "|            abstract|label|prediction|\n",
      "+--------------------+-----+----------+\n",
      "|  (Abridged) Lumi...|  0.0|       0.0|\n",
      "|  (abridged) The ...|  0.0|       0.0|\n",
      "|  A ToO observati...|  0.0|       0.0|\n",
      "|  A beautiful the...| 52.0|       3.0|\n",
      "|  A celebrated re...| 20.0|       3.0|\n",
      "+--------------------+-----+----------+\n",
      "only showing top 5 rows\n",
      "\n"
     ]
    },
    {
     "name": "stderr",
     "output_type": "stream",
     "text": [
      "                                                                                \r"
     ]
    },
    {
     "name": "stdout",
     "output_type": "stream",
     "text": [
      "+--------------------+-----+----------+\n",
      "|            abstract|label|prediction|\n",
      "+--------------------+-----+----------+\n",
      "|  (Abridged) Lumi...|  0.0|       0.0|\n",
      "|  (abridged) The ...|  0.0|       0.0|\n",
      "|  A ToO observati...|  0.0|       0.0|\n",
      "|  A beautiful the...| 52.0|       0.0|\n",
      "|  A celebrated re...| 20.0|       0.0|\n",
      "+--------------------+-----+----------+\n",
      "only showing top 5 rows\n",
      "\n"
     ]
    },
    {
     "name": "stderr",
     "output_type": "stream",
     "text": [
      "24/01/18 19:55:09 WARN DAGScheduler: Broadcasting large task binary with size 10.1 MiB\n"
     ]
    },
    {
     "name": "stdout",
     "output_type": "stream",
     "text": [
      "+--------------------+-----+----------+\n",
      "|            abstract|label|prediction|\n",
      "+--------------------+-----+----------+\n",
      "|  (Abridged) Lumi...|  0.0|       0.0|\n",
      "|  (abridged) The ...|  0.0|       0.0|\n",
      "|  A ToO observati...|  0.0|       0.0|\n",
      "|  A beautiful the...| 52.0|      15.0|\n",
      "|  A celebrated re...| 20.0|      25.0|\n",
      "+--------------------+-----+----------+\n",
      "only showing top 5 rows\n",
      "\n"
     ]
    },
    {
     "name": "stderr",
     "output_type": "stream",
     "text": [
      "                                                                                \r"
     ]
    }
   ],
   "source": [
    "# show predictions\n",
    "predictions_lr.select(\"abstract\", \"label\", \"prediction\").show(5)\n",
    "predictions_rf.select(\"abstract\", \"label\", \"prediction\").show(5)\n",
    "predictions_nb.select(\"abstract\", \"label\", \"prediction\").show(5)"
   ]
  },
  {
   "cell_type": "code",
   "execution_count": 22,
   "metadata": {},
   "outputs": [
    {
     "name": "stderr",
     "output_type": "stream",
     "text": [
      "24/01/18 19:55:14 WARN DAGScheduler: Broadcasting large task binary with size 10.2 MiB\n",
      "24/01/18 19:55:16 WARN DAGScheduler: Broadcasting large task binary with size 10.1 MiB\n",
      "[Stage 65:==============>                                           (1 + 3) / 4]\r"
     ]
    },
    {
     "name": "stdout",
     "output_type": "stream",
     "text": [
      "Accuracy of Logistic Regression:  0.47365780230807825\n",
      "Accuracy of Random Forest:  0.19819367787255393\n",
      "Accuracy of Naive Bayes:  0.5920722528850978\n"
     ]
    },
    {
     "name": "stderr",
     "output_type": "stream",
     "text": [
      "                                                                                \r"
     ]
    }
   ],
   "source": [
    "evaluator = MulticlassClassificationEvaluator(labelCol=\"label\", predictionCol=\"prediction\", metricName=\"accuracy\")\n",
    "\n",
    "accuracy_lr = evaluator.evaluate(predictions_lr)\n",
    "accuracy_rf = evaluator.evaluate(predictions_rf)\n",
    "accuracy_nb = evaluator.evaluate(predictions_nb)\n",
    "\n",
    "print(\"Accuracy of Logistic Regression: \", accuracy_lr)\n",
    "print(\"Accuracy of Random Forest: \", accuracy_rf)\n",
    "print(\"Accuracy of Naive Bayes: \", accuracy_nb)"
   ]
  },
  {
   "cell_type": "markdown",
   "metadata": {},
   "source": [
    "## **Use CountVectorizer instead of HashingTF and regexTokenizer instead of Tokenizer**"
   ]
  },
  {
   "cell_type": "code",
   "execution_count": 23,
   "metadata": {},
   "outputs": [],
   "source": [
    "# loading back the data\n",
    "arxiv_dataset = load_data_from_json(sc, \"/home/ubuntu/data/arxiv-sample.json\")"
   ]
  },
  {
   "cell_type": "code",
   "execution_count": 24,
   "metadata": {},
   "outputs": [],
   "source": [
    "# drop columns\n",
    "drop_colums = [\"authors_parsed\", \"authors_list\", \"comments\", \"doi\", \"journal-ref\", \"license\", \"report-no\", \"submitter\", \"title\", \"versions\", \"authors\", \"update_date\"]\n",
    "arxiv_dataset = arxiv_dataset.drop(*drop_colums)\n",
    "# from the categories column, get the first category\n",
    "arxiv_dataset = arxiv_dataset.withColumn(\"category\", split(\"categories\", \" \")[0])\n",
    "# drop the categories column\n",
    "arxiv_dataset = arxiv_dataset.drop(\"categories\")\n",
    "string_indexer = StringIndexer(inputCol=\"category\", outputCol=\"label\", handleInvalid=\"skip\")\n",
    "indexer_fitted = string_indexer.fit(arxiv_dataset)\n",
    "labels = indexer_fitted.labels # retrieve labels in order to use them later\n",
    "arxiv_dataset = indexer_fitted.transform(arxiv_dataset)\n"
   ]
  },
  {
   "cell_type": "code",
   "execution_count": 25,
   "metadata": {},
   "outputs": [
    {
     "name": "stderr",
     "output_type": "stream",
     "text": [
      "                                                                                \r"
     ]
    }
   ],
   "source": [
    "regexTokenizer = RegexTokenizer(inputCol=\"abstract\", outputCol=\"words\", pattern=\"\\\\W\")\n",
    "stopwordsRemover = StopWordsRemover(inputCol=\"words\", outputCol=\"filtered\")\n",
    "countVectors = CountVectorizer(inputCol=\"filtered\", outputCol=\"features\", vocabSize=10000, minDF=5)\n",
    "\n",
    "pipeline = Pipeline(stages=[regexTokenizer, stopwordsRemover, countVectors])\n",
    "\n",
    "# fit the pipeline\n",
    "pipeline_fit = pipeline.fit(arxiv_dataset)\n",
    "dataset = pipeline_fit.transform(arxiv_dataset)"
   ]
  },
  {
   "cell_type": "code",
   "execution_count": 26,
   "metadata": {},
   "outputs": [],
   "source": [
    "# Split the data into training and testing sets\n",
    "(training_data, testing_data) = dataset.randomSplit([0.8, 0.2], seed=123)"
   ]
  },
  {
   "cell_type": "code",
   "execution_count": 27,
   "metadata": {},
   "outputs": [
    {
     "name": "stderr",
     "output_type": "stream",
     "text": [
      "                                                                                \r"
     ]
    }
   ],
   "source": [
    "# Train the model\n",
    "model_lr = lr.fit(training_data)\n",
    "model_rf = rf.fit(training_data)\n",
    "model_nb = nb.fit(training_data)"
   ]
  },
  {
   "cell_type": "code",
   "execution_count": 28,
   "metadata": {},
   "outputs": [],
   "source": [
    "# Make predictions on the testing data\n",
    "predictions_lr = model_lr.transform(testing_data)\n",
    "predictions_rf = model_rf.transform(testing_data)\n",
    "predictions_nb = model_nb.transform(testing_data)"
   ]
  },
  {
   "cell_type": "code",
   "execution_count": 29,
   "metadata": {},
   "outputs": [
    {
     "name": "stderr",
     "output_type": "stream",
     "text": [
      "24/01/18 19:56:34 WARN DAGScheduler: Broadcasting large task binary with size 9.4 MiB\n",
      "24/01/18 19:56:36 WARN DAGScheduler: Broadcasting large task binary with size 9.3 MiB\n",
      "[Stage 128:==============>                                          (1 + 3) / 4]\r"
     ]
    },
    {
     "name": "stdout",
     "output_type": "stream",
     "text": [
      "Accuracy of Logistic Regression:  0.5363773206221776\n",
      "Accuracy of Random Forest:  0.21274460612142498\n",
      "Accuracy of Naive Bayes:  0.5785248369292524\n"
     ]
    },
    {
     "name": "stderr",
     "output_type": "stream",
     "text": [
      "                                                                                \r"
     ]
    }
   ],
   "source": [
    "# evaluate accuracy\n",
    "evaluator = MulticlassClassificationEvaluator(labelCol=\"label\", predictionCol=\"prediction\", metricName=\"accuracy\")\n",
    "accuracy_lr = evaluator.evaluate(predictions_lr)\n",
    "accuracy_rf = evaluator.evaluate(predictions_rf)\n",
    "accuracy_nb = evaluator.evaluate(predictions_nb)\n",
    "\n",
    "print(\"Accuracy of Logistic Regression: \", accuracy_lr)\n",
    "print(\"Accuracy of Random Forest: \", accuracy_rf)\n",
    "print(\"Accuracy of Naive Bayes: \", accuracy_nb)"
   ]
  },
  {
   "cell_type": "markdown",
   "metadata": {},
   "source": [
    "# Predict on a single abstract (new article)\n"
   ]
  },
  {
   "cell_type": "code",
   "execution_count": 35,
   "metadata": {},
   "outputs": [
    {
     "name": "stdout",
     "output_type": "stream",
     "text": [
      "+--------------------+---------+----------------+-----+--------------------+--------------------+--------------------+\n",
      "|            abstract|       id|        category|label|               words|            filtered|            features|\n",
      "+--------------------+---------+----------------+-----+--------------------+--------------------+--------------------+\n",
      "|  (Abridged) Lumi...|0704.2177|        astro-ph|  0.0|[abridged, lumino...|[abridged, lumino...|(9267,[0,1,2,5,8,...|\n",
      "|  (abridged) The ...|0704.2970|        astro-ph|  0.0|[abridged, the, s...|[abridged, soft, ...|(9267,[1,3,6,8,11...|\n",
      "|  A ToO observati...|0704.2338|        astro-ph|  0.0|[a, too, observat...|[observation, tev...|(9267,[7,13,16,20...|\n",
      "|  A beautiful the...|0704.2396|physics.class-ph| 52.0|[a, beautiful, th...|[beautiful, theor...|(9267,[95,138,139...|\n",
      "|  A celebrated re...|0704.0644|         math.CO| 20.0|[a, celebrated, r...|[celebrated, resu...|(9267,[6,55,81,13...|\n",
      "+--------------------+---------+----------------+-----+--------------------+--------------------+--------------------+\n",
      "only showing top 5 rows\n",
      "\n"
     ]
    },
    {
     "name": "stderr",
     "output_type": "stream",
     "text": [
      "                                                                                \r"
     ]
    }
   ],
   "source": [
    "testing_data.show(n=5)"
   ]
  },
  {
   "cell_type": "code",
   "execution_count": 57,
   "metadata": {},
   "outputs": [],
   "source": [
    "def predict_on_abstract(model, id='0704.2177'):\n",
    "    # predict on a single abstract from the testing data\n",
    "    prediction = model.transform(testing_data.filter(testing_data.id == id))\n",
    "    \n",
    "    # take the probability array of the prediction\n",
    "    # prediction.select(\"probability\").show(truncate=False)\n",
    "    # convert the probability array to a list\n",
    "    list_prediction = prediction.select(\"probability\").collect()[0][0].toArray().tolist()\n",
    "    # print(list_prediction)\n",
    "    threshold = 0.2\n",
    "    for i in range(len(list_prediction)):\n",
    "        if list_prediction[i] > threshold:\n",
    "            print(labels[i])\n",
    "\n",
    "    print(\"Actual category :\" + testing_data.filter(testing_data.id == \"0704.2177\").collect()[0].category)"
   ]
  },
  {
   "cell_type": "code",
   "execution_count": 56,
   "metadata": {},
   "outputs": [
    {
     "name": "stderr",
     "output_type": "stream",
     "text": [
      "24/01/18 20:03:20 WARN DAGScheduler: Broadcasting large task binary with size 9.4 MiB\n",
      "                                                                                \r"
     ]
    },
    {
     "name": "stdout",
     "output_type": "stream",
     "text": [
      "astro-ph\n",
      "Actual category :astro-ph\n"
     ]
    },
    {
     "name": "stderr",
     "output_type": "stream",
     "text": [
      "                                                                                \r"
     ]
    }
   ],
   "source": [
    "predict_on_abstract(model_lr)"
   ]
  },
  {
   "cell_type": "code",
   "execution_count": 58,
   "metadata": {},
   "outputs": [
    {
     "name": "stdout",
     "output_type": "stream",
     "text": [
      "astro-ph\n",
      "Actual category :astro-ph\n"
     ]
    }
   ],
   "source": [
    "predict_on_abstract(model_rf)"
   ]
  },
  {
   "cell_type": "code",
   "execution_count": 59,
   "metadata": {},
   "outputs": [
    {
     "name": "stderr",
     "output_type": "stream",
     "text": [
      "24/01/18 20:04:05 WARN DAGScheduler: Broadcasting large task binary with size 9.3 MiB\n",
      "                                                                                \r"
     ]
    },
    {
     "name": "stdout",
     "output_type": "stream",
     "text": [
      "astro-ph\n",
      "Actual category :astro-ph\n"
     ]
    }
   ],
   "source": [
    "predict_on_abstract(model_nb)"
   ]
  },
  {
   "cell_type": "markdown",
   "metadata": {},
   "source": [
    "### **Articles Distribution**"
   ]
  },
  {
   "cell_type": "code",
   "execution_count": 71,
   "metadata": {},
   "outputs": [
    {
     "name": "stderr",
     "output_type": "stream",
     "text": [
      "                                                                                \r"
     ]
    }
   ],
   "source": [
    "arxiv_dataset = load_data_from_json(sc, PATH)"
   ]
  },
  {
   "cell_type": "code",
   "execution_count": 60,
   "metadata": {},
   "outputs": [],
   "source": [
    "def filter_by_category(dataset, category):\n",
    "  return dataset.filter(dataset.categories.contains(category))"
   ]
  },
  {
   "cell_type": "code",
   "execution_count": 61,
   "metadata": {},
   "outputs": [],
   "source": [
    "def convert_data(rfc_1123_date):\n",
    "  return datetime.strftime(datetime.strptime(rfc_1123_date, \"%a, %d %b %Y %H:%M:%S %Z\"), \"%Y-%m\")"
   ]
  },
  {
   "cell_type": "code",
   "execution_count": 62,
   "metadata": {},
   "outputs": [],
   "source": [
    "def create_graph(dataset, category):\n",
    "  dataset_panda = dataset.select(\"createDate\", \"count\").toPandas()\n",
    "\n",
    "  plt.plot(dataset_panda[\"createDate\"], dataset_panda[\"count\"])\n",
    "  plt.xlabel('Date')\n",
    "  plt.ylabel('Count')\n",
    "  plt.xticks(rotation=60, ha='right')\n",
    "  plt.title('Paper over time for {} category'.format(category))\n",
    "  plt.show()"
   ]
  },
  {
   "cell_type": "code",
   "execution_count": 65,
   "metadata": {},
   "outputs": [
    {
     "name": "stderr",
     "output_type": "stream",
     "text": [
      "                                                                                \r"
     ]
    },
    {
     "data": {
      "image/png": "[encoded data removed]",
      "text/plain": [
       "<Figure size 640x480 with 1 Axes>"
      ]
     },
     "metadata": {},
     "output_type": "display_data"
    }
   ],
   "source": [
    "def show_papers_over_time(category, df):\n",
    "  # extract creation date\n",
    "  convert_data_f = udf(convert_data, StringType())\n",
    "  modified_df = df.withColumn('createDate', convert_data_f(df.versions[0]['created']))\n",
    "\n",
    "  modified_df = filter_by_category(modified_df, category)\n",
    "  modified_df = modified_df.groupBy('createDate').count().orderBy(asc('createDate'))\n",
    "  create_graph(modified_df, category)\n",
    "\n",
    "show_papers_over_time('hep-th', arxiv_dataset)"
   ]
  },
  {
   "cell_type": "markdown",
   "metadata": {},
   "source": [
    "### **Cluster and top words**"
   ]
  },
  {
   "cell_type": "code",
   "execution_count": 10,
   "metadata": {},
   "outputs": [],
   "source": [
    "def tokenize_dataset(dataset, input_col, output_col):\n",
    "  tokenizer = Tokenizer(inputCol=input_col, outputCol=output_col)\n",
    "  return tokenizer.transform(dataset)\n",
    "\n",
    "def vectorize_dataset(dataset, input_col, output_col):\n",
    "  dataset = remove_extra_spaces(dataset, \"categories\")\n",
    "  words2vec_model = Word2Vec(inputCol=\"words\",\n",
    "                             outputCol=output_col,\n",
    "                             vectorSize=100,\n",
    "                             minCount=1)\n",
    "  return words2vec_model.fit(tokenize_dataset(dataset, input_col, \"words\"))\n",
    "\n",
    "def prepare_data(dataset, output_col='scaled_categories', input_col=\"categories\"):\n",
    "  scaler = StandardScaler(inputCol=\"vector\",\n",
    "                          outputCol=output_col,\n",
    "                          withStd=True,\n",
    "                          withMean=False)\n",
    "  model = vectorize_dataset(dataset, input_col, \"vector\")\n",
    "  scalerModel = scaler.fit(model.getVectors())\n",
    "  # data.select('scaled_categories').show(5)\n",
    "  return scalerModel.transform(model.getVectors())"
   ]
  },
  {
   "cell_type": "code",
   "execution_count": 8,
   "metadata": {},
   "outputs": [],
   "source": [
    "def show_silhouette_score_graph(dataset):\n",
    "  silhouette_score = []\n",
    "  evaluator = ClusteringEvaluator(predictionCol=\"prediction\",\n",
    "                                  featuresCol='scaled_categories',\n",
    "                                  metricName='silhouette',\n",
    "                                  distanceMeasure='squaredEuclidean')\n",
    "  dataset = prepare_data(dataset)\n",
    "  for i in range(2,10):\n",
    "    kmeans=KMeans(featuresCol='scaled_categories', k=i)\n",
    "    model=kmeans.fit(dataset)\n",
    "    predictions=model.transform(dataset)\n",
    "    score=evaluator.evaluate(predictions)\n",
    "    silhouette_score.append(score)\n",
    "    print('Silhouette Score for k =',i,'is',score)\n",
    "\n",
    "  # Choose k = 4\n",
    "  plt.plot(range(2,10),silhouette_score)\n",
    "  plt.xlabel('k')\n",
    "  plt.ylabel('silhouette score')\n",
    "  plt.title('Silhouette Score')\n",
    "  plt.show()"
   ]
  },
  {
   "cell_type": "code",
   "execution_count": 11,
   "metadata": {},
   "outputs": [],
   "source": [
    "def create_clusters(dataset, k_value):\n",
    "  kmeans = KMeans(featuresCol='scaled_categories', k=k_value)\n",
    "  return kmeans.fit(prepare_data(dataset))\n",
    "\n",
    "def create_predictions(model, dataset):\n",
    "  return model.transform(prepare_data(dataset))"
   ]
  },
  {
   "cell_type": "code",
   "execution_count": 12,
   "metadata": {},
   "outputs": [
    {
     "name": "stderr",
     "output_type": "stream",
     "text": [
      "24/01/18 20:14:24 WARN InstanceBuilder: Failed to load implementation from:dev.ludovic.netlib.blas.JNIBLAS\n"
     ]
    },
    {
     "name": "stdout",
     "output_type": "stream",
     "text": [
      "Silhouette Score for k = 2 is 0.9185531368348404\n",
      "Silhouette Score for k = 3 is 0.8743340086579036\n",
      "Silhouette Score for k = 4 is 0.78889854140538\n",
      "Silhouette Score for k = 5 is 0.368740166610696\n",
      "Silhouette Score for k = 6 is 0.6842677435903859\n",
      "Silhouette Score for k = 7 is 0.7799692617910211\n",
      "Silhouette Score for k = 8 is 0.709313032682638\n",
      "Silhouette Score for k = 9 is 0.7759211778165903\n"
     ]
    },
    {
     "data": {
      "image/png": "[encoded data removed]",
      "text/plain": [
       "<Figure size 640x480 with 1 Axes>"
      ]
     },
     "metadata": {},
     "output_type": "display_data"
    },
    {
     "name": "stdout",
     "output_type": "stream",
     "text": [
      "Cluster Centers: \n",
      "[-0.34261504  0.22218171 -0.188369   -0.31235113 -0.13713161 -0.15171259\n",
      "  0.00742106  0.07601832  0.0461024   0.10991912  0.2329148  -0.26980997\n",
      "  0.25160821  0.06346483 -0.07301384 -0.06614036  0.04321602  0.01354296\n",
      " -0.03342347 -0.05075265 -0.04382348 -0.2966513  -0.2120222  -0.31108283\n",
      "  0.01087753 -0.03750378  0.26250575  0.16955519  0.42578045 -0.25637272\n",
      " -0.16867745 -0.10285955  0.00442953  0.05551814 -0.17929239 -0.08945747\n",
      "  0.24194792 -0.0272858   0.17764543 -0.02222575  0.10020325  0.24173763\n",
      " -0.21180483 -0.29754857  0.03212211  0.29025862  0.11880024 -0.31761733\n",
      "  0.34743851  0.11978588 -0.07860813 -0.03007619 -0.24421023 -0.16371925\n",
      " -0.15193923 -0.3283295   0.25616141 -0.24623748  0.20010267 -0.35129188\n",
      " -0.28779838 -0.11966179  0.1818871   0.08359199  0.31126209  0.06632467\n",
      "  0.07136405 -0.1090537   0.13627848  0.39184664 -0.14047987  0.05179581\n",
      "  0.23498243 -0.265085    0.0632679  -0.29156635 -0.12547104 -0.31786982\n",
      " -0.18935154 -0.22031463  0.04072865 -0.27892822 -0.28997078  0.07428542\n",
      "  0.30270747 -0.03083528 -0.226767   -0.16639848  0.23811979  0.44589524\n",
      " -0.06075438  0.2518591  -0.31126022 -0.27078862  0.2426078  -0.21846238\n",
      " -0.1100837  -0.10980408 -0.03148492  0.2442006 ]\n",
      "[ 0.78382599  1.48762027 -7.22070486 -6.99211587 -5.00519942  6.91888799\n",
      "  3.41616074 -1.02185918 -5.08292484  4.63802086  3.06429339  3.91755871\n",
      "  4.89455482 -4.06907863 -6.61090391 -1.07369438 -6.98980324 -2.53683427\n",
      " -5.45107769 -6.47227195  1.68571781 -3.85438614  2.76330746  3.83121491\n",
      " -3.36175412  1.71440224 -6.73119083  1.9971529   3.74868072 -8.4250077\n",
      "  7.7308964  -7.25722911 -4.78793401  8.62790066  0.37697166 -3.16213554\n",
      " -1.76614311  1.54570768 -5.93150121  0.02727716  4.64575531 -1.70414\n",
      " -1.03443776 -2.34570888 -4.23195815 -0.05119852  8.8972496   4.97285855\n",
      " -5.0386149   1.17139215  4.27279814 -6.87018323  1.23557973  1.51929887\n",
      "  2.34824572  7.0153638   3.30706462 -8.99153259 -2.84710285  5.57669003\n",
      "  6.89237078 -0.63853978  4.82706947  5.64094503 -4.39451381  5.28279767\n",
      " -4.14786405  1.77095447 -4.18017861  1.21489125 -2.57991245  7.66330256\n",
      "  3.3832013   2.56790911 -3.53298908  5.34213315  5.62452837  1.22085915\n",
      " -2.75625925 -0.47747012 -5.82111384  4.16736932  4.63015285 -5.5087896\n",
      " -1.1079881   3.868217   -4.75084038 -2.1855168  -3.25825976 -2.08353625\n",
      "  6.16660357 -3.67466028 -3.95836913  0.11190366 -3.45405301  4.054259\n",
      " -1.00713374 -1.35151679 -3.67953178 -0.65248733]\n",
      "[ 3.26138122 -3.93147358  2.45590949  0.27308866  3.75335357  1.99535893\n",
      " -2.93285374 -4.59902669 -1.48150363  2.57290989 -2.23368861  3.04134567\n",
      " -1.65366754  3.76713119  1.88837272 -4.53945536 -0.64995695 -2.31016538\n",
      "  0.68270588 -0.53294009  3.08994752  0.6421492  -1.31368037  0.958786\n",
      "  0.71672585  2.90416517 -2.09515961  3.39854158  0.09968026 -0.2017086\n",
      " -0.0111435   2.55122351  4.03598369 -2.12191228  2.69755261  3.33119753\n",
      " -4.57099592 -4.44610095 -0.49881736 -3.02449922 -1.06185506 -3.82445302\n",
      "  4.6190526   2.40728397 -4.11327271 -2.76530809  0.14311042 -1.18933815\n",
      "  0.36700283 -2.96999331 -3.78560903  0.59731866  1.13897684  1.61861067\n",
      " -2.50028321  1.49628475 -3.75118397 -0.9591705  -3.70474853  1.38224025\n",
      "  0.43864907  1.76001649 -1.37100129 -1.69173065 -1.7360659  -2.76620169\n",
      " -2.22433045  4.18859645 -1.8425793   0.25688132  4.69186861 -0.53278867\n",
      " -3.12517213 -2.21260742 -4.48853121 -0.28989752 -2.28401169 -1.49468265\n",
      "  0.93970888 -2.01229221 -1.3509755   2.58522749 -0.00634108  2.81089861\n",
      " -1.03381427 -3.81455381  1.59962187 -3.31394898 -1.49184665 -1.60199317\n",
      " -3.05577761 -0.38993593  2.72716874  3.40104924  0.75071663  0.90753744\n",
      "  0.62389662  1.16611983  0.21628159 -1.10941848]\n",
      "[ 0.41240481  1.30102988 -0.18419567  0.1073142  -1.30542185  0.20410847\n",
      " -0.70757618  0.54279927 -1.58490729  0.80675555  1.85066581 -0.88371117\n",
      "  1.80667513 -0.34029528 -1.25976114  0.1355766  -1.47226284 -1.57562904\n",
      " -1.66095835  0.87930855  1.32181112 -1.76666299  1.20216863  0.92773682\n",
      " -2.17344256 -0.59411713 -0.99846841 -1.15706658 -0.04235132 -0.99049261\n",
      " -0.39839086  0.25149175 -0.33320752  0.97944805 -1.67249264 -1.83212084\n",
      "  0.28991768  0.85851726 -1.26458417  0.95484132 -1.0590807   1.42629943\n",
      " -0.8457972  -0.52079749 -0.59331163 -0.92146822  0.3841699   1.00879695\n",
      " -0.27658882 -1.24651488  1.22398164 -1.81224148  1.04281701 -1.3196125\n",
      "  1.70039489 -0.03611635 -0.44713738 -0.4349456   0.88468537  0.90998785\n",
      "  0.66019744  0.78834873  2.09733999  1.97443499 -0.85025672  1.73762901\n",
      " -1.52894416  0.64336949 -1.55325243 -0.56730972 -0.39029233  1.45367494\n",
      " -0.59099758  0.76203586  0.63308492  0.99090115  0.28552202  0.94911486\n",
      " -1.66168991  1.35085358 -1.87507098  0.85018611  1.41118245 -1.60294614\n",
      " -1.21846588  1.45557891 -1.70526496 -0.34140457 -1.54433229  0.45995916\n",
      "  0.40612614 -1.62837308 -0.12870637  0.76224104 -1.63592924  1.68677732\n",
      "  1.7460977   1.72842554 -1.96462872 -0.98799305]\n",
      "+----------+\n",
      "|prediction|\n",
      "+----------+\n",
      "|         0|\n",
      "|         0|\n",
      "|         0|\n",
      "|         0|\n",
      "|         3|\n",
      "|         0|\n",
      "|         0|\n",
      "|         0|\n",
      "|         0|\n",
      "|         0|\n",
      "+----------+\n",
      "only showing top 10 rows\n",
      "\n"
     ]
    }
   ],
   "source": [
    "def run():\n",
    "  arxiv_dataset = load_data_from_json(sc, \"/home/ubuntu/data/arxiv-sample.json\")\n",
    "  show_silhouette_score_graph(arxiv_dataset)\n",
    "\n",
    "  model = create_clusters(arxiv_dataset, 4)\n",
    "  print(\"Cluster Centers: \")\n",
    "  for center in model.clusterCenters():\n",
    "    print(center)\n",
    "\n",
    "  create_predictions(model, arxiv_dataset).select('prediction').show(10)\n",
    "\n",
    "run()"
   ]
  },
  {
   "cell_type": "code",
   "execution_count": 13,
   "metadata": {},
   "outputs": [],
   "source": [
    "def prepare_dataset(dataset):\n",
    "  dataset = remove_empty_fields(dataset, \"abstract\")\n",
    "  dataset = remove_empty_newlines(dataset, \"abstract\")\n",
    "  dataset = remove_math_formula(dataset, \"abstract\")\n",
    "  dataset = convert_to_lowercase(dataset, \"abstract\")\n",
    "  dataset = remove_extra_spaces(dataset, \"abstract\")\n",
    "  return dataset"
   ]
  },
  {
   "cell_type": "code",
   "execution_count": 14,
   "metadata": {},
   "outputs": [],
   "source": [
    "def show_word_cloud(dataset, category):\n",
    "  text =  \" \".join(dataset.filter(dataset.categories.contains(category)).select(\"abstract\").rdd.flatMap(lambda x: x).collect())\n",
    "  wordcloud = WordCloud().generate(text)\n",
    "\n",
    "  plt.imshow(wordcloud, interpolation='bilinear')\n",
    "  plt.axis(\"off\")\n",
    "  plt.show()"
   ]
  },
  {
   "cell_type": "code",
   "execution_count": 15,
   "metadata": {},
   "outputs": [],
   "source": [
    "def show_word_top(dataset, category, count):\n",
    "  dataset = remove_stop_words(dataset, \"abstract\", \"filtered_abstract\", list(STOPWORDS))\n",
    "  dataset = dataset.filter(dataset.categories.contains(category))\n",
    "  dataset = dataset.withColumn('filtered_abstract', explode(split('filtered_abstract', ' '))).groupBy('filtered_abstract').count().orderBy(desc('count'))\n",
    "  top_val_dict = {r['filtered_abstract']:r['count'] for r in dataset.head(count)}\n",
    "  top_val_dict.pop(\"\")\n",
    "  print(top_val_dict)\n"
   ]
  },
  {
   "cell_type": "code",
   "execution_count": 16,
   "metadata": {},
   "outputs": [
    {
     "name": "stderr",
     "output_type": "stream",
     "text": [
      "                                                                                \r"
     ]
    },
    {
     "data": {
      "image/png": "[encoded data removed]",
      "text/plain": [
       "<Figure size 640x480 with 1 Axes>"
      ]
     },
     "metadata": {},
     "output_type": "display_data"
    },
    {
     "name": "stderr",
     "output_type": "stream",
     "text": [
      "[Stage 258:=====================================================> (29 + 1) / 30]\r"
     ]
    },
    {
     "name": "stdout",
     "output_type": "stream",
     "text": [
      "{'model': 9493, 'data': 9392, 'show': 8309, 'distribution': 8145, 'results': 8087, 'random': 7390, 'estimator': 7127, 'based': 7050, 'estimation': 6960}\n"
     ]
    },
    {
     "name": "stderr",
     "output_type": "stream",
     "text": [
      "                                                                                \r"
     ]
    }
   ],
   "source": [
    "def run():\n",
    "  arxiv_dataset = load_data_from_json(sc, PATH)\n",
    "  show_word_cloud(arxiv_dataset, \"stat.TH\")\n",
    "  show_word_top(arxiv_dataset, \"stat.TH\", 10)\n",
    "\n",
    "run()"
   ]
  },
  {
   "cell_type": "markdown",
   "metadata": {},
   "source": [
    "## **Prolific authors**"
   ]
  },
  {
   "cell_type": "markdown",
   "metadata": {},
   "source": [
    "### **Article categories**"
   ]
  },
  {
   "cell_type": "code",
   "execution_count": 10,
   "metadata": {},
   "outputs": [
    {
     "name": "stderr",
     "output_type": "stream",
     "text": [
      "[Stage 7:=====================================================>   (28 + 2) / 30]\r"
     ]
    },
    {
     "name": "stdout",
     "output_type": "stream",
     "text": [
      "{'stat.CO', 'q-bio.TO', 'math.RT', 'cs.DS', 'q-fin.TR', 'physics.hist-ph', 'q-bio.PE', 'stat.OT', 'eess.IV', 'cond-mat.soft', 'cs.DB', 'cs.DM', 'physics.atm-clus', 'cond-mat.dis-nn', 'cs.GR', 'math.HO', 'astro-ph.GA', 'stat.AP', 'math.CO', 'math.LO', 'physics.ao-ph', 'cs.OH', 'ao-sci', 'cs.CR', 'physics.data-an', 'physics.acc-ph', 'physics.atom-ph', 'gr-qc', 'eess.SY', 'cond-mat.mes-hall', 'eess.SP', 'physics.optics', 'math.PR', 'physics.geo-ph', 'econ.TH', 'astro-ph.IM', 'physics.ins-det', 'math.NA', 'physics.med-ph', 'cs.RO', 'math.CV', 'math.GR', 'cs.GL', 'nucl-th', 'q-fin.ST', 'cond-mat.mtrl-sci', 'acc-phys', 'cs.LG', 'math.SG', 'physics.app-ph', 'math.MP', 'math.CA', 'math.OA', 'math.IT', 'cs.SE', 'cs.IR', 'cs.DC', 'cs.CG', 'math.AT', 'nlin.SI', 'q-bio', 'physics.gen-ph', 'cs.PL', 'cs.SY', 'cs.AI', 'stat.ME', 'physics.bio-ph', 'nlin.PS', 'cs.CC', 'solv-int', 'cs.NA', 'math.DG', 'hep-ex', 'q-fin.RM', 'nlin.AO', 'math.FA', 'math.MG', 'adap-org', 'stat.TH', 'comp-gas', 'cs.MS', 'cs.MM', 'cs.FL', 'dg-ga', 'physics.plasm-ph', 'nlin.CD', 'q-bio.OT', 'q-fin.GN', 'cmp-lg', 'physics.soc-ph', 'cs.OS', 'alg-geom', 'mtrl-th', 'econ.GN', 'q-bio.MN', 'physics.chem-ph', 'cs.ET', 'math.NT', 'cs.AR', 'physics.ed-ph', 'physics.class-ph', 'cond-mat.stat-mech', 'atom-ph', 'patt-sol', 'math.GN', 'math.CT', 'cs.NE', 'astro-ph.SR', 'q-bio.CB', 'math.ST', 'math.OC', 'cs.CE', 'math.DS', 'physics.pop-ph', 'math.QA', 'astro-ph.EP', 'cond-mat', 'q-alg', 'physics.space-ph', 'astro-ph.CO', 'math.AC', 'math.SP', 'q-fin.PR', 'chao-dyn', 'math.GM', 'cs.PF', 'cs.IT', 'eess.AS', 'hep-ph', 'cs.SC', 'econ.EM', 'cond-mat.supr-con', 'cond-mat.other', 'q-bio.GN', 'cs.CL', 'astro-ph.HE', 'bayes-an', 'q-fin.PM', 'cond-mat.str-el', 'cs.DL', 'cs.NI', 'cs.CV', 'chem-ph', 'q-fin.EC', 'astro-ph', 'cs.SI', 'math.GT', 'physics.flu-dyn', 'funct-an', 'math-ph', 'nucl-ex', 'math.RA', 'supr-con', 'cs.CY', 'cs.GT', 'q-fin.MF', 'q-fin.CP', 'cond-mat.quant-gas', 'math.AG', 'q-bio.NC', 'plasm-ph', 'q-bio.QM', 'hep-lat', 'physics.comp-ph', 'stat.ML', 'cs.LO', 'q-bio.BM', 'cs.SD', 'nlin.CG', 'cs.MA', 'math.AP', 'q-bio.SC', 'math.KT', 'hep-th', 'cs.HC', 'quant-ph'}\n"
     ]
    },
    {
     "name": "stderr",
     "output_type": "stream",
     "text": [
      "                                                                                \r"
     ]
    }
   ],
   "source": [
    "arxiv_dataset = load_data_from_json(sc, PATH)\n",
    "categories_df = arxiv_dataset.select(\"categories\")\n",
    "distinct_categories_df = categories_df.distinct()\n",
    "categories_list = distinct_categories_df.rdd.flatMap(lambda x: x).collect()\n",
    "\n",
    "for i in range(len(categories_list)):\n",
    "    element = categories_list[i]\n",
    "    categories = element.split()\n",
    "    categories_list[i] = categories\n",
    "\n",
    "categories_list = set([item for sublist in categories_list for item in sublist])\n",
    "\n",
    "print(categories_list)"
   ]
  },
  {
   "cell_type": "markdown",
   "metadata": {},
   "source": [
    "### **Articles authors**"
   ]
  },
  {
   "cell_type": "code",
   "execution_count": 9,
   "metadata": {},
   "outputs": [
    {
     "name": "stderr",
     "output_type": "stream",
     "text": [
      "[Stage 5:=====================================================>   (28 + 2) / 30]\r"
     ]
    },
    {
     "name": "stdout",
     "output_type": "stream",
     "text": [
      "Number of authors:  1568947\n"
     ]
    },
    {
     "name": "stderr",
     "output_type": "stream",
     "text": [
      "                                                                                \r"
     ]
    }
   ],
   "source": [
    "arxiv_dataset = arxiv_dataset.withColumn(\"authors_list\", get_authors_list(\"authors_parsed\"))\n",
    "\n",
    "authors_df = arxiv_dataset.select(\"authors\")\n",
    "distinct_authors_df = authors_df.distinct()\n",
    "authors_list = distinct_authors_df.rdd.flatMap(lambda x: x).collect()\n",
    "\n",
    "authors = arxiv_dataset.select(\"authors_list\")\n",
    "authors = (\n",
    "    authors.rdd.map(lambda x: x.authors_list)\n",
    "    .map(lambda x: [item for item in x])\n",
    "    .flatMap(lambda x: x)\n",
    "    .distinct()\n",
    ")\n",
    "\n",
    "print(\"Number of authors: \", authors.count())"
   ]
  },
  {
   "cell_type": "code",
   "execution_count": 17,
   "metadata": {},
   "outputs": [
    {
     "name": "stderr",
     "output_type": "stream",
     "text": [
      "                                                                                \r"
     ]
    },
    {
     "data": {
      "text/plain": [
       "['Law C. K.',\n",
       " 'Shu Zhan',\n",
       " 'Hergenrother C. W.',\n",
       " 'Brejová Broňa',\n",
       " 'Fouxon Itzhak',\n",
       " 'Leach P. G. L.',\n",
       " 'Tacconi L. J.',\n",
       " 'Martin A. M.',\n",
       " 'Gu Bo',\n",
       " 'Brink D. M.']"
      ]
     },
     "execution_count": 17,
     "metadata": {},
     "output_type": "execute_result"
    }
   ],
   "source": [
    "authors.collect()[:10]"
   ]
  },
  {
   "cell_type": "markdown",
   "metadata": {},
   "source": [
    "### **Find prolific authors for a specific category**"
   ]
  },
  {
   "cell_type": "code",
   "execution_count": null,
   "metadata": {},
   "outputs": [
    {
     "name": "stderr",
     "output_type": "stream",
     "text": [
      "                                                                                \r"
     ]
    },
    {
     "name": "stdout",
     "output_type": "stream",
     "text": [
      "Category: stat.CO Author: Jasra Ajay\n"
     ]
    },
    {
     "name": "stderr",
     "output_type": "stream",
     "text": [
      "                                                                                \r"
     ]
    },
    {
     "name": "stdout",
     "output_type": "stream",
     "text": [
      "Category: q-bio.TO Author: Iber Dagmar\n"
     ]
    },
    {
     "name": "stderr",
     "output_type": "stream",
     "text": [
      "                                                                                \r"
     ]
    },
    {
     "name": "stdout",
     "output_type": "stream",
     "text": [
      "Category: math.RT Author: Futorny Vyacheslav\n"
     ]
    },
    {
     "name": "stderr",
     "output_type": "stream",
     "text": [
      "                                                                                \r"
     ]
    },
    {
     "name": "stdout",
     "output_type": "stream",
     "text": [
      "Category: cs.DS Author: Woodruff David P.\n"
     ]
    },
    {
     "name": "stderr",
     "output_type": "stream",
     "text": [
      "                                                                                \r"
     ]
    },
    {
     "name": "stdout",
     "output_type": "stream",
     "text": [
      "Category: q-fin.TR Author: Lillo Fabrizio\n"
     ]
    },
    {
     "name": "stderr",
     "output_type": "stream",
     "text": [
      "                                                                                \r"
     ]
    },
    {
     "name": "stdout",
     "output_type": "stream",
     "text": [
      "Category: physics.hist-ph Author: Hamacher Duane W.\n"
     ]
    },
    {
     "name": "stderr",
     "output_type": "stream",
     "text": [
      "                                                                                \r"
     ]
    },
    {
     "name": "stdout",
     "output_type": "stream",
     "text": [
      "Category: q-bio.PE Author: Perc Matjaz\n"
     ]
    },
    {
     "name": "stderr",
     "output_type": "stream",
     "text": [
      "                                                                                \r"
     ]
    },
    {
     "name": "stdout",
     "output_type": "stream",
     "text": [
      "Category: stat.OT Author: Horton Nicholas J.\n"
     ]
    },
    {
     "name": "stderr",
     "output_type": "stream",
     "text": [
      "                                                                                \r"
     ]
    },
    {
     "name": "stdout",
     "output_type": "stream",
     "text": [
      "Category: eess.IV Author: Maier Andreas\n"
     ]
    },
    {
     "name": "stderr",
     "output_type": "stream",
     "text": [
      "                                                                                \r"
     ]
    },
    {
     "name": "stdout",
     "output_type": "stream",
     "text": [
      "Category: cond-mat.soft Author: Löwen Hartmut\n"
     ]
    },
    {
     "name": "stderr",
     "output_type": "stream",
     "text": [
      "                                                                                \r"
     ]
    },
    {
     "name": "stdout",
     "output_type": "stream",
     "text": [
      "Category: cs.DB Author: Darmont Jérôme\n"
     ]
    },
    {
     "name": "stderr",
     "output_type": "stream",
     "text": [
      "                                                                                \r"
     ]
    },
    {
     "name": "stdout",
     "output_type": "stream",
     "text": [
      "Category: cs.DM Author: Shallit Jeffrey\n"
     ]
    },
    {
     "name": "stderr",
     "output_type": "stream",
     "text": [
      "                                                                                \r"
     ]
    },
    {
     "name": "stdout",
     "output_type": "stream",
     "text": [
      "Category: physics.atm-clus Author: Küpper Jochen\n"
     ]
    },
    {
     "name": "stderr",
     "output_type": "stream",
     "text": [
      "                                                                                \r"
     ]
    },
    {
     "name": "stdout",
     "output_type": "stream",
     "text": [
      "Category: cond-mat.dis-nn Author: Parisi Giorgio\n"
     ]
    },
    {
     "name": "stderr",
     "output_type": "stream",
     "text": [
      "                                                                                \r"
     ]
    },
    {
     "name": "stdout",
     "output_type": "stream",
     "text": [
      "Category: cs.GR Author: Cohen-Or Daniel\n"
     ]
    },
    {
     "name": "stderr",
     "output_type": "stream",
     "text": [
      "                                                                                \r"
     ]
    },
    {
     "name": "stdout",
     "output_type": "stream",
     "text": [
      "Category: math.HO Author: Katz Mikhail G.\n"
     ]
    },
    {
     "name": "stderr",
     "output_type": "stream",
     "text": [
      "                                                                                \r"
     ]
    },
    {
     "name": "stdout",
     "output_type": "stream",
     "text": [
      "Category: astro-ph.GA Author: Menten K. M.\n"
     ]
    },
    {
     "name": "stderr",
     "output_type": "stream",
     "text": [
      "                                                                                \r"
     ]
    },
    {
     "name": "stdout",
     "output_type": "stream",
     "text": [
      "Category: stat.AP Author: Small Dylan S.\n"
     ]
    },
    {
     "name": "stderr",
     "output_type": "stream",
     "text": [
      "                                                                                \r"
     ]
    },
    {
     "name": "stdout",
     "output_type": "stream",
     "text": [
      "Category: math.CO Author: Sudakov Benny\n"
     ]
    },
    {
     "name": "stderr",
     "output_type": "stream",
     "text": [
      "                                                                                \r"
     ]
    },
    {
     "name": "stdout",
     "output_type": "stream",
     "text": [
      "Category: math.LO Author: Shelah Saharon\n"
     ]
    },
    {
     "name": "stderr",
     "output_type": "stream",
     "text": [
      "                                                                                \r"
     ]
    },
    {
     "name": "stdout",
     "output_type": "stream",
     "text": [
      "Category: physics.ao-ph Author: Lucarini Valerio\n"
     ]
    },
    {
     "name": "stderr",
     "output_type": "stream",
     "text": [
      "                                                                                \r"
     ]
    },
    {
     "name": "stdout",
     "output_type": "stream",
     "text": [
      "Category: cs.OH Author: Troccaz Jocelyne\n"
     ]
    },
    {
     "name": "stderr",
     "output_type": "stream",
     "text": [
      "                                                                                \r"
     ]
    },
    {
     "name": "stdout",
     "output_type": "stream",
     "text": [
      "Category: ao-sci Author: Griffies Stephen M.\n"
     ]
    },
    {
     "name": "stderr",
     "output_type": "stream",
     "text": [
      "                                                                                \r"
     ]
    },
    {
     "name": "stdout",
     "output_type": "stream",
     "text": [
      "Category: cs.CR Author: Conti Mauro\n"
     ]
    },
    {
     "name": "stderr",
     "output_type": "stream",
     "text": [
      "                                                                                \r"
     ]
    },
    {
     "name": "stdout",
     "output_type": "stream",
     "text": [
      "Category: physics.data-an Author: Zhou Tao\n"
     ]
    },
    {
     "name": "stderr",
     "output_type": "stream",
     "text": [
      "                                                                                \r"
     ]
    },
    {
     "name": "stdout",
     "output_type": "stream",
     "text": [
      "Category: physics.acc-ph Author: Nagaitsev S.\n"
     ]
    },
    {
     "name": "stderr",
     "output_type": "stream",
     "text": [
      "                                                                                \r"
     ]
    },
    {
     "name": "stdout",
     "output_type": "stream",
     "text": [
      "Category: physics.atom-ph Author: Flambaum V. V.\n"
     ]
    },
    {
     "name": "stderr",
     "output_type": "stream",
     "text": [
      "                                                                                \r"
     ]
    },
    {
     "name": "stdout",
     "output_type": "stream",
     "text": [
      "Category: gr-qc Author: Cardoso Vitor\n"
     ]
    },
    {
     "name": "stderr",
     "output_type": "stream",
     "text": [
      "                                                                                \r"
     ]
    },
    {
     "name": "stdout",
     "output_type": "stream",
     "text": [
      "Category: eess.SY Author: Ames Aaron D.\n"
     ]
    },
    {
     "name": "stderr",
     "output_type": "stream",
     "text": [
      "                                                                                \r"
     ]
    },
    {
     "name": "stdout",
     "output_type": "stream",
     "text": [
      "Category: cond-mat.mes-hall Author: Taniguchi Takashi\n"
     ]
    },
    {
     "name": "stderr",
     "output_type": "stream",
     "text": [
      "                                                                                \r"
     ]
    },
    {
     "name": "stdout",
     "output_type": "stream",
     "text": [
      "Category: eess.SP Author: Eldar Yonina C.\n"
     ]
    },
    {
     "name": "stderr",
     "output_type": "stream",
     "text": [
      "                                                                                \r"
     ]
    },
    {
     "name": "stdout",
     "output_type": "stream",
     "text": [
      "Category: physics.optics Author: Malomed Boris A.\n"
     ]
    },
    {
     "name": "stderr",
     "output_type": "stream",
     "text": [
      "                                                                                \r"
     ]
    },
    {
     "name": "stdout",
     "output_type": "stream",
     "text": [
      "Category: math.PR Author: Peres Yuval\n"
     ]
    },
    {
     "name": "stderr",
     "output_type": "stream",
     "text": [
      "                                                                                \r"
     ]
    },
    {
     "name": "stdout",
     "output_type": "stream",
     "text": [
      "Category: physics.geo-ph Author: Lucarini Valerio\n"
     ]
    },
    {
     "name": "stderr",
     "output_type": "stream",
     "text": [
      "                                                                                \r"
     ]
    },
    {
     "name": "stdout",
     "output_type": "stream",
     "text": [
      "Category: econ.TH Author: Tamuz Omer\n"
     ]
    },
    {
     "name": "stderr",
     "output_type": "stream",
     "text": [
      "                                                                                \r"
     ]
    },
    {
     "name": "stdout",
     "output_type": "stream",
     "text": [
      "Category: astro-ph.IM Author: Guyon Olivier\n"
     ]
    },
    {
     "name": "stderr",
     "output_type": "stream",
     "text": [
      "                                                                                \r"
     ]
    },
    {
     "name": "stdout",
     "output_type": "stream",
     "text": [
      "Category: physics.ins-det Author: Weber M.\n"
     ]
    },
    {
     "name": "stderr",
     "output_type": "stream",
     "text": [
      "                                                                                \r"
     ]
    },
    {
     "name": "stdout",
     "output_type": "stream",
     "text": [
      "Category: math.NA Author: Rozza Gianluigi\n"
     ]
    },
    {
     "name": "stderr",
     "output_type": "stream",
     "text": [
      "                                                                                \r"
     ]
    },
    {
     "name": "stdout",
     "output_type": "stream",
     "text": [
      "Category: physics.med-ph Author: Payan Yohan\n"
     ]
    },
    {
     "name": "stderr",
     "output_type": "stream",
     "text": [
      "                                                                                \r"
     ]
    },
    {
     "name": "stdout",
     "output_type": "stream",
     "text": [
      "Category: cs.RO Author: Levine Sergey\n"
     ]
    },
    {
     "name": "stderr",
     "output_type": "stream",
     "text": [
      "                                                                                \r"
     ]
    },
    {
     "name": "stdout",
     "output_type": "stream",
     "text": [
      "Category: math.CV Author: Ponnusamy Saminathan\n"
     ]
    },
    {
     "name": "stderr",
     "output_type": "stream",
     "text": [
      "                                                                                \r"
     ]
    },
    {
     "name": "stdout",
     "output_type": "stream",
     "text": [
      "Category: math.GR Author: Praeger Cheryl E.\n"
     ]
    },
    {
     "name": "stderr",
     "output_type": "stream",
     "text": [
      "                                                                                \r"
     ]
    },
    {
     "name": "stdout",
     "output_type": "stream",
     "text": [
      "Category: cs.GL Author: Dodig-Crnkovic Gordana\n"
     ]
    },
    {
     "name": "stderr",
     "output_type": "stream",
     "text": [
      "                                                                                \r"
     ]
    },
    {
     "name": "stdout",
     "output_type": "stream",
     "text": [
      "Category: nucl-th Author: Meißner Ulf-G.\n"
     ]
    },
    {
     "name": "stderr",
     "output_type": "stream",
     "text": [
      "                                                                                \r"
     ]
    },
    {
     "name": "stdout",
     "output_type": "stream",
     "text": [
      "Category: q-fin.ST Author: Zhou Wei-Xing\n"
     ]
    },
    {
     "name": "stderr",
     "output_type": "stream",
     "text": [
      "                                                                                \r"
     ]
    },
    {
     "name": "stdout",
     "output_type": "stream",
     "text": [
      "Category: cond-mat.mtrl-sci Author: Taniguchi Takashi\n"
     ]
    },
    {
     "name": "stderr",
     "output_type": "stream",
     "text": [
      "                                                                                \r"
     ]
    },
    {
     "name": "stdout",
     "output_type": "stream",
     "text": [
      "Category: acc-phys Author: Kurennoy Sergey S.\n"
     ]
    },
    {
     "name": "stderr",
     "output_type": "stream",
     "text": [
      "                                                                                \r"
     ]
    },
    {
     "name": "stdout",
     "output_type": "stream",
     "text": [
      "Category: cs.LG Author: Bengio Yoshua\n"
     ]
    },
    {
     "name": "stderr",
     "output_type": "stream",
     "text": [
      "                                                                                \r"
     ]
    },
    {
     "name": "stdout",
     "output_type": "stream",
     "text": [
      "Category: math.SG Author: Miranda Eva\n"
     ]
    },
    {
     "name": "stderr",
     "output_type": "stream",
     "text": [
      "                                                                                \r"
     ]
    },
    {
     "name": "stdout",
     "output_type": "stream",
     "text": [
      "Category: physics.app-ph Author: Taniguchi Takashi\n"
     ]
    },
    {
     "name": "stderr",
     "output_type": "stream",
     "text": [
      "                                                                                \r"
     ]
    },
    {
     "name": "stdout",
     "output_type": "stream",
     "text": [
      "Category: math.MP Author: Exner Pavel\n"
     ]
    },
    {
     "name": "stderr",
     "output_type": "stream",
     "text": [
      "                                                                                \r"
     ]
    },
    {
     "name": "stdout",
     "output_type": "stream",
     "text": [
      "Category: math.CA Author: Yang Dachun\n"
     ]
    },
    {
     "name": "stderr",
     "output_type": "stream",
     "text": [
      "                                                                                \r"
     ]
    },
    {
     "name": "stdout",
     "output_type": "stream",
     "text": [
      "Category: math.OA Author: Sims Aidan\n"
     ]
    },
    {
     "name": "stderr",
     "output_type": "stream",
     "text": [
      "                                                                                \r"
     ]
    },
    {
     "name": "stdout",
     "output_type": "stream",
     "text": [
      "Category: math.IT Author: Poor H. Vincent\n"
     ]
    },
    {
     "name": "stderr",
     "output_type": "stream",
     "text": [
      "                                                                                \r"
     ]
    },
    {
     "name": "stdout",
     "output_type": "stream",
     "text": [
      "Category: cs.SE Author: Lo David\n"
     ]
    },
    {
     "name": "stderr",
     "output_type": "stream",
     "text": [
      "                                                                                \r"
     ]
    },
    {
     "name": "stdout",
     "output_type": "stream",
     "text": [
      "Category: cs.IR Author: de Rijke Maarten\n"
     ]
    },
    {
     "name": "stderr",
     "output_type": "stream",
     "text": [
      "                                                                                \r"
     ]
    },
    {
     "name": "stdout",
     "output_type": "stream",
     "text": [
      "Category: cs.DC Author: Buyya Rajkumar\n"
     ]
    },
    {
     "name": "stderr",
     "output_type": "stream",
     "text": [
      "                                                                                \r"
     ]
    },
    {
     "name": "stdout",
     "output_type": "stream",
     "text": [
      "Category: cs.CG Author: Demaine Erik D.\n"
     ]
    },
    {
     "name": "stderr",
     "output_type": "stream",
     "text": [
      "                                                                                \r"
     ]
    },
    {
     "name": "stdout",
     "output_type": "stream",
     "text": [
      "Category: math.AT Author: Masuda Mikiya\n"
     ]
    },
    {
     "name": "stderr",
     "output_type": "stream",
     "text": [
      "                                                                                \r"
     ]
    },
    {
     "name": "stdout",
     "output_type": "stream",
     "text": [
      "Category: nlin.SI Author: Lakshmanan M.\n"
     ]
    },
    {
     "name": "stderr",
     "output_type": "stream",
     "text": [
      "                                                                                \r"
     ]
    },
    {
     "name": "stdout",
     "output_type": "stream",
     "text": [
      "Category: q-bio Author: Bassett Danielle S.\n"
     ]
    },
    {
     "name": "stderr",
     "output_type": "stream",
     "text": [
      "                                                                                \r"
     ]
    },
    {
     "name": "stdout",
     "output_type": "stream",
     "text": [
      "Category: physics.gen-ph Author: Jamil Mubasher\n"
     ]
    },
    {
     "name": "stderr",
     "output_type": "stream",
     "text": [
      "                                                                                \r"
     ]
    },
    {
     "name": "stdout",
     "output_type": "stream",
     "text": [
      "Category: cs.PL Author: Yoshida Nobuko\n"
     ]
    },
    {
     "name": "stderr",
     "output_type": "stream",
     "text": [
      "                                                                                \r"
     ]
    },
    {
     "name": "stdout",
     "output_type": "stream",
     "text": [
      "Category: cs.SY Author: Lygeros John\n"
     ]
    },
    {
     "name": "stderr",
     "output_type": "stream",
     "text": [
      "                                                                                \r"
     ]
    },
    {
     "name": "stdout",
     "output_type": "stream",
     "text": [
      "Category: cs.AI Author: Levine Sergey\n"
     ]
    },
    {
     "name": "stderr",
     "output_type": "stream",
     "text": [
      "                                                                                \r"
     ]
    },
    {
     "name": "stdout",
     "output_type": "stream",
     "text": [
      "Category: stat.ME Author: Fan Jianqing\n"
     ]
    },
    {
     "name": "stderr",
     "output_type": "stream",
     "text": [
      "                                                                                \r"
     ]
    },
    {
     "name": "stdout",
     "output_type": "stream",
     "text": [
      "Category: physics.bio-ph Author: Lauga Eric\n"
     ]
    },
    {
     "name": "stderr",
     "output_type": "stream",
     "text": [
      "                                                                                \r"
     ]
    },
    {
     "name": "stdout",
     "output_type": "stream",
     "text": [
      "Category: nlin.PS Author: Kevrekidis P. G.\n"
     ]
    },
    {
     "name": "stderr",
     "output_type": "stream",
     "text": [
      "                                                                                \r"
     ]
    },
    {
     "name": "stdout",
     "output_type": "stream",
     "text": [
      "Category: cs.CC Author: Demaine Erik D.\n"
     ]
    },
    {
     "name": "stderr",
     "output_type": "stream",
     "text": [
      "                                                                                \r"
     ]
    },
    {
     "name": "stdout",
     "output_type": "stream",
     "text": [
      "Category: solv-int Author: Ramani A.\n"
     ]
    },
    {
     "name": "stderr",
     "output_type": "stream",
     "text": [
      "                                                                                \r"
     ]
    },
    {
     "name": "stdout",
     "output_type": "stream",
     "text": [
      "Category: cs.NA Author: Rozza Gianluigi\n"
     ]
    },
    {
     "name": "stderr",
     "output_type": "stream",
     "text": [
      "                                                                                \r"
     ]
    },
    {
     "name": "stdout",
     "output_type": "stream",
     "text": [
      "Category: math.DG Author: Biswas Indranil\n"
     ]
    },
    {
     "name": "stderr",
     "output_type": "stream",
     "text": [
      "                                                                                \r"
     ]
    }
   ],
   "source": [
    "for category in categories_list:\n",
    "  filtered_df = arxiv_dataset.filter(col(\"categories\").like(f\"%{category}%\"))\n",
    "  authors_per_category = filtered_df.select(\"authors_parsed\").distinct().rdd.flatMap(lambda x: x).collect()\n",
    "\n",
    "  prolific_authors = {}\n",
    "  for author_list in authors_per_category:\n",
    "      for author in author_list:\n",
    "          author_name = author[0] + ' ' + author[1]\n",
    "          prolific_authors[author_name] = prolific_authors.get(author_name,0) + 1\n",
    "      \n",
    "  max_author = max(prolific_authors, key=prolific_authors.get)\n",
    "  print(\"Category: \" + category + \" Author: \" + str(max_author))\n"
   ]
  }
 ],
 "metadata": {
  "kernelspec": {
   "display_name": "Python (BDA)",
   "language": "python",
   "name": "other-env"
  },
  "language_info": {
   "codemirror_mode": {
    "name": "ipython",
    "version": 3
   },
   "file_extension": ".py",
   "mimetype": "text/x-python",
   "name": "python",
   "nbconvert_exporter": "python",
   "pygments_lexer": "ipython3",
   "version": "3.10.12"
  }
 },
 "nbformat": 4,
 "nbformat_minor": 4
}
