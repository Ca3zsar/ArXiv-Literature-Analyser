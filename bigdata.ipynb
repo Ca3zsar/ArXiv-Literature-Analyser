{
 "cells": [
  {
   "cell_type": "code",
   "execution_count": 6,
   "metadata": {},
   "outputs": [],
   "source": [
    "import os\n",
    "import sys\n",
    "from pyspark.sql import SparkSession\n",
    "from pyspark.ml.feature import Word2Vec, Tokenizer\n",
    "from pyspark.sql.functions import regexp_replace, lower, col, udf\n",
    "from pyspark.sql.functions import split, size\n",
    "from pyspark.sql.types import StringType, ArrayType\n",
    "from pyspark.ml.classification import RandomForestClassifier, NaiveBayes, LogisticRegression\n",
    "from pyspark.ml.feature import RegexTokenizer, StopWordsRemover, CountVectorizer\n",
    "\n",
    "from pyspark.ml.feature import StringIndexer, Tokenizer, HashingTF, IDF\n",
    "from pyspark.ml.classification import LogisticRegression\n",
    "from pyspark.ml import Pipeline\n",
    "from pyspark.ml.evaluation import MulticlassClassificationEvaluator\n",
    "\n",
    "import spacy\n",
    "import nltk\n",
    "from nltk.corpus import stopwords\n",
    "\n",
    "import matplotlib.pyplot as plt\n",
    "\n",
    "from gensim import corpora, models\n",
    "import numpy as np\n",
    "\n",
    "# Needed on RaaS\n",
    "os.environ['PYSPARK_PYTHON'] = sys.executable\n",
    "\n",
    "# Not needed\n",
    "# os.environ['PYSPARK_DRIVER_PYTHON'] = sys.executable"
   ]
  },
  {
   "cell_type": "code",
   "execution_count": 7,
   "metadata": {},
   "outputs": [],
   "source": [
    "def init_spark():\n",
    "  spark = SparkSession.builder.config(\"spark.driver.memory\", \"5g\").\\\n",
    "                              appName(\"BigData\").getOrCreate()\n",
    "  \n",
    "  sc = spark.sparkContext\n",
    "  return spark, sc"
   ]
  },
  {
   "cell_type": "markdown",
   "metadata": {},
   "source": [
    "## Preprocess dataset for training and testing."
   ]
  },
  {
   "cell_type": "code",
   "execution_count": 3,
   "metadata": {},
   "outputs": [],
   "source": [
    "def get_sample_from_file(file_name, output_file, sample_size = 10_000):\n",
    "    \"\"\"\n",
    "    Reads a file and extracts a sample of lines from it.\n",
    "    \n",
    "    Parameters:\n",
    "    file_name (str): The name of the input file.\n",
    "    output_file (str): The name of the output file where the sample will be written.\n",
    "    sample_size (int): The number of lines to extract from the input file. Default is 10,000.\n",
    "    \"\"\"\n",
    "    \n",
    "    content = \"\"\n",
    "    with open(file_name, \"r\") as f:\n",
    "        for i in range(sample_size):\n",
    "            content += f.readline()\n",
    "\n",
    "    with open(output_file, \"w\") as f:\n",
    "        f.write(content)"
   ]
  },
  {
   "cell_type": "code",
   "execution_count": 8,
   "metadata": {},
   "outputs": [],
   "source": [
    "def load_data_from_json(spark, file_name):\n",
    "    return spark.read.json(file_name)"
   ]
  },
  {
   "cell_type": "markdown",
   "metadata": {},
   "source": [
    "### Initialize Context and Load Sample"
   ]
  },
  {
   "cell_type": "code",
   "execution_count": 4,
   "metadata": {},
   "outputs": [
    {
     "ename": "NameError",
     "evalue": "name 'get_sample_from_file' is not defined",
     "output_type": "error",
     "traceback": [
      "\u001b[1;31m---------------------------------------------------------------------------\u001b[0m",
      "\u001b[1;31mNameError\u001b[0m                                 Traceback (most recent call last)",
      "\u001b[1;32m~\\AppData\\Local\\Temp/ipykernel_22160/1407196167.py\u001b[0m in \u001b[0;36m<module>\u001b[1;34m\u001b[0m\n\u001b[0;32m      1\u001b[0m \u001b[1;31m# Generate a sample from the input file\u001b[0m\u001b[1;33m\u001b[0m\u001b[1;33m\u001b[0m\u001b[1;33m\u001b[0m\u001b[0m\n\u001b[1;32m----> 2\u001b[1;33m \u001b[0mget_sample_from_file\u001b[0m\u001b[1;33m(\u001b[0m\u001b[1;34m\"data.json\"\u001b[0m\u001b[1;33m,\u001b[0m \u001b[1;34m\"arxiv-sample.json\"\u001b[0m\u001b[1;33m)\u001b[0m\u001b[1;33m\u001b[0m\u001b[1;33m\u001b[0m\u001b[0m\n\u001b[0m",
      "\u001b[1;31mNameError\u001b[0m: name 'get_sample_from_file' is not defined"
     ]
    }
   ],
   "source": [
    "# Generate a sample from the input file\n",
    "get_sample_from_file(\"data.json\", \"arxiv-sample.json\")"
   ]
  },
  {
   "cell_type": "code",
   "execution_count": 9,
   "metadata": {},
   "outputs": [],
   "source": [
    "sc = init_spark()[0]\n",
    "arxiv_dataset = load_data_from_json(sc, \"arxiv-sample.json\")"
   ]
  },
  {
   "cell_type": "markdown",
   "metadata": {},
   "source": [
    "## Clean dataset"
   ]
  },
  {
   "cell_type": "markdown",
   "metadata": {},
   "source": [
    "### Searcing for missing values"
   ]
  },
  {
   "cell_type": "code",
   "execution_count": 7,
   "metadata": {},
   "outputs": [
    {
     "name": "stdout",
     "output_type": "stream",
     "text": [
      "Number of missing values in abstract column:  0\n",
      "Number of missing values in title column:  0\n",
      "Number of missing values in categories column:  0\n",
      "Number of missing values in id column:  0\n",
      "Number of missing values in submitter column:  0\n",
      "Number of missing values in authors column:  0\n",
      "Number of missing values in report-no column:  9118\n",
      "Number of missing values in comments column:  1138\n",
      "Number of missing values in doi column:  3641\n",
      "Number of missing values in journal-ref column:  4571\n",
      "Number of missing values in versions column:  0\n"
     ]
    }
   ],
   "source": [
    "# search for missing values\n",
    "print(\"Number of missing values in abstract column: \", arxiv_dataset.filter(arxiv_dataset.abstract.isNull()).count())\n",
    "print(\"Number of missing values in title column: \", arxiv_dataset.filter(arxiv_dataset.title.isNull()).count())\n",
    "print(\"Number of missing values in categories column: \", arxiv_dataset.filter(arxiv_dataset.categories.isNull()).count())\n",
    "print(\"Number of missing values in id column: \", arxiv_dataset.filter(arxiv_dataset.id.isNull()).count())\n",
    "print(\"Number of missing values in submitter column: \", arxiv_dataset.filter(arxiv_dataset.submitter.isNull()).count())\n",
    "print(\"Number of missing values in authors column: \", arxiv_dataset.filter(arxiv_dataset.authors.isNull()).count())\n",
    "print(\"Number of missing values in report-no column: \",arxiv_dataset.filter(arxiv_dataset[\"report-no\"].isNull()).count() )\n",
    "print(\"Number of missing values in comments column: \", arxiv_dataset.filter(arxiv_dataset.comments.isNull()).count())\n",
    "print(\"Number of missing values in doi column: \", arxiv_dataset.filter(arxiv_dataset.doi.isNull()).count())\n",
    "print(\"Number of missing values in journal-ref column: \", arxiv_dataset.filter(arxiv_dataset[\"journal-ref\"].isNull()).count())\n",
    "print(\"Number of missing values in versions column: \", arxiv_dataset.filter(arxiv_dataset.versions.isNull()).count())\n"
   ]
  },
  {
   "cell_type": "code",
   "execution_count": 8,
   "metadata": {},
   "outputs": [
    {
     "data": {
      "text/plain": [
       "0"
      ]
     },
     "execution_count": 8,
     "metadata": {},
     "output_type": "execute_result"
    }
   ],
   "source": [
    "# show rows with empty fields\n",
    "arxiv_dataset.filter(arxiv_dataset[\"abstract\"] == \"\").count()\n",
    "arxiv_dataset.filter(arxiv_dataset[\"title\"] == \"\").count()\n",
    "arxiv_dataset.filter(arxiv_dataset[\"authors\"] == \"\").count()\n",
    "arxiv_dataset.filter(arxiv_dataset[\"categories\"] == \"\").count()"
   ]
  },
  {
   "cell_type": "markdown",
   "metadata": {},
   "source": [
    "### Basic preprocessing functions"
   ]
  },
  {
   "cell_type": "code",
   "execution_count": 13,
   "metadata": {},
   "outputs": [],
   "source": [
    "# fill ALL NULL values with empty string : use after removing rows with empty fields\n",
    "def fill_na_with_empty_string(df):\n",
    "    return df.fillna(\"\")\n",
    "\n",
    "# remove rows with empty fields\n",
    "def remove_empty_fields(df, field_name):\n",
    "    return df.filter(df[field_name] != \"\")\n",
    "\n",
    "# remove \"\\n\" from text\n",
    "def remove_empty_newlines(df, field_name):\n",
    "    return df.withColumn(field_name, regexp_replace(col(field_name), \"\\n\", \" \"))\n",
    "\n",
    "# remove math formulas and latex\n",
    "def remove_math_formula(df, field_name):\n",
    "    return df.withColumn(field_name, regexp_replace(col(field_name), \"\\$.*?\\$\", \"\"))\n",
    "\n",
    "# convert to lowercase\n",
    "def convert_to_lowercase(df, field_name):\n",
    "    return df.withColumn(field_name, lower(col(field_name)))\n",
    "\n",
    "# remove extra spaces\n",
    "def remove_extra_spaces(df, field_name):\n",
    "    df = df.withColumn(field_name, regexp_replace(col(field_name), \" +\", \" \"))\n",
    "    df = df.withColumn(field_name, regexp_replace(col(field_name), \"^ +\", \"\"))\n",
    "    return df\n",
    "\n",
    "# remove punctuation\n",
    "def remove_punctuation(df, field_name):\n",
    "    return df.withColumn(field_name, regexp_replace(col(field_name), \"[^\\w\\s]\", \"\"))\n"
   ]
  },
  {
   "cell_type": "markdown",
   "metadata": {},
   "source": [
    "### Clear 'abstract' column"
   ]
  },
  {
   "cell_type": "code",
   "execution_count": 10,
   "metadata": {},
   "outputs": [],
   "source": [
    "arxiv_dataset = remove_empty_fields(arxiv_dataset, \"abstract\")\n",
    "arxiv_dataset = remove_empty_newlines(arxiv_dataset, \"abstract\")\n",
    "arxiv_dataset = remove_math_formula(arxiv_dataset, \"abstract\")\n",
    "arxiv_dataset = convert_to_lowercase(arxiv_dataset, \"abstract\")\n",
    "arxiv_dataset = remove_extra_spaces(arxiv_dataset, \"abstract\")"
   ]
  },
  {
   "cell_type": "code",
   "execution_count": 11,
   "metadata": {},
   "outputs": [
    {
     "name": "stdout",
     "output_type": "stream",
     "text": [
      "+---------------------------------------------------------------------------------------------------------------------------------------------------------------------------------------------------------------------------------------------------------------------------------------------------------------------------------------------------------------------------------------------------------------------------------------------------------------------------------------------------------------------------------------------------------------------------------------------------------------------------------------------------------------------------------------------------------------------------------------------------------------------------------------------------------------------------------------------------------------------------------------------------------------------------------------------------------------------------------------------------------------------+\n",
      "|abstract                                                                                                                                                                                                                                                                                                                                                                                                                                                                                                                                                                                                                                                                                                                                                                                                                                                                                                                                                                                                             |\n",
      "+---------------------------------------------------------------------------------------------------------------------------------------------------------------------------------------------------------------------------------------------------------------------------------------------------------------------------------------------------------------------------------------------------------------------------------------------------------------------------------------------------------------------------------------------------------------------------------------------------------------------------------------------------------------------------------------------------------------------------------------------------------------------------------------------------------------------------------------------------------------------------------------------------------------------------------------------------------------------------------------------------------------------+\n",
      "|a fully differential calculation in perturbative quantum chromodynamics is presented for the production of massive photon pairs at hadron colliders. all next-to-leading order perturbative contributions from quark-antiquark, gluon-(anti)quark, and gluon-gluon subprocesses are included, as well as all-orders resummation of initial-state gluon radiation valid at next-to-next-to-leading logarithmic accuracy. the region of phase space is specified in which the calculation is most reliable. good agreement is demonstrated with data from the fermilab tevatron, and predictions are made for more detailed tests with cdf and do data. predictions are shown for distributions of diphoton pairs produced at the energy of the large hadron collider (lhc). distributions of the diphoton pairs from the decay of a higgs boson are contrasted with those produced from qcd processes at the lhc, showing that enhanced sensitivity to the signal can be obtained with judicious selection of events. |\n",
      "|we describe a new algorithm, the -pebble game with colors, and use it obtain a characterization of the family of -sparse graphs and algorithmic solutions to a family of problems concerning tree decompositions of graphs. special instances of sparse graphs appear in rigidity theory and have received increased attention in recent years. in particular, our colored pebbles generalize and strengthen the previous results of lee and streinu and give a new proof of the tutte-nash-williams characterization of arboricity. we also present a new decomposition that certifies sparsity based on the -pebble game with colors. our work also exposes connections between pebble game algorithms and previous sparse graph algorithms by gabow, gabow and westermann and hendrickson.                                                                                                                                                                                                                        |\n",
      "|the evolution of earth-moon system is described by the dark matter field fluid model proposed in the meeting of division of particle and field 2004, american physical society. the current behavior of the earth-moon system agrees with this model very well and the general pattern of the evolution of the moon-earth system described by this model agrees with geological and fossil evidence. the closest distance of the moon to earth was about 259000 km at 4.5 billion years ago, which is far beyond the roche's limit. the result suggests that the tidal friction may not be the primary cause for the evolution of the earth-moon system. the average dark matter field fluid constant derived from earth-moon system data is 4.39 x 10^(-22) s^(-1)m^(-1). this model predicts that the mars's rotation is also slowing with the angular acceleration rate about -4.38 x 10^(-22) rad s^(-2).                                                                                                        |\n",
      "|we show that a determinant of stirling cycle numbers counts unlabeled acyclic single-source automata. the proof involves a bijection from these automata to certain marked lattice paths and a sign-reversing involution to evaluate the determinant.                                                                                                                                                                                                                                                                                                                                                                                                                                                                                                                                                                                                                                                                                                                                                                |\n",
      "|in this paper we show how to compute the norm, , using the dyadic grid. this result is a consequence of the description of the hardy spaces in terms of dyadic and special atoms.                                                                                                                                                                                                                                                                                                                                                                                                                                                                                                                                                                                                                                                                                                                                                                                                                                    |\n",
      "+---------------------------------------------------------------------------------------------------------------------------------------------------------------------------------------------------------------------------------------------------------------------------------------------------------------------------------------------------------------------------------------------------------------------------------------------------------------------------------------------------------------------------------------------------------------------------------------------------------------------------------------------------------------------------------------------------------------------------------------------------------------------------------------------------------------------------------------------------------------------------------------------------------------------------------------------------------------------------------------------------------------------+\n",
      "only showing top 5 rows\n",
      "\n"
     ]
    }
   ],
   "source": [
    "# Show some changed rows\n",
    "arxiv_dataset.select(\"abstract\").show(5, truncate=False)"
   ]
  },
  {
   "cell_type": "markdown",
   "metadata": {},
   "source": [
    "## Convert Abstract to Vector Representation"
   ]
  },
  {
   "cell_type": "code",
   "execution_count": 12,
   "metadata": {},
   "outputs": [],
   "source": [
    "# create a Word2Vec model\n",
    "input_col = \"abstract\"\n",
    "output_col = \"abstract_vector\"\n",
    "\n",
    "words2vec_model = Word2Vec(\n",
    "    inputCol=\"words\",\n",
    "    outputCol=output_col,\n",
    "    vectorSize=100,\n",
    "    minCount=5\n",
    ")\n",
    "\n",
    "tokenized = Tokenizer(inputCol=input_col, outputCol=\"words\")\n",
    "tokenized_dataset = tokenized.transform(arxiv_dataset)\n",
    "model = words2vec_model.fit(tokenized_dataset)"
   ]
  },
  {
   "cell_type": "code",
   "execution_count": 13,
   "metadata": {},
   "outputs": [
    {
     "name": "stdout",
     "output_type": "stream",
     "text": [
      "+-------------+-------------------------------------------------------------------------------------------------------------------------------------------------------------------------------------------------------------------------------------------------------------------------------------------------------------------------------------------------------------------------------------------------------------------------------------------------------------------------------------------------------------------------------------------------------------------------------------------------------------------------------------------------------------------------------------------------------------------------------------------------------------------------------------------------------------------------------------------------------------------------------------------------------------------------------------------------------------------------------------------------------------------------------------------------------------------------------------------------------------------------------------------------------------------------------------------------------------------------------------------------------------------------------------------------------------------------------------------------------------------------------------------------------------------------------------------------------------------------------------------------------------------------------------------------------------------------------------------------------------------------------------------------------------------------------------------------------------------------------------------------------------------------------------------------------------------------------------------------------------------------------------------------------------------------------------------------------------------------------------------------------------------------------------------------------------------------------------------------------------------------------------------------------------------+\n",
      "|word         |vector                                                                                                                                                                                                                                                                                                                                                                                                                                                                                                                                                                                                                                                                                                                                                                                                                                                                                                                                                                                                                                                                                                                                                                                                                                                                                                                                                                                                                                                                                                                                                                                                                                                                                                                                                                                                                                                                                                                                                                                                                                                                                                                                                             |\n",
      "+-------------+-------------------------------------------------------------------------------------------------------------------------------------------------------------------------------------------------------------------------------------------------------------------------------------------------------------------------------------------------------------------------------------------------------------------------------------------------------------------------------------------------------------------------------------------------------------------------------------------------------------------------------------------------------------------------------------------------------------------------------------------------------------------------------------------------------------------------------------------------------------------------------------------------------------------------------------------------------------------------------------------------------------------------------------------------------------------------------------------------------------------------------------------------------------------------------------------------------------------------------------------------------------------------------------------------------------------------------------------------------------------------------------------------------------------------------------------------------------------------------------------------------------------------------------------------------------------------------------------------------------------------------------------------------------------------------------------------------------------------------------------------------------------------------------------------------------------------------------------------------------------------------------------------------------------------------------------------------------------------------------------------------------------------------------------------------------------------------------------------------------------------------------------------------------------+\n",
      "|specifically,|[-0.01568184792995453,0.043419912457466125,0.1098836287856102,0.06177784129977226,-0.003154180245473981,0.0041535357013344765,-0.10989565402269363,0.09498119354248047,-0.02038157358765602,-0.0319453626871109,-0.06453144550323486,0.03196006640791893,0.02546919882297516,0.011619403958320618,-0.10209491103887558,0.0922926664352417,-0.09949509054422379,0.03314318135380745,-0.16708460450172424,0.04223957285284996,0.09403710812330246,0.03403877094388008,-0.056509003043174744,0.056021932512521744,0.04499813914299011,0.08717319369316101,-0.01583649031817913,-0.03873923048377037,0.028918972238898277,-0.1320616453886032,0.001706517767161131,0.037391480058431625,0.09869705140590668,0.042483147233724594,-0.006387959234416485,-0.03711148351430893,-0.0020471131429076195,0.040113724768161774,-0.10173690319061279,0.04397137090563774,-0.07785302400588989,-0.08877726644277573,-0.02121841162443161,0.07137256115674973,-0.05134166404604912,0.005299547221511602,0.04193452373147011,0.028669392690062523,0.007723194546997547,-0.07501088827848434,-0.009595660492777824,-0.04162203148007393,0.038416340947151184,0.10055527091026306,-0.053870975971221924,-0.013393215835094452,0.095222108066082,-0.06564515829086304,0.1319456547498703,0.050932809710502625,-0.056967247277498245,0.011362919583916664,0.027826199308037758,-0.00495967548340559,-0.017605043947696686,-0.08800709992647171,-0.0024134416598826647,-0.05945318564772606,0.007626520469784737,-0.08167757838964462,-0.13277395069599152,0.055096857249736786,-0.08368398249149323,-0.06338023394346237,-0.05960075184702873,-0.07324740290641785,0.010723198764026165,0.012533318251371384,-0.1289256066083908,-0.06524050980806351,0.02932129055261612,-0.1282920092344284,0.014625811018049717,0.053423501551151276,0.005204318556934595,0.11488447338342667,-0.06501570343971252,-0.0018428080948069692,-0.0706683099269867,-0.03845056891441345,-0.14385145902633667,0.06658202409744263,0.013881560415029526,-0.017343269661068916,0.07911881804466248,0.00676870159804821,0.10795297473669052,-0.062171366065740585,0.03106372058391571,-0.004507382400333881]|\n",
      "|quotient     |[-0.10364764928817749,-0.016332633793354034,-0.1036401242017746,-0.027494166046380997,0.05214532092213631,0.0654575377702713,-0.04910771921277046,-0.09099423140287399,0.005145162343978882,0.035485535860061646,0.010761892423033714,0.03533066064119339,0.0440751351416111,-0.08322230726480484,0.10192670673131943,0.030183184891939163,-0.00533258868381381,0.053568463772535324,-0.0679754838347435,0.016321225091814995,-0.0721970722079277,0.05825825408101082,-0.018111323937773705,0.028874855488538742,0.03977253660559654,0.0341293141245842,0.011999077163636684,0.02211272157728672,0.043860964477062225,0.03580654412508011,-0.08081257343292236,0.04234788566827774,0.008963197469711304,-0.14475274085998535,0.045764148235321045,0.01990569941699505,0.02998405694961548,-0.014870554208755493,0.027588410302996635,-2.2226525470614433E-4,0.06994158029556274,0.06942462921142578,0.053901828825473785,0.008744005113840103,0.05158677324652672,-0.06623883545398712,0.029867351055145264,0.014879788272082806,-0.012261456809937954,0.023560121655464172,-0.057893212884664536,-0.04450342804193497,-0.06274578720331192,-0.05069863423705101,0.016274351626634598,-0.01422924268990755,-0.07367436587810516,0.02798761986196041,0.04745621606707573,0.054152753204107285,0.018762463703751564,-0.053629688918590546,-0.0229122843593359,0.06925048679113388,0.0073304250836372375,-0.12091043591499329,-0.0573817677795887,0.008851888589560986,-0.08407651633024216,-0.0503835491836071,0.021081088110804558,0.11913607269525528,-0.05793650075793266,-0.0312720388174057,0.020342877134680748,-0.011815281584858894,-0.04817547649145126,0.037868157029151917,0.04693764075636864,-0.003671536687761545,0.10887213796377182,0.05618607997894287,-0.04018725827336311,-0.02868056669831276,-0.037856992334127426,0.04709460586309433,0.024998361244797707,-0.06508363038301468,0.021615656092762947,-0.045294344425201416,-0.008867815136909485,-0.07250691205263138,-0.006383135449141264,0.04062703251838684,-0.05890829116106033,0.04701469838619232,-0.06323600560426712,-0.03349332883954048,0.010830588638782501,-0.03820047527551651]  |\n",
      "+-------------+-------------------------------------------------------------------------------------------------------------------------------------------------------------------------------------------------------------------------------------------------------------------------------------------------------------------------------------------------------------------------------------------------------------------------------------------------------------------------------------------------------------------------------------------------------------------------------------------------------------------------------------------------------------------------------------------------------------------------------------------------------------------------------------------------------------------------------------------------------------------------------------------------------------------------------------------------------------------------------------------------------------------------------------------------------------------------------------------------------------------------------------------------------------------------------------------------------------------------------------------------------------------------------------------------------------------------------------------------------------------------------------------------------------------------------------------------------------------------------------------------------------------------------------------------------------------------------------------------------------------------------------------------------------------------------------------------------------------------------------------------------------------------------------------------------------------------------------------------------------------------------------------------------------------------------------------------------------------------------------------------------------------------------------------------------------------------------------------------------------------------------------------------------------------+\n",
      "only showing top 2 rows\n",
      "\n"
     ]
    }
   ],
   "source": [
    "model.getVectors().show(n=2, truncate=False)"
   ]
  },
  {
   "cell_type": "markdown",
   "metadata": {},
   "source": [
    "### Vizualize most popular categories based on how many authors contributed to that category"
   ]
  },
  {
   "cell_type": "code",
   "execution_count": 14,
   "metadata": {},
   "outputs": [],
   "source": [
    "# loading back the data\n",
    "arxiv_dataset = load_data_from_json(sc, \"arxiv-sample.json\")"
   ]
  },
  {
   "cell_type": "code",
   "execution_count": 15,
   "metadata": {},
   "outputs": [],
   "source": [
    "@udf(returnType=ArrayType(StringType()))\n",
    "def get_authors_list(parsed_authors):\n",
    "    authors = [\n",
    "        f\"{author[0]} {author[1]}\" for author in parsed_authors\n",
    "    ]\n",
    "    return authors\n",
    "\n",
    "arxiv_dataset = arxiv_dataset.withColumn(\"authors_list\", get_authors_list(\"authors_parsed\"))"
   ]
  },
  {
   "cell_type": "code",
   "execution_count": 16,
   "metadata": {},
   "outputs": [
    {
     "name": "stdout",
     "output_type": "stream",
     "text": [
      "+------------------------------------------------------+\n",
      "|authors_list                                          |\n",
      "+------------------------------------------------------+\n",
      "|[Balázs C., Berger E. L., Nadolsky P. M., Yuan C. -P.]|\n",
      "|[Streinu Ileana, Theran Louis]                        |\n",
      "|[Pan Hongjun]                                         |\n",
      "|[Callan David]                                        |\n",
      "|[Abu-Shammala Wael, Torchinsky Alberto]               |\n",
      "+------------------------------------------------------+\n",
      "only showing top 5 rows\n",
      "\n"
     ]
    }
   ],
   "source": [
    "arxiv_dataset.select(\"authors_list\").show(5, truncate=False)"
   ]
  },
  {
   "cell_type": "code",
   "execution_count": 17,
   "metadata": {},
   "outputs": [],
   "source": [
    "# preprocess authors column : remove the \"and\" word and split the authors by comma\n",
    "def preprocess_authors(df):\n",
    "    return df.withColumn(\"authors\", regexp_replace(col(\"authors\"), \" and \", \", \"))\n",
    "\n",
    "# preprocess authors column : remove extra commas\n",
    "def remove_authors_extra_commas(df):\n",
    "    return df.withColumn(\"authors\", regexp_replace(col(\"authors\"), \",+\", \",\"))\n",
    "    \n",
    "# preprocess authors column : remove empty spaces (more than one space)\n",
    "def remove_authors_extra_spaces(df):\n",
    "    return df.withColumn(\"authors\", regexp_replace(col(\"authors\"), \" +\", \" \"))\n",
    "\n",
    "# preprocess authors column : remove parentheses and their content\n",
    "def remove_authors_parentheses(df):\n",
    "    return df.withColumn(\"authors\", regexp_replace(col(\"authors\"), \"\\(.+?\\)\", \"\"))\n",
    "    "
   ]
  },
  {
   "cell_type": "code",
   "execution_count": 18,
   "metadata": {},
   "outputs": [],
   "source": [
    "arxiv_dataset = preprocess_authors(arxiv_dataset)\n",
    "arxiv_dataset = remove_authors_extra_commas(arxiv_dataset)\n",
    "arxiv_dataset = remove_authors_extra_spaces(arxiv_dataset)"
   ]
  },
  {
   "cell_type": "code",
   "execution_count": 54,
   "metadata": {},
   "outputs": [
    {
     "name": "stdout",
     "output_type": "stream",
     "text": [
      "+------------------------------------------------------+\n",
      "|authors_list                                          |\n",
      "+------------------------------------------------------+\n",
      "|[Balázs C., Berger E. L., Nadolsky P. M., Yuan C. -P.]|\n",
      "|[Streinu Ileana, Theran Louis]                        |\n",
      "|[Pan Hongjun]                                         |\n",
      "|[Callan David]                                        |\n",
      "|[Abu-Shammala Wael, Torchinsky Alberto]               |\n",
      "+------------------------------------------------------+\n",
      "only showing top 5 rows\n",
      "\n"
     ]
    }
   ],
   "source": [
    "# see the first 5 rows\n",
    "arxiv_dataset.select(\"authors_list\").show(5, truncate=False)"
   ]
  },
  {
   "cell_type": "code",
   "execution_count": 47,
   "metadata": {},
   "outputs": [
    {
     "name": "stdout",
     "output_type": "stream",
     "text": [
      "Number of categories:  142\n",
      "Number of authors:  24626\n"
     ]
    }
   ],
   "source": [
    "# Get all categories\n",
    "categories = arxiv_dataset.select(\"categories\")\n",
    "\n",
    "categories = (\n",
    "    categories.rdd.map(lambda x: x.categories)\n",
    "    .map(lambda x: x.split(\" \"))\n",
    "    .map(lambda x: [item for item in x])\n",
    "    .flatMap(lambda x: x)\n",
    "    .distinct()\n",
    ")\n",
    "\n",
    "print(\"Number of categories: \", categories.count())\n",
    "\n",
    "# Get all authors\n",
    "authors = arxiv_dataset.select(\"authors_list\")\n",
    "authors = (\n",
    "    authors.rdd.map(lambda x: x.authors_list)\n",
    "    .map(lambda x: [item for item in x])\n",
    "    .flatMap(lambda x: x)\n",
    "    .distinct()\n",
    ")\n",
    "\n",
    "print(\"Number of authors: \", authors.count())\n",
    "\n",
    "# get all authors for each category\n",
    "\n",
    "categories_authors = {}\n",
    "auth_categories = arxiv_dataset.select(\"categories\", \"authors_list\")\n",
    "categories_authors = (\n",
    "    auth_categories.rdd.map(lambda x: (x.categories, x.authors_list))\n",
    "    .map(lambda x: (x[0].split(\" \"), x[1]))\n",
    "    .flatMap(lambda x: [(item, x[1]) for item in x[0]])\n",
    "    .reduceByKey(lambda x, y: x + y)\n",
    "    .map(lambda x: (x[0], list(set(x[1]))))\n",
    ")\n",
    "\n",
    "# categories_authors to dict\n",
    "categories_authors = dict(categories_authors.collect())\n",
    "\n",
    "# get number of authors for each category\n",
    "count_authors = {}\n",
    "for category in categories_authors:\n",
    "    count_authors[category] = len(categories_authors[category])\n",
    "\n",
    "# sort categories based on number of authors\n",
    "sorted_categories = sorted(count_authors.items(), key=lambda x: x[1], reverse=True)\n",
    "\n",
    "# get top 10 categories\n",
    "top_categories = sorted_categories[:10]"
   ]
  },
  {
   "cell_type": "code",
   "execution_count": 46,
   "metadata": {},
   "outputs": [
    {
     "data": {
      "text/plain": [
       "[('astro-ph', 7385),\n",
       " ('hep-ph', 2064),\n",
       " ('hep-th', 1863),\n",
       " ('cond-mat.mtrl-sci', 1584),\n",
       " ('quant-ph', 1522),\n",
       " ('cond-mat.str-el', 1447),\n",
       " ('cond-mat.mes-hall', 1141),\n",
       " ('nucl-ex', 1106),\n",
       " ('gr-qc', 1092),\n",
       " ('cond-mat.stat-mech', 990)]"
      ]
     },
     "execution_count": 46,
     "metadata": {},
     "output_type": "execute_result"
    }
   ],
   "source": [
    "top_categories"
   ]
  },
  {
   "cell_type": "markdown",
   "metadata": {},
   "source": [
    "### Topic extraction and stats (most popular topic per category)"
   ]
  },
  {
   "cell_type": "markdown",
   "metadata": {},
   "source": [
    "BERTopic? Gensim? LDA?"
   ]
  },
  {
   "cell_type": "code",
   "execution_count": null,
   "metadata": {},
   "outputs": [],
   "source": [
    "# loading back the data\n",
    "arxiv_dataset = load_data_from_json(sc, \"arxiv-sample.json\")"
   ]
  },
  {
   "cell_type": "code",
   "execution_count": 48,
   "metadata": {},
   "outputs": [],
   "source": [
    "# https://arxiv.org/help/api/user-manual\n",
    "category_map = {'astro-ph': 'Astrophysics',\n",
    "'astro-ph.CO': 'Cosmology and Nongalactic Astrophysics',\n",
    "'astro-ph.EP': 'Earth and Planetary Astrophysics',\n",
    "'astro-ph.GA': 'Astrophysics of Galaxies',\n",
    "'astro-ph.HE': 'High Energy Astrophysical Phenomena',\n",
    "'astro-ph.IM': 'Instrumentation and Methods for Astrophysics',\n",
    "'astro-ph.SR': 'Solar and Stellar Astrophysics',\n",
    "'cond-mat.dis-nn': 'Disordered Systems and Neural Networks',\n",
    "'cond-mat.mes-hall': 'Mesoscale and Nanoscale Physics',\n",
    "'cond-mat.mtrl-sci': 'Materials Science',\n",
    "'cond-mat.other': 'Other Condensed Matter',\n",
    "'cond-mat.quant-gas': 'Quantum Gases',\n",
    "'cond-mat.soft': 'Soft Condensed Matter',\n",
    "'cond-mat.stat-mech': 'Statistical Mechanics',\n",
    "'cond-mat.str-el': 'Strongly Correlated Electrons',\n",
    "'cond-mat.supr-con': 'Superconductivity',\n",
    "'cs.AI': 'Artificial Intelligence',\n",
    "'cs.AR': 'Hardware Architecture',\n",
    "'cs.CC': 'Computational Complexity',\n",
    "'cs.CE': 'Computational Engineering, Finance, and Science',\n",
    "'cs.CG': 'Computational Geometry',\n",
    "'cs.CL': 'Computation and Language',\n",
    "'cs.CR': 'Cryptography and Security',\n",
    "'cs.CV': 'Computer Vision and Pattern Recognition',\n",
    "'cs.CY': 'Computers and Society',\n",
    "'cs.DB': 'Databases',\n",
    "'cs.DC': 'Distributed, Parallel, and Cluster Computing',\n",
    "'cs.DL': 'Digital Libraries',\n",
    "'cs.DM': 'Discrete Mathematics',\n",
    "'cs.DS': 'Data Structures and Algorithms',\n",
    "'cs.ET': 'Emerging Technologies',\n",
    "'cs.FL': 'Formal Languages and Automata Theory',\n",
    "'cs.GL': 'General Literature',\n",
    "'cs.GR': 'Graphics',\n",
    "'cs.GT': 'Computer Science and Game Theory',\n",
    "'cs.HC': 'Human-Computer Interaction',\n",
    "'cs.IR': 'Information Retrieval',\n",
    "'cs.IT': 'Information Theory',\n",
    "'cs.LG': 'Machine Learning',\n",
    "'cs.LO': 'Logic in Computer Science',\n",
    "'cs.MA': 'Multiagent Systems',\n",
    "'cs.MM': 'Multimedia',\n",
    "'cs.MS': 'Mathematical Software',\n",
    "'cs.NA': 'Numerical Analysis',\n",
    "'cs.NE': 'Neural and Evolutionary Computing',\n",
    "'cs.NI': 'Networking and Internet Architecture',\n",
    "'cs.OH': 'Other Computer Science',\n",
    "'cs.OS': 'Operating Systems',\n",
    "'cs.PF': 'Performance',\n",
    "'cs.PL': 'Programming Languages',\n",
    "'cs.RO': 'Robotics',\n",
    "'cs.SC': 'Symbolic Computation',\n",
    "'cs.SD': 'Sound',\n",
    "'cs.SE': 'Software Engineering',\n",
    "'cs.SI': 'Social and Information Networks',\n",
    "'cs.SY': 'Systems and Control',\n",
    "'econ.EM': 'Econometrics',\n",
    "'eess.AS': 'Audio and Speech Processing',\n",
    "'eess.IV': 'Image and Video Processing',\n",
    "'eess.SP': 'Signal Processing',\n",
    "'gr-qc': 'General Relativity and Quantum Cosmology',\n",
    "'hep-ex': 'High Energy Physics - Experiment',\n",
    "'hep-lat': 'High Energy Physics - Lattice',\n",
    "'hep-ph': 'High Energy Physics - Phenomenology',\n",
    "'hep-th': 'High Energy Physics - Theory',\n",
    "'math.AC': 'Commutative Algebra',\n",
    "'math.AG': 'Algebraic Geometry',\n",
    "'math.AP': 'Analysis of PDEs',\n",
    "'math.AT': 'Algebraic Topology',\n",
    "'math.CA': 'Classical Analysis and ODEs',\n",
    "'math.CO': 'Combinatorics',\n",
    "'math.CT': 'Category Theory',\n",
    "'math.CV': 'Complex Variables',\n",
    "'math.DG': 'Differential Geometry',\n",
    "'math.DS': 'Dynamical Systems',\n",
    "'math.FA': 'Functional Analysis',\n",
    "'math.GM': 'General Mathematics',\n",
    "'math.GN': 'General Topology',\n",
    "'math.GR': 'Group Theory',\n",
    "'math.GT': 'Geometric Topology',\n",
    "'math.HO': 'History and Overview',\n",
    "'math.IT': 'Information Theory',\n",
    "'math.KT': 'K-Theory and Homology',\n",
    "'math.LO': 'Logic',\n",
    "'math.MG': 'Metric Geometry',\n",
    "'math.MP': 'Mathematical Physics',\n",
    "'math.NA': 'Numerical Analysis',\n",
    "'math.NT': 'Number Theory',\n",
    "'math.OA': 'Operator Algebras',\n",
    "'math.OC': 'Optimization and Control',\n",
    "'math.PR': 'Probability',\n",
    "'math.QA': 'Quantum Algebra',\n",
    "'math.RA': 'Rings and Algebras',\n",
    "'math.RT': 'Representation Theory',\n",
    "'math.SG': 'Symplectic Geometry',\n",
    "'math.SP': 'Spectral Theory',\n",
    "'math.ST': 'Statistics Theory',\n",
    "'math-ph': 'Mathematical Physics',\n",
    "'nlin.AO': 'Adaptation and Self-Organizing Systems',\n",
    "'nlin.CD': 'Chaotic Dynamics',\n",
    "'nlin.CG': 'Cellular Automata and Lattice Gases',\n",
    "'nlin.PS': 'Pattern Formation and Solitons',\n",
    "'nlin.SI': 'Exactly Solvable and Integrable Systems',\n",
    "'nucl-ex': 'Nuclear Experiment',\n",
    "'nucl-th': 'Nuclear Theory',\n",
    "'physics.acc-ph': 'Accelerator Physics',\n",
    "'physics.ao-ph': 'Atmospheric and Oceanic Physics',\n",
    "'physics.app-ph': 'Applied Physics',\n",
    "'physics.atm-clus': 'Atomic and Molecular Clusters',\n",
    "'physics.atom-ph': 'Atomic Physics',\n",
    "'physics.bio-ph': 'Biological Physics',\n",
    "'physics.chem-ph': 'Chemical Physics',\n",
    "'physics.class-ph': 'Classical Physics',\n",
    "'physics.comp-ph': 'Computational Physics',\n",
    "'physics.data-an': 'Data Analysis, Statistics and Probability',\n",
    "'physics.ed-ph': 'Physics Education',\n",
    "'physics.flu-dyn': 'Fluid Dynamics',\n",
    "'physics.gen-ph': 'General Physics',\n",
    "'physics.geo-ph': 'Geophysics',\n",
    "'physics.hist-ph': 'History and Philosophy of Physics',\n",
    "'physics.ins-det': 'Instrumentation and Detectors',\n",
    "'physics.med-ph': 'Medical Physics',\n",
    "'physics.optics': 'Optics',\n",
    "'physics.plasm-ph': 'Plasma Physics',\n",
    "'physics.pop-ph': 'Popular Physics',\n",
    "'physics.soc-ph': 'Physics and Society',\n",
    "'physics.space-ph': 'Space Physics',\n",
    "'q-bio.BM': 'Biomolecules',\n",
    "'q-bio.CB': 'Cell Behavior',\n",
    "'q-bio.GN': 'Genomics',\n",
    "'q-bio.MN': 'Molecular Networks',\n",
    "'q-bio.NC': 'Neurons and Cognition',\n",
    "'q-bio.OT': 'Other Quantitative Biology',\n",
    "'q-bio.PE': 'Populations and Evolution',\n",
    "'q-bio.QM': 'Quantitative Methods',\n",
    "'q-bio.SC': 'Subcellular Processes',\n",
    "'q-bio.TO': 'Tissues and Organs',\n",
    "'q-fin.CP': 'Computational Finance',\n",
    "'q-fin.EC': 'Economics',\n",
    "'q-fin.GN': 'General Finance',\n",
    "'q-fin.MF': 'Mathematical Finance',\n",
    "'q-fin.PM': 'Portfolio Management',\n",
    "'q-fin.PR': 'Pricing of Securities',\n",
    "'q-fin.RM': 'Risk Management',\n",
    "'q-fin.ST': 'Statistical Finance',\n",
    "'q-fin.TR': 'Trading and Market Microstructure',\n",
    "'quant-ph': 'Quantum Physics',\n",
    "'stat.AP': 'Applications',\n",
    "'stat.CO': 'Computation',\n",
    "'stat.ME': 'Methodology',\n",
    "'stat.ML': 'Machine Learning',\n",
    "'stat.OT': 'Other Statistics',\n",
    "'stat.TH': 'Statistics Theory'}"
   ]
  },
  {
   "cell_type": "markdown",
   "metadata": {},
   "source": [
    "#### Display the distribution of categories\n",
    "- the categories are mostly 1 to 2 per paper"
   ]
  },
  {
   "cell_type": "code",
   "execution_count": 51,
   "metadata": {},
   "outputs": [],
   "source": [
    "categories_length = arxiv_dataset.select(size(split(arxiv_dataset.categories, \" \")).alias(\"categories_length\"))"
   ]
  },
  {
   "cell_type": "code",
   "execution_count": 53,
   "metadata": {},
   "outputs": [
    {
     "name": "stdout",
     "output_type": "stream",
     "text": [
      "Max number of categories:  9\n",
      "Min number of categories:  1\n",
      "Average number of categories:  1.5062\n",
      "Standard deviation of categories:  0.8074817413887864\n",
      "Median number of categories:  1.0\n"
     ]
    }
   ],
   "source": [
    "# print max, min, and average number of categories\n",
    "maxim = categories_length.agg({\"categories_length\": \"max\"}).collect()[0][0]\n",
    "minim = categories_length.agg({\"categories_length\": \"min\"}).collect()[0][0]\n",
    "avg = categories_length.agg({\"categories_length\": \"mean\"}).collect()[0][0]\n",
    "std = categories_length.agg({\"categories_length\": \"std\"}).collect()[0][0]\n",
    "median = categories_length.agg({\"categories_length\": \"median\"}).collect()[0][0]\n",
    "\n",
    "print(\"Max number of categories: \", maxim)\n",
    "print(\"Min number of categories: \", minim)\n",
    "print(\"Average number of categories: \", avg)\n",
    "print(\"Standard deviation of categories: \", std)\n",
    "print(\"Median number of categories: \", median)"
   ]
  },
  {
   "cell_type": "code",
   "execution_count": 57,
   "metadata": {},
   "outputs": [
    {
     "data": {
      "text/plain": [
       "(array([6.389e+03, 0.000e+00, 0.000e+00, 0.000e+00, 0.000e+00, 0.000e+00,\n",
       "        0.000e+00, 0.000e+00, 0.000e+00, 0.000e+00, 0.000e+00, 0.000e+00,\n",
       "        2.563e+03, 0.000e+00, 0.000e+00, 0.000e+00, 0.000e+00, 0.000e+00,\n",
       "        0.000e+00, 0.000e+00, 0.000e+00, 0.000e+00, 0.000e+00, 0.000e+00,\n",
       "        0.000e+00, 7.510e+02, 0.000e+00, 0.000e+00, 0.000e+00, 0.000e+00,\n",
       "        0.000e+00, 0.000e+00, 0.000e+00, 0.000e+00, 0.000e+00, 0.000e+00,\n",
       "        0.000e+00, 2.250e+02, 0.000e+00, 0.000e+00, 0.000e+00, 0.000e+00,\n",
       "        0.000e+00, 0.000e+00, 0.000e+00, 0.000e+00, 0.000e+00, 0.000e+00,\n",
       "        0.000e+00, 0.000e+00, 4.900e+01, 0.000e+00, 0.000e+00, 0.000e+00,\n",
       "        0.000e+00, 0.000e+00, 0.000e+00, 0.000e+00, 0.000e+00, 0.000e+00,\n",
       "        0.000e+00, 0.000e+00, 1.600e+01, 0.000e+00, 0.000e+00, 0.000e+00,\n",
       "        0.000e+00, 0.000e+00, 0.000e+00, 0.000e+00, 0.000e+00, 0.000e+00,\n",
       "        0.000e+00, 0.000e+00, 0.000e+00, 4.000e+00, 0.000e+00, 0.000e+00,\n",
       "        0.000e+00, 0.000e+00, 0.000e+00, 0.000e+00, 0.000e+00, 0.000e+00,\n",
       "        0.000e+00, 0.000e+00, 0.000e+00, 2.000e+00, 0.000e+00, 0.000e+00,\n",
       "        0.000e+00, 0.000e+00, 0.000e+00, 0.000e+00, 0.000e+00, 0.000e+00,\n",
       "        0.000e+00, 0.000e+00, 0.000e+00, 1.000e+00]),\n",
       " array([1.  , 1.08, 1.16, 1.24, 1.32, 1.4 , 1.48, 1.56, 1.64, 1.72, 1.8 ,\n",
       "        1.88, 1.96, 2.04, 2.12, 2.2 , 2.28, 2.36, 2.44, 2.52, 2.6 , 2.68,\n",
       "        2.76, 2.84, 2.92, 3.  , 3.08, 3.16, 3.24, 3.32, 3.4 , 3.48, 3.56,\n",
       "        3.64, 3.72, 3.8 , 3.88, 3.96, 4.04, 4.12, 4.2 , 4.28, 4.36, 4.44,\n",
       "        4.52, 4.6 , 4.68, 4.76, 4.84, 4.92, 5.  , 5.08, 5.16, 5.24, 5.32,\n",
       "        5.4 , 5.48, 5.56, 5.64, 5.72, 5.8 , 5.88, 5.96, 6.04, 6.12, 6.2 ,\n",
       "        6.28, 6.36, 6.44, 6.52, 6.6 , 6.68, 6.76, 6.84, 6.92, 7.  , 7.08,\n",
       "        7.16, 7.24, 7.32, 7.4 , 7.48, 7.56, 7.64, 7.72, 7.8 , 7.88, 7.96,\n",
       "        8.04, 8.12, 8.2 , 8.28, 8.36, 8.44, 8.52, 8.6 , 8.68, 8.76, 8.84,\n",
       "        8.92, 9.  ]),\n",
       " <BarContainer object of 100 artists>)"
      ]
     },
     "execution_count": 57,
     "metadata": {},
     "output_type": "execute_result"
    },
    {
     "data": {
      "image/png": "[encoded data removed]",
      "text/plain": [
       "<Figure size 640x480 with 1 Axes>"
      ]
     },
     "metadata": {},
     "output_type": "display_data"
    }
   ],
   "source": [
    "categories_length_list  = map(lambda row: row.categories_length, categories_length.collect())\n",
    "plt.hist(list(categories_length_list), bins=100)"
   ]
  },
  {
   "cell_type": "markdown",
   "metadata": {},
   "source": [
    "#### Most/Least popular category "
   ]
  },
  {
   "cell_type": "code",
   "execution_count": 58,
   "metadata": {},
   "outputs": [
    {
     "name": "stdout",
     "output_type": "stream",
     "text": [
      "Most frequently occuring category:  astro-ph  ( 2064  times)\n",
      "Least frequently occuring category:  astro-ph.EP  ( 1  times)\n"
     ]
    }
   ],
   "source": [
    "# most frequently occuring category\n",
    "categories = arxiv_dataset.select(\"categories\").collect()\n",
    "categories = [row.categories for row in categories]\n",
    "categories = [cat.split(\" \") for cat in categories]\n",
    "categories = [item for sublist in categories for item in sublist]\n",
    "\n",
    "# most frequently occuring category\n",
    "print( \n",
    "    \"Most frequently occuring category: \", \n",
    "    max(set(categories), key = categories.count), \n",
    "    \" (\", categories.count(max(set(categories), key = categories.count)), \" times)\"\n",
    ")\n",
    "\n",
    "# least frequently occuring category\n",
    "print( \n",
    "    \"Least frequently occuring category: \", \n",
    "    min(set(categories), key = categories.count), \n",
    "    \" (\", categories.count(min(set(categories), key = categories.count)), \" times)\"\n",
    ")"
   ]
  },
  {
   "cell_type": "markdown",
   "metadata": {},
   "source": [
    "#### Analyzing the abstracts"
   ]
  },
  {
   "cell_type": "code",
   "execution_count": 59,
   "metadata": {},
   "outputs": [],
   "source": [
    "# abstract length (histogram)\n",
    "abstract_lengths = arxiv_dataset.select(size(split(\"abstract\", \" \")).alias('abstract_lengths'))"
   ]
  },
  {
   "cell_type": "code",
   "execution_count": 60,
   "metadata": {},
   "outputs": [
    {
     "name": "stdout",
     "output_type": "stream",
     "text": [
      "Max length of abstract:  317\n",
      "Min length of abstract:  4\n",
      "Average length of abstract:  113.5268\n",
      "Standard deviation of abstract length:  58.025032289497474\n",
      "Median length of abstract:  102.0\n"
     ]
    }
   ],
   "source": [
    "max_length = abstract_lengths.agg({\"abstract_lengths\": \"max\"}).collect()[0][0]\n",
    "min_length = abstract_lengths.agg({\"abstract_lengths\": \"min\"}).collect()[0][0]\n",
    "avg_length = abstract_lengths.agg({\"abstract_lengths\": \"mean\"}).collect()[0][0]\n",
    "std_length = abstract_lengths.agg({\"abstract_lengths\": \"std\"}).collect()[0][0]\n",
    "median_length = abstract_lengths.agg({\"abstract_lengths\": \"median\"}).collect()[0][0]\n",
    "\n",
    "# In number of words\n",
    "print(\"Max length of abstract: \", max_length)\n",
    "print(\"Min length of abstract: \", min_length)\n",
    "print(\"Average length of abstract: \", avg_length)\n",
    "print(\"Standard deviation of abstract length: \", std_length)\n",
    "print(\"Median length of abstract: \", median_length)"
   ]
  },
  {
   "cell_type": "code",
   "execution_count": 61,
   "metadata": {},
   "outputs": [
    {
     "data": {
      "text/plain": [
       "(array([  2.,  15.,  17.,  33.,  49.,  52.,  61.,  96.,  83., 115., 102.,\n",
       "        111., 129., 148., 144., 246., 164., 180., 172., 206., 211., 242.,\n",
       "        240., 357., 260., 244., 258., 239., 235., 240., 301., 206., 206.,\n",
       "        225., 194., 197., 182., 166., 227., 150., 150., 143., 152., 133.,\n",
       "        124., 129., 152., 118., 115.,  97.,  81.,  88.,  89., 104.,  68.,\n",
       "         74.,  69.,  76.,  60.,  67.,  74.,  76.,  55.,  57.,  53.,  66.,\n",
       "         49.,  44.,  36.,  59.,  59.,  54.,  48.,  45.,  50.,  36.,  48.,\n",
       "         37.,  39.,  29.,  34.,  26.,  27.,  21.,  19.,  13.,  15.,   8.,\n",
       "          6.,  10.,   2.,   6.,   3.,   1.,   0.,   0.,   0.,   0.,   0.,\n",
       "          1.]),\n",
       " array([  4.  ,   7.13,  10.26,  13.39,  16.52,  19.65,  22.78,  25.91,\n",
       "         29.04,  32.17,  35.3 ,  38.43,  41.56,  44.69,  47.82,  50.95,\n",
       "         54.08,  57.21,  60.34,  63.47,  66.6 ,  69.73,  72.86,  75.99,\n",
       "         79.12,  82.25,  85.38,  88.51,  91.64,  94.77,  97.9 , 101.03,\n",
       "        104.16, 107.29, 110.42, 113.55, 116.68, 119.81, 122.94, 126.07,\n",
       "        129.2 , 132.33, 135.46, 138.59, 141.72, 144.85, 147.98, 151.11,\n",
       "        154.24, 157.37, 160.5 , 163.63, 166.76, 169.89, 173.02, 176.15,\n",
       "        179.28, 182.41, 185.54, 188.67, 191.8 , 194.93, 198.06, 201.19,\n",
       "        204.32, 207.45, 210.58, 213.71, 216.84, 219.97, 223.1 , 226.23,\n",
       "        229.36, 232.49, 235.62, 238.75, 241.88, 245.01, 248.14, 251.27,\n",
       "        254.4 , 257.53, 260.66, 263.79, 266.92, 270.05, 273.18, 276.31,\n",
       "        279.44, 282.57, 285.7 , 288.83, 291.96, 295.09, 298.22, 301.35,\n",
       "        304.48, 307.61, 310.74, 313.87, 317.  ]),\n",
       " <BarContainer object of 100 artists>)"
      ]
     },
     "execution_count": 61,
     "metadata": {},
     "output_type": "execute_result"
    },
    {
     "data": {
      "image/png": "[encoded data removed]",
      "text/plain": [
       "<Figure size 640x480 with 1 Axes>"
      ]
     },
     "metadata": {},
     "output_type": "display_data"
    }
   ],
   "source": [
    "abstract_lengths_list = map(lambda row: row.abstract_lengths, abstract_lengths.collect())\n",
    "\n",
    "plt.hist(list(abstract_lengths_list), bins=100)"
   ]
  },
  {
   "cell_type": "markdown",
   "metadata": {},
   "source": [
    "### LDA preparations"
   ]
  },
  {
   "cell_type": "code",
   "execution_count": 93,
   "metadata": {},
   "outputs": [
    {
     "name": "stderr",
     "output_type": "stream",
     "text": [
      "[nltk_data] Downloading package stopwords to\n",
      "[nltk_data]     C:\\Users\\Cezar\\AppData\\Roaming\\nltk_data...\n",
      "[nltk_data]   Package stopwords is already up-to-date!\n",
      "[nltk_data] Downloading package wordnet to\n",
      "[nltk_data]     C:\\Users\\Cezar\\AppData\\Roaming\\nltk_data...\n",
      "[nltk_data]   Package wordnet is already up-to-date!\n"
     ]
    },
    {
     "data": {
      "text/plain": [
       "True"
      ]
     },
     "execution_count": 93,
     "metadata": {},
     "output_type": "execute_result"
    }
   ],
   "source": [
    "nltk.download('stopwords')\n",
    "nltk.download('wordnet')"
   ]
  },
  {
   "cell_type": "code",
   "execution_count": 94,
   "metadata": {},
   "outputs": [],
   "source": [
    "# after some research : spacy is a bit faster than nltk on large datasets\n",
    "def lemmatization(text):\n",
    "    lemmatizer = nltk.stem.WordNetLemmatizer()\n",
    "    return \" \".join([lemmatizer.lemmatize(word) for word in text.split(\" \")])"
   ]
  },
  {
   "cell_type": "code",
   "execution_count": 32,
   "metadata": {},
   "outputs": [],
   "source": [
    "nlp = spacy.load('en_core_web_sm')"
   ]
  },
  {
   "cell_type": "code",
   "execution_count": 33,
   "metadata": {},
   "outputs": [],
   "source": [
    "@udf(returnType=StringType())\n",
    "def lemmatization_spacy(text):\n",
    "    doc = nlp(text)\n",
    "    return \" \".join([token.lemma_ for token in doc])"
   ]
  },
  {
   "cell_type": "code",
   "execution_count": 34,
   "metadata": {},
   "outputs": [],
   "source": [
    "@udf(returnType=StringType())\n",
    "def remove_stopwords(text):\n",
    "    doc = nlp(text)\n",
    "    return \" \".join([token.text for token in doc if not token.is_stop])"
   ]
  },
  {
   "cell_type": "code",
   "execution_count": 35,
   "metadata": {},
   "outputs": [],
   "source": [
    "@udf(returnType=StringType())\n",
    "def remove_punctuation(text):\n",
    "    doc = nlp(text)\n",
    "    return \" \".join([token.text for token in doc if not token.is_punct])"
   ]
  },
  {
   "cell_type": "code",
   "execution_count": 36,
   "metadata": {},
   "outputs": [],
   "source": [
    "@udf(returnType=StringType())\n",
    "def convert_to_lowercase(text):\n",
    "    return text.lower()"
   ]
  },
  {
   "cell_type": "code",
   "execution_count": 100,
   "metadata": {},
   "outputs": [],
   "source": [
    "# clear abstract column\n",
    "arxiv_dataset = remove_empty_fields(arxiv_dataset, \"abstract\")\n",
    "arxiv_dataset = remove_empty_newlines(arxiv_dataset, \"abstract\")\n",
    "arxiv_dataset = remove_math_formula(arxiv_dataset, \"abstract\")\n",
    "arxiv_dataset = remove_extra_spaces(arxiv_dataset, \"abstract\")\n",
    "# convert to lowercase\n",
    "arxiv_dataset = arxiv_dataset.withColumn(\"abstract\", convert_to_lowercase(\"abstract\"))\n",
    "# remove punctuation\n",
    "arxiv_dataset = arxiv_dataset.withColumn(\"abstract\", remove_punctuation(\"abstract\"))\n",
    "# remove stopwords\n",
    "arxiv_dataset = arxiv_dataset.withColumn(\"abstract\", remove_stopwords(\"abstract\"))"
   ]
  },
  {
   "cell_type": "code",
   "execution_count": 101,
   "metadata": {},
   "outputs": [],
   "source": [
    "arxiv_dataset = arxiv_dataset.withColumn(\"abstract\", lemmatization_spacy(\"abstract\"))"
   ]
  },
  {
   "cell_type": "markdown",
   "metadata": {},
   "source": [
    "### Gensim"
   ]
  },
  {
   "cell_type": "code",
   "execution_count": 64,
   "metadata": {},
   "outputs": [
    {
     "name": "stdout",
     "output_type": "stream",
     "text": [
      "['A', 'fully', 'differential', 'calculation', 'in', 'perturbative', 'quantum', 'chromodynamics', 'is', 'presented', 'for', 'the', 'production', 'of', 'massive', 'photon', 'pairs', 'at', 'hadron', 'colliders.', 'All', 'next-to-leading', 'order', 'perturbative', 'contributions', 'from', 'quark-antiquark,', 'gluon-(anti)quark,', 'and', 'gluon-gluon', 'subprocesses', 'are', 'included,', 'as', 'well', 'as', 'all-orders', 'resummation', 'of', 'initial-state', 'gluon', 'radiation', 'valid', 'at', 'next-to-next-to-leading', 'logarithmic', 'accuracy.', 'The', 'region', 'of', 'phase', 'space', 'is', 'specified', 'in', 'which', 'the', 'calculation', 'is', 'most', 'reliable.', 'Good', 'agreement', 'is', 'demonstrated', 'with', 'data', 'from', 'the', 'Fermilab', 'Tevatron,', 'and', 'predictions', 'are', 'made', 'for', 'more', 'detailed', 'tests', 'with', 'CDF', 'and', 'DO', 'data.', 'Predictions', 'are', 'shown', 'for', 'distributions', 'of', 'diphoton', 'pairs', 'produced', 'at', 'the', 'energy', 'of', 'the', 'Large', 'Hadron', 'Collider', '(LHC).', 'Distributions', 'of', 'the', 'diphoton', 'pairs', 'from', 'the', 'decay', 'of', 'a', 'Higgs', 'boson', 'are', 'contrasted', 'with', 'those', 'produced', 'from', 'QCD', 'processes', 'at', 'the', 'LHC,', 'showing', 'that', 'enhanced', 'sensitivity', 'to', 'the', 'signal', 'can', 'be', 'obtained', 'with', 'judicious', 'selection', 'of', 'events.']\n",
      "['A', 'fully', 'differential', 'calculation', 'in', 'perturbative', 'quantum', 'chromodynamics', 'is', 'presented', 'for', 'the', 'production', 'of', 'massive', 'photon', 'pairs', 'at', 'hadron', 'colliders.', 'All', 'next-to-leading', 'order', 'perturbative', 'contributions', 'from', 'quark-antiquark,', 'gluon-(anti)quark,', 'and', 'gluon-gluon', 'subprocesses', 'are', 'included,', 'as', 'well', 'as', 'all-orders', 'resummation', 'of', 'initial-state', 'gluon', 'radiation', 'valid', 'at', 'next-to-next-to-leading', 'logarithmic', 'accuracy.', 'The', 'region', 'of', 'phase', 'space', 'is', 'specified', 'in', 'which', 'the', 'calculation', 'is', 'most', 'reliable.', 'Good', 'agreement', 'is', 'demonstrated', 'with', 'data', 'from', 'the', 'Fermilab', 'Tevatron,', 'and', 'predictions', 'are', 'made', 'for', 'more', 'detailed', 'tests', 'with', 'CDF', 'and', 'DO', 'data.', 'Predictions', 'are', 'shown', 'for', 'distributions', 'of', 'diphoton', 'pairs', 'produced', 'at', 'the', 'energy', 'of', 'the', 'Large', 'Hadron', 'Collider', '(LHC).', 'Distributions', 'of', 'the', 'diphoton', 'pairs', 'from', 'the', 'decay', 'of', 'a', 'Higgs', 'boson', 'are', 'contrasted', 'with', 'those', 'produced', 'from', 'QCD', 'processes', 'at', 'the', 'LHC,', 'showing', 'that', 'enhanced', 'sensitivity', 'to', 'the', 'signal', 'can', 'be', 'obtained', 'with', 'judicious', 'selection', 'of', 'events.']\n"
     ]
    }
   ],
   "source": [
    "abstracts = arxiv_dataset.select(\"abstract\").rdd.map(lambda x: x.abstract.split()).collect()"
   ]
  },
  {
   "cell_type": "code",
   "execution_count": 68,
   "metadata": {},
   "outputs": [],
   "source": [
    "dictionary = corpora.Dictionary(abstracts)\n",
    "dictionary.filter_extremes(no_below=20, no_above=0.05)"
   ]
  },
  {
   "cell_type": "code",
   "execution_count": 69,
   "metadata": {},
   "outputs": [
    {
     "data": {
      "text/plain": [
       "[('emission', 935),\n",
       " ('spin', 878),\n",
       " ('star', 760),\n",
       " ('black', 758),\n",
       " ('X-ray', 756)]"
      ]
     },
     "execution_count": 69,
     "metadata": {},
     "output_type": "execute_result"
    }
   ],
   "source": [
    "dictionary.most_common(5)"
   ]
  },
  {
   "cell_type": "code",
   "execution_count": 70,
   "metadata": {},
   "outputs": [],
   "source": [
    "corpus = [dictionary.doc2bow(text) for text in abstracts]"
   ]
  },
  {
   "cell_type": "code",
   "execution_count": 73,
   "metadata": {},
   "outputs": [],
   "source": [
    "lda_model = models.LdaMulticore(corpus=corpus, id2word=dictionary, num_topics=10, random_state=42, passes=100)"
   ]
  },
  {
   "cell_type": "code",
   "execution_count": 74,
   "metadata": {},
   "outputs": [
    {
     "data": {
      "text/plain": [
       "[(0,\n",
       "  '0.011*\"decay\" + 0.010*\"production\" + 0.008*\"cross\" + 0.006*\"scattering\" + 0.006*\"nuclear\" + 0.006*\"detector\" + 0.006*\"neutrino\" + 0.005*\"decays\" + 0.005*\"measured\" + 0.005*\"measurements\"'),\n",
       " (1,\n",
       "  '0.008*\"cosmological\" + 0.008*\"dark\" + 0.006*\"matter\" + 0.005*\"I\" + 0.005*\"dynamics\" + 0.004*\"scale\" + 0.004*\"simulations\" + 0.004*\"physical\" + 0.004*\"universe\" + 0.004*\"role\"'),\n",
       " (2,\n",
       "  '0.010*\"group\" + 0.006*\"functions\" + 0.006*\"algebra\" + 0.005*\"complex\" + 0.005*\"type\" + 0.005*\"class\" + 0.005*\"certain\" + 0.005*\"proof\" + 0.004*\"positive\" + 0.004*\"Let\"'),\n",
       " (3,\n",
       "  '0.016*\"symmetry\" + 0.015*\"Higgs\" + 0.014*\"gauge\" + 0.010*\"breaking\" + 0.010*\"topological\" + 0.009*\"masses\" + 0.009*\"scale\" + 0.009*\"neutrino\" + 0.007*\"mixing\" + 0.007*\"standard\"'),\n",
       " (4,\n",
       "  '0.011*\"equations\" + 0.009*\"gauge\" + 0.008*\"solutions\" + 0.006*\"scalar\" + 0.006*\"string\" + 0.006*\"chiral\" + 0.006*\"theories\" + 0.006*\"theory.\" + 0.005*\"action\" + 0.005*\"tensor\"'),\n",
       " (5,\n",
       "  '0.011*\"transition\" + 0.010*\"critical\" + 0.007*\"spin\" + 0.006*\"lattice\" + 0.005*\"behavior\" + 0.005*\"surface\" + 0.005*\"dependence\" + 0.004*\"band\" + 0.004*\"scaling\" + 0.004*\"charge\"'),\n",
       " (6,\n",
       "  '0.023*\"black\" + 0.012*\"hole\" + 0.011*\"solutions\" + 0.010*\"flow\" + 0.009*\"solution\" + 0.009*\"boundary\" + 0.008*\"gravitational\" + 0.008*\"entropy\" + 0.007*\"particles\" + 0.007*\"holes\"'),\n",
       " (7,\n",
       "  '0.010*\"algorithm\" + 0.008*\"random\" + 0.008*\"network\" + 0.008*\"information\" + 0.006*\"probability\" + 0.006*\"proposed\" + 0.006*\"networks\" + 0.005*\"performance\" + 0.004*\"optimal\" + 0.004*\"scheme\"'),\n",
       " (8,\n",
       "  '0.010*\"emission\" + 0.008*\"star\" + 0.008*\"X-ray\" + 0.008*\"stars\" + 0.007*\"galaxies\" + 0.006*\"stellar\" + 0.005*\"formation\" + 0.005*\"galaxy\" + 0.005*\"cluster\" + 0.005*\"disk\"'),\n",
       " (9,\n",
       "  '0.011*\"spin\" + 0.008*\"optical\" + 0.007*\"interaction\" + 0.007*\"electron\" + 0.007*\"wave\" + 0.006*\"frequency\" + 0.005*\"atoms\" + 0.005*\"atomic\" + 0.004*\"coupling\" + 0.004*\"mode\"')]"
      ]
     },
     "execution_count": 74,
     "metadata": {},
     "output_type": "execute_result"
    }
   ],
   "source": [
    "lda_model.print_topics()"
   ]
  },
  {
   "cell_type": "code",
   "execution_count": 75,
   "metadata": {},
   "outputs": [],
   "source": [
    "topics = [\n",
    "    lda_model.get_document_topics(c)\n",
    "    for c in corpus\n",
    "]"
   ]
  },
  {
   "cell_type": "code",
   "execution_count": 76,
   "metadata": {},
   "outputs": [
    {
     "data": {
      "text/plain": [
       "[(2, 0.24761462), (7, 0.73014444)]"
      ]
     },
     "execution_count": 76,
     "metadata": {},
     "output_type": "execute_result"
    }
   ],
   "source": [
    "topics[1]"
   ]
  },
  {
   "cell_type": "code",
   "execution_count": 79,
   "metadata": {},
   "outputs": [],
   "source": [
    "def most_probable_topic(t):\n",
    "    t = np.array(t)\n",
    "    idx = t[:, 1].argmax()\n",
    "    return int(t[idx, 0])\n",
    "\n",
    "final_topics = [most_probable_topic(t) for t in topics]"
   ]
  },
  {
   "cell_type": "markdown",
   "metadata": {},
   "source": [
    "### Query for similar articles (based on the same topic/category/common authors/other criteria)"
   ]
  },
  {
   "cell_type": "code",
   "execution_count": null,
   "metadata": {},
   "outputs": [],
   "source": [
    "# loading back the data\n",
    "arxiv_dataset = load_data_from_json(sc, \"arxiv-sample.json\")"
   ]
  },
  {
   "cell_type": "code",
   "execution_count": 80,
   "metadata": {},
   "outputs": [],
   "source": [
    "tokenizer = Tokenizer(inputCol=\"abstract\", outputCol=\"words\")\n",
    "words_data = tokenizer.transform(arxiv_dataset)"
   ]
  },
  {
   "cell_type": "code",
   "execution_count": 82,
   "metadata": {},
   "outputs": [],
   "source": [
    "hashing_tf = HashingTF(inputCol=\"words\", outputCol=\"rawFeatures\", numFeatures=1000)\n",
    "featurized_data = hashing_tf.transform(words_data)\n",
    "\n",
    "idf = IDF(inputCol=\"rawFeatures\", outputCol=\"features\")\n",
    "idf_model = idf.fit(featurized_data)\n",
    "tfidf_data = idf_model.transform(featurized_data)"
   ]
  },
  {
   "cell_type": "code",
   "execution_count": 83,
   "metadata": {},
   "outputs": [
    {
     "data": {
      "text/plain": [
       "SparseVector(1000, {9: 2.7937, 17: 0.1745, 22: 1.9864, 26: 3.0387, 63: 4.6255, 69: 2.9413, 80: 4.7787, 92: 2.7616, 113: 2.8185, 115: 2.8933, 133: 0.9823, 134: 9.6271, 147: 2.7505, 157: 1.527, 159: 2.593, 161: 2.8578, 162: 4.097, 168: 2.3882, 179: 2.0085, 188: 4.8346, 209: 1.1261, 226: 3.4398, 235: 2.0198, 253: 2.1638, 280: 2.7474, 282: 2.2673, 283: 3.0019, 289: 1.8503, 290: 3.0513, 304: 1.4913, 307: 1.8166, 311: 3.5864, 333: 1.7965, 335: 2.5971, 344: 1.4661, 351: 2.917, 353: 2.2799, 372: 0.0, 406: 2.1262, 413: 2.5171, 436: 3.2016, 439: 2.9115, 462: 3.4803, 467: 0.2604, 488: 0.1973, 490: 2.3158, 495: 0.1853, 510: 1.7893, 514: 3.2165, 535: 5.366, 575: 3.2755, 578: 2.6382, 591: 2.2037, 629: 2.01, 646: 3.6345, 650: 1.7756, 652: 3.1943, 653: 2.7521, 662: 2.8987, 663: 0.2806, 675: 3.51, 687: 3.2417, 695: 1.7255, 697: 2.7888, 718: 1.9612, 749: 1.7248, 759: 2.6354, 760: 0.4503, 763: 2.4644, 770: 2.223, 797: 2.9879, 804: 0.9008, 842: 3.1537, 843: 2.8631, 850: 2.9152, 855: 0.8729, 863: 3.3815, 873: 2.2454, 886: 6.841, 891: 0.3496, 894: 2.0637, 899: 3.9453, 903: 1.9394, 921: 3.8792, 928: 2.3445, 964: 3.2546, 973: 3.6459, 994: 5.4979})"
      ]
     },
     "execution_count": 83,
     "metadata": {},
     "output_type": "execute_result"
    }
   ],
   "source": [
    "# Calculate TF-IDF similarity between articles\n",
    "article_id = \"0704.0001\"  # Example article ID\n",
    "article_tfidf = tfidf_data.filter(col(\"id\") == article_id).select(\"features\").first()[\"features\"]\n",
    "article_tfidf"
   ]
  },
  {
   "cell_type": "code",
   "execution_count": 84,
   "metadata": {},
   "outputs": [
    {
     "data": {
      "text/plain": [
       "SparseVector(1000, {17: 0.0872, 24: 3.2041, 25: 2.8897, 55: 4.2258, 60: 1.5513, 85: 2.4397, 93: 3.5615, 125: 2.3817, 130: 1.4989, 133: 0.9823, 144: 3.316, 165: 2.5873, 181: 2.8613, 182: 2.408, 201: 5.2988, 212: 3.2417, 216: 2.8018, 221: 4.5116, 228: 1.9893, 241: 2.6942, 259: 3.142, 272: 1.3912, 274: 1.8031, 290: 6.1027, 296: 2.1708, 297: 5.834, 299: 1.5631, 310: 5.0946, 346: 2.6326, 372: 0.0, 377: 2.9376, 394: 2.1577, 425: 3.0945, 467: 0.651, 468: 1.5646, 488: 0.1973, 492: 2.6508, 495: 0.1853, 521: 2.616, 527: 2.1346, 581: 0.6502, 585: 5.6777, 588: 0.5146, 591: 2.2037, 601: 3.693, 613: 2.947, 636: 3.734, 650: 0.8878, 663: 0.4208, 686: 1.1935, 705: 3.2265, 719: 6.4886, 736: 0.6273, 760: 0.4503, 783: 2.0876, 784: 3.3525, 785: 3.1056, 791: 3.1034, 792: 2.3744, 828: 2.564, 846: 2.906, 870: 2.8185, 871: 2.144, 884: 3.0858, 885: 2.1355, 889: 1.8252, 891: 1.0487, 904: 3.8267, 935: 2.6839, 971: 8.3996, 975: 8.6475, 982: 3.51, 987: 3.1191})"
      ]
     },
     "execution_count": 84,
     "metadata": {},
     "output_type": "execute_result"
    }
   ],
   "source": [
    "article_id2 = \"0704.0002\"  # Example article ID\n",
    "article_tfidf2 = tfidf_data.filter(col(\"id\") == article_id2).select(\"features\").first()[\"features\"]\n",
    "article_tfidf2"
   ]
  },
  {
   "cell_type": "code",
   "execution_count": 85,
   "metadata": {},
   "outputs": [],
   "source": [
    "def cosine_similarity(a, b):\n",
    "    return float(a.dot(b) / (a.norm(2) * b.norm(2)))"
   ]
  },
  {
   "cell_type": "code",
   "execution_count": 86,
   "metadata": {},
   "outputs": [],
   "source": [
    "# calculate cosine similarity between article_id and other articles and sort them\n",
    "similarity = tfidf_data.rdd.map(lambda x: (x.id, cosine_similarity(article_tfidf, x.features))).sortBy(lambda x: x[1], ascending=False)"
   ]
  },
  {
   "cell_type": "code",
   "execution_count": 87,
   "metadata": {},
   "outputs": [
    {
     "data": {
      "text/plain": [
       "[('0704.0001', 0.9999999999999999),\n",
       " ('0705.0035', 0.3158517952866129),\n",
       " ('0706.0518', 0.27351676851108747),\n",
       " ('0704.1344', 0.25314024097273047),\n",
       " ('0705.3887', 0.24939255602324506),\n",
       " ('0704.1677', 0.24928594693946296),\n",
       " ('0705.2759', 0.2389668543153525),\n",
       " ('0705.1622', 0.23811259979760943),\n",
       " ('0705.3836', 0.23796792259432675),\n",
       " ('0704.0601', 0.23200991968502913)]"
      ]
     },
     "execution_count": 87,
     "metadata": {},
     "output_type": "execute_result"
    }
   ],
   "source": [
    "similarity.take(10)"
   ]
  },
  {
   "cell_type": "code",
   "execution_count": 88,
   "metadata": {},
   "outputs": [
    {
     "data": {
      "text/plain": [
       "'0705.0035'"
      ]
     },
     "execution_count": 88,
     "metadata": {},
     "output_type": "execute_result"
    }
   ],
   "source": [
    "# take the second article from similarity list\n",
    "article_id2 = similarity.take(2)[1][0]\n",
    "article_id2"
   ]
  },
  {
   "cell_type": "code",
   "execution_count": 89,
   "metadata": {},
   "outputs": [
    {
     "name": "stdout",
     "output_type": "stream",
     "text": [
      "+---------------------------------------------------------------------------------------------+--------------------------------------------------------------------------------------------------------------------------------------------------------------------------------------------------------------------------------------------------------------------------------------------------------------------------------------------------------------------------------------------------------------------------------------------------------------------------------------------------------------------------------------------------------------------------------------------------------------------------------------------------------------------------------------------------------------------------------------------------------------------------------------------------------------------------------------------------------------------------------------------------------+-------------------------------------------------------------------------------+----------+\n",
      "|title                                                                                        |abstract                                                                                                                                                                                                                                                                                                                                                                                                                                                                                                                                                                                                                                                                                                                                                                                                                                                                                                |authors                                                                        |categories|\n",
      "+---------------------------------------------------------------------------------------------+--------------------------------------------------------------------------------------------------------------------------------------------------------------------------------------------------------------------------------------------------------------------------------------------------------------------------------------------------------------------------------------------------------------------------------------------------------------------------------------------------------------------------------------------------------------------------------------------------------------------------------------------------------------------------------------------------------------------------------------------------------------------------------------------------------------------------------------------------------------------------------------------------------+-------------------------------------------------------------------------------+----------+\n",
      "|Higgs boson production with one bottom quark including higher-order\\n  soft-gluon corrections|  A Higgs boson produced in association with one or more bottom quarks is of\\ngreat theoretical and experimental interest to the high-energy community. A\\nprecise prediction of its total and differential cross-section can have a great\\nimpact on the discovery of a Higgs boson with large bottom-quark Yukawa\\ncoupling, like the scalar (h^0 and H^0) and pseudoscalar (A^0) Higgs bosons of\\nthe Minimal Supersymmetric Standard Model (MSSM) in the region of large\\n\\tan\\beta. In this paper we apply the threshold resummation formalism to\\ndetermine both differential and total cross-sections for b g \\to b\\Phi (where\\n\\Phi = h^0, H^0), including up to next-to-next-to-next-to-leading order (NNNLO)\\nsoft plus virtual QCD corrections at next-to-leading logarithmic (NLL)\\naccuracy. We present results for both the Fermilab Tevatron and the CERN Large\\nHadron Collider (LHC).\\n|B. Field (Florida State), C.B. Jackson (Brookhaven), L. Reina\\n (Florida State)|hep-ph    |\n",
      "+---------------------------------------------------------------------------------------------+--------------------------------------------------------------------------------------------------------------------------------------------------------------------------------------------------------------------------------------------------------------------------------------------------------------------------------------------------------------------------------------------------------------------------------------------------------------------------------------------------------------------------------------------------------------------------------------------------------------------------------------------------------------------------------------------------------------------------------------------------------------------------------------------------------------------------------------------------------------------------------------------------------+-------------------------------------------------------------------------------+----------+\n",
      "\n"
     ]
    }
   ],
   "source": [
    "# get the information of the second article\n",
    "arxiv_dataset.filter(arxiv_dataset.id == article_id2).select(\"title\", \"abstract\", \"authors\", \"categories\").show(truncate=False)"
   ]
  },
  {
   "cell_type": "code",
   "execution_count": 90,
   "metadata": {},
   "outputs": [
    {
     "name": "stdout",
     "output_type": "stream",
     "text": [
      "+----------------------------------------------------------------------------------------+-------------------------------------------------------------------------------------------------------------------------------------------------------------------------------------------------------------------------------------------------------------------------------------------------------------------------------------------------------------------------------------------------------------------------------------------------------------------------------------------------------------------------------------------------------------------------------------------------------------------------------------------------------------------------------------------------------------------------------------------------------------------------------------------------------------------------------------------------------------------------------------------------------------------------------------------------------------------------------------------------------------------------------------+-----------------------------------------------------+----------+\n",
      "|title                                                                                   |abstract                                                                                                                                                                                                                                                                                                                                                                                                                                                                                                                                                                                                                                                                                                                                                                                                                                                                                                                                                                                                                             |authors                                              |categories|\n",
      "+----------------------------------------------------------------------------------------+-------------------------------------------------------------------------------------------------------------------------------------------------------------------------------------------------------------------------------------------------------------------------------------------------------------------------------------------------------------------------------------------------------------------------------------------------------------------------------------------------------------------------------------------------------------------------------------------------------------------------------------------------------------------------------------------------------------------------------------------------------------------------------------------------------------------------------------------------------------------------------------------------------------------------------------------------------------------------------------------------------------------------------------+-----------------------------------------------------+----------+\n",
      "|Calculation of prompt diphoton production cross sections at Tevatron and\\n  LHC energies|  A fully differential calculation in perturbative quantum chromodynamics is\\npresented for the production of massive photon pairs at hadron colliders. All\\nnext-to-leading order perturbative contributions from quark-antiquark,\\ngluon-(anti)quark, and gluon-gluon subprocesses are included, as well as\\nall-orders resummation of initial-state gluon radiation valid at\\nnext-to-next-to-leading logarithmic accuracy. The region of phase space is\\nspecified in which the calculation is most reliable. Good agreement is\\ndemonstrated with data from the Fermilab Tevatron, and predictions are made for\\nmore detailed tests with CDF and DO data. Predictions are shown for\\ndistributions of diphoton pairs produced at the energy of the Large Hadron\\nCollider (LHC). Distributions of the diphoton pairs from the decay of a Higgs\\nboson are contrasted with those produced from QCD processes at the LHC, showing\\nthat enhanced sensitivity to the signal can be obtained with judicious\\nselection of events.\\n|C. Bal\\'azs, E. L. Berger, P. M. Nadolsky, C.-P. Yuan|hep-ph    |\n",
      "+----------------------------------------------------------------------------------------+-------------------------------------------------------------------------------------------------------------------------------------------------------------------------------------------------------------------------------------------------------------------------------------------------------------------------------------------------------------------------------------------------------------------------------------------------------------------------------------------------------------------------------------------------------------------------------------------------------------------------------------------------------------------------------------------------------------------------------------------------------------------------------------------------------------------------------------------------------------------------------------------------------------------------------------------------------------------------------------------------------------------------------------+-----------------------------------------------------+----------+\n",
      "\n"
     ]
    }
   ],
   "source": [
    "# get the information of the first article\n",
    "arxiv_dataset.filter(arxiv_dataset.id == article_id).select(\"title\", \"abstract\", \"authors\", \"categories\").show(truncate=False)"
   ]
  },
  {
   "cell_type": "markdown",
   "metadata": {},
   "source": [
    "### Classification (for a new article to determine its category)"
   ]
  },
  {
   "cell_type": "markdown",
   "metadata": {},
   "source": [
    "### First approach:\n",
    "- use TF-IDF to vectorize the abstracts and Tokeniezer to tokenize the abstracts\n",
    "- use CountVectors (\"document-term vectors\") and regex tokenizer to tokenize the abstracts ( + remove stop words)\n",
    "\n",
    "Models to use:\n",
    "- Naive Bayes\n",
    "- Logistic Regression\n",
    "- Random Forest\n",
    "\n",
    "Finally: use Cross-Validation -> try to tune the hyperparameters"
   ]
  },
  {
   "cell_type": "code",
   "execution_count": 37,
   "metadata": {},
   "outputs": [],
   "source": [
    "# loading back the data\n",
    "arxiv_dataset = load_data_from_json(sc, \"arxiv-sample.json\")"
   ]
  },
  {
   "cell_type": "code",
   "execution_count": 38,
   "metadata": {},
   "outputs": [],
   "source": [
    "# drop columns\n",
    "drop_colums = [\"authors_parsed\", \"authors_list\", \"comments\", \"doi\", \"journal-ref\", \"license\", \"report-no\", \"submitter\", \"title\", \"versions\", \"authors\", \"update_date\"]\n",
    "arxiv_dataset = arxiv_dataset.drop(*drop_colums)"
   ]
  },
  {
   "cell_type": "code",
   "execution_count": 39,
   "metadata": {},
   "outputs": [
    {
     "name": "stdout",
     "output_type": "stream",
     "text": [
      "+--------------------+---------------+---------+\n",
      "|            abstract|     categories|       id|\n",
      "+--------------------+---------------+---------+\n",
      "|  A fully differe...|         hep-ph|0704.0001|\n",
      "|  We describe a n...|  math.CO cs.CG|0704.0002|\n",
      "|  The evolution o...| physics.gen-ph|0704.0003|\n",
      "|  We show that a ...|        math.CO|0704.0004|\n",
      "|  In this paper w...|math.CA math.FA|0704.0005|\n",
      "+--------------------+---------------+---------+\n",
      "only showing top 5 rows\n",
      "\n"
     ]
    }
   ],
   "source": [
    "arxiv_dataset.show(5)"
   ]
  },
  {
   "cell_type": "code",
   "execution_count": 40,
   "metadata": {},
   "outputs": [],
   "source": [
    "# from the categories column, get the first category\n",
    "arxiv_dataset = arxiv_dataset.withColumn(\"category\", split(\"categories\", \" \")[0])\n",
    "# drop the categories column\n",
    "arxiv_dataset = arxiv_dataset.drop(\"categories\")"
   ]
  },
  {
   "cell_type": "code",
   "execution_count": 41,
   "metadata": {},
   "outputs": [
    {
     "name": "stdout",
     "output_type": "stream",
     "text": [
      "+--------------------+---------+--------------+\n",
      "|            abstract|       id|      category|\n",
      "+--------------------+---------+--------------+\n",
      "|  A fully differe...|0704.0001|        hep-ph|\n",
      "|  We describe a n...|0704.0002|       math.CO|\n",
      "|  The evolution o...|0704.0003|physics.gen-ph|\n",
      "|  We show that a ...|0704.0004|       math.CO|\n",
      "|  In this paper w...|0704.0005|       math.CA|\n",
      "+--------------------+---------+--------------+\n",
      "only showing top 5 rows\n",
      "\n"
     ]
    }
   ],
   "source": [
    "arxiv_dataset.show(5)"
   ]
  },
  {
   "cell_type": "code",
   "execution_count": 42,
   "metadata": {},
   "outputs": [],
   "source": [
    "string_indexer = StringIndexer(inputCol=\"category\", outputCol=\"label\", handleInvalid=\"skip\")\n",
    "indexer_fitted = string_indexer.fit(arxiv_dataset)\n",
    "labels = indexer_fitted.labels # retrieve labels in order to use them later\n",
    "arxiv_dataset = indexer_fitted.transform(arxiv_dataset)"
   ]
  },
  {
   "cell_type": "code",
   "execution_count": 43,
   "metadata": {},
   "outputs": [
    {
     "name": "stdout",
     "output_type": "stream",
     "text": [
      "+--------------------+---------+--------------+-----+\n",
      "|            abstract|       id|      category|label|\n",
      "+--------------------+---------+--------------+-----+\n",
      "|  A fully differe...|0704.0001|        hep-ph|  2.0|\n",
      "|  We describe a n...|0704.0002|       math.CO| 20.0|\n",
      "|  The evolution o...|0704.0003|physics.gen-ph| 21.0|\n",
      "|  We show that a ...|0704.0004|       math.CO| 20.0|\n",
      "|  In this paper w...|0704.0005|       math.CA| 29.0|\n",
      "+--------------------+---------+--------------+-----+\n",
      "only showing top 5 rows\n",
      "\n"
     ]
    }
   ],
   "source": [
    "arxiv_dataset.show(5)"
   ]
  },
  {
   "cell_type": "code",
   "execution_count": 44,
   "metadata": {},
   "outputs": [],
   "source": [
    "# remove stopwords\n",
    "arxiv_dataset = arxiv_dataset.withColumn(\"abstract\", remove_stopwords(\"abstract\"))\n",
    "# convert to lowercase\n",
    "arxiv_dataset = arxiv_dataset.withColumn(\"abstract\", convert_to_lowercase(\"abstract\"))\n",
    "# remove punctuation\n",
    "arxiv_dataset = arxiv_dataset.withColumn(\"abstract\", remove_punctuation(\"abstract\"))\n",
    "# apply lemmatization\n",
    "arxiv_dataset = arxiv_dataset.withColumn(\"abstract\", lemmatization_spacy(\"abstract\"))"
   ]
  },
  {
   "cell_type": "markdown",
   "metadata": {},
   "source": [
    "### Prepare the models: Logistic Regression, Random Forest, Naive Bayes"
   ]
  },
  {
   "cell_type": "code",
   "execution_count": 15,
   "metadata": {},
   "outputs": [],
   "source": [
    "lr = LogisticRegression(labelCol=\"label\", featuresCol=\"features\", maxIter=30, regParam=0.3, elasticNetParam=0)\n",
    "rf = RandomForestClassifier(labelCol=\"label\", featuresCol=\"features\", numTrees=10)\n",
    "nb = NaiveBayes(labelCol=\"label\", featuresCol=\"features\", smoothing=1.0, modelType=\"multinomial\")"
   ]
  },
  {
   "cell_type": "markdown",
   "metadata": {},
   "source": [
    "desired approach: prepare the training data and then use what model you want"
   ]
  },
  {
   "cell_type": "code",
   "execution_count": 46,
   "metadata": {},
   "outputs": [],
   "source": [
    "# Define a pipeline with stages for tokenization, TF-IDF conversion, and Logistic Regression\n",
    "tokenizer = Tokenizer(inputCol=\"abstract\", outputCol=\"words\")\n",
    "hashing_tf = HashingTF(inputCol=\"words\", outputCol=\"rawFeatures\", numFeatures=10000)\n",
    "\n",
    "# minDocFreq: remove sparse terms\n",
    "idf = IDF(inputCol=\"rawFeatures\", outputCol=\"features\", minDocFreq=5)\n",
    "\n",
    "pipeline = Pipeline(stages=[tokenizer, hashing_tf, idf])\n",
    "\n",
    "# fit the pipeline\n",
    "pipeline_model = pipeline.fit(arxiv_dataset)\n",
    "dataset = pipeline_model.transform(arxiv_dataset)\n",
    "\n",
    "# Split the data into training and testing sets\n",
    "(training_data, testing_data) = dataset.randomSplit([0.8, 0.2], seed=123)"
   ]
  },
  {
   "cell_type": "code",
   "execution_count": null,
   "metadata": {},
   "outputs": [],
   "source": [
    "testing_data.show(5)"
   ]
  },
  {
   "cell_type": "code",
   "execution_count": 47,
   "metadata": {},
   "outputs": [],
   "source": [
    "model_lr = lr.fit(training_data)\n",
    "model_rf = rf.fit(training_data)\n",
    "model_nb = nb.fit(training_data)"
   ]
  },
  {
   "cell_type": "code",
   "execution_count": 113,
   "metadata": {},
   "outputs": [],
   "source": [
    "# Make predictions on the testing data\n",
    "predictions_lr = model_lr.transform(testing_data)\n",
    "predictions_rf = model_rf.transform(testing_data)\n",
    "predictions_nb = model_nb.transform(testing_data)"
   ]
  },
  {
   "cell_type": "code",
   "execution_count": null,
   "metadata": {},
   "outputs": [],
   "source": [
    "# show predictions\n",
    "predictions_lr.select(\"abstract\", \"label\", \"prediction\").show(5)\n",
    "predictions_rf.select(\"abstract\", \"label\", \"prediction\").show(5)\n",
    "predictions_nb.select(\"abstract\", \"label\", \"prediction\").show(5)"
   ]
  },
  {
   "cell_type": "code",
   "execution_count": 117,
   "metadata": {},
   "outputs": [
    {
     "name": "stdout",
     "output_type": "stream",
     "text": [
      "Accuracy of Logistic Regression:  0.5010060362173038\n",
      "Accuracy of Random Forest:  0.2067404426559356\n",
      "Accuracy of Naive Bayes:  0.6262575452716298\n"
     ]
    }
   ],
   "source": [
    "evaluator = MulticlassClassificationEvaluator(labelCol=\"label\", predictionCol=\"prediction\", metricName=\"accuracy\")\n",
    "\n",
    "accuracy_lr = evaluator.evaluate(predictions_lr)\n",
    "accuracy_rf = evaluator.evaluate(predictions_rf)\n",
    "accuracy_nb = evaluator.evaluate(predictions_nb)\n",
    "\n",
    "print(\"Accuracy of Logistic Regression: \", accuracy_lr)\n",
    "print(\"Accuracy of Random Forest: \", accuracy_rf)\n",
    "print(\"Accuracy of Naive Bayes: \", accuracy_nb)"
   ]
  },
  {
   "cell_type": "markdown",
   "metadata": {},
   "source": [
    "## Use CountVectorizer instead of HashingTF and regexTokenizer instead of Tokenizer"
   ]
  },
  {
   "cell_type": "code",
   "execution_count": 10,
   "metadata": {},
   "outputs": [],
   "source": [
    "# loading back the data\n",
    "arxiv_dataset = load_data_from_json(sc, \"arxiv-sample.json\")"
   ]
  },
  {
   "cell_type": "code",
   "execution_count": 11,
   "metadata": {},
   "outputs": [],
   "source": [
    "# drop columns\n",
    "drop_colums = [\"authors_parsed\", \"authors_list\", \"comments\", \"doi\", \"journal-ref\", \"license\", \"report-no\", \"submitter\", \"title\", \"versions\", \"authors\", \"update_date\"]\n",
    "arxiv_dataset = arxiv_dataset.drop(*drop_colums)\n",
    "# from the categories column, get the first category\n",
    "arxiv_dataset = arxiv_dataset.withColumn(\"category\", split(\"categories\", \" \")[0])\n",
    "# drop the categories column\n",
    "arxiv_dataset = arxiv_dataset.drop(\"categories\")\n",
    "string_indexer = StringIndexer(inputCol=\"category\", outputCol=\"label\", handleInvalid=\"skip\")\n",
    "indexer_fitted = string_indexer.fit(arxiv_dataset)\n",
    "labels = indexer_fitted.labels # retrieve labels in order to use them later\n",
    "arxiv_dataset = indexer_fitted.transform(arxiv_dataset)\n"
   ]
  },
  {
   "cell_type": "code",
   "execution_count": 12,
   "metadata": {},
   "outputs": [],
   "source": [
    "regexTokenizer = RegexTokenizer(inputCol=\"abstract\", outputCol=\"words\", pattern=\"\\\\W\")\n",
    "stopwordsRemover = StopWordsRemover(inputCol=\"words\", outputCol=\"filtered\")\n",
    "countVectors = CountVectorizer(inputCol=\"filtered\", outputCol=\"features\", vocabSize=10000, minDF=5)\n",
    "\n",
    "pipeline = Pipeline(stages=[regexTokenizer, stopwordsRemover, countVectors])\n",
    "\n",
    "# fit the pipeline\n",
    "pipeline_fit = pipeline.fit(arxiv_dataset)\n",
    "dataset = pipeline_fit.transform(arxiv_dataset)"
   ]
  },
  {
   "cell_type": "code",
   "execution_count": 13,
   "metadata": {},
   "outputs": [],
   "source": [
    "# Split the data into training and testing sets\n",
    "(training_data, testing_data) = dataset.randomSplit([0.8, 0.2], seed=123)"
   ]
  },
  {
   "cell_type": "code",
   "execution_count": 25,
   "metadata": {},
   "outputs": [],
   "source": [
    "# Train the model\n",
    "model_lr = lr.fit(training_data)\n",
    "model_rf = rf.fit(training_data)\n",
    "model_nb = nb.fit(training_data)"
   ]
  },
  {
   "cell_type": "code",
   "execution_count": 27,
   "metadata": {},
   "outputs": [],
   "source": [
    "# Make predictions on the testing data\n",
    "predictions_lr = model_lr.transform(testing_data)\n",
    "predictions_rf = model_rf.transform(testing_data)\n",
    "predictions_nb = model_nb.transform(testing_data)"
   ]
  },
  {
   "cell_type": "code",
   "execution_count": 28,
   "metadata": {},
   "outputs": [
    {
     "name": "stdout",
     "output_type": "stream",
     "text": [
      "Accuracy of Logistic Regression:  0.5477867203219315\n",
      "Accuracy of Random Forest:  0.22887323943661972\n",
      "Accuracy of Naive Bayes:  0.5638832997987927\n"
     ]
    }
   ],
   "source": [
    "# evaluate accuracy\n",
    "evaluator = MulticlassClassificationEvaluator(labelCol=\"label\", predictionCol=\"prediction\", metricName=\"accuracy\")\n",
    "accuracy_lr = evaluator.evaluate(predictions_lr)\n",
    "accuracy_rf = evaluator.evaluate(predictions_rf)\n",
    "accuracy_nb = evaluator.evaluate(predictions_nb)\n",
    "\n",
    "print(\"Accuracy of Logistic Regression: \", accuracy_lr)\n",
    "print(\"Accuracy of Random Forest: \", accuracy_rf)\n",
    "print(\"Accuracy of Naive Bayes: \", accuracy_nb)"
   ]
  },
  {
   "cell_type": "markdown",
   "metadata": {},
   "source": [
    "# predict on a single abstract (new article)\n"
   ]
  },
  {
   "cell_type": "code",
   "execution_count": null,
   "metadata": {},
   "outputs": [],
   "source": [
    "# predict on a single abstract from the testing data\n",
    "prediction = model.transform(testing_data.filter(testing_data.id == \"0704.1072\"))\n",
    "\n",
    "# take the probability array of the prediction\n",
    "prediction.select(\"probability\").show(truncate=False)\n",
    "# convert the probability array to a list\n",
    "list_prediction = prediction.select(\"probability\").collect()[0][0].toArray().tolist()\n",
    "print(list_prediction)\n",
    "threshold = 0.2\n",
    "for i in range(len(list_prediction)):\n",
    "    if list_prediction[i] > threshold:\n",
    "        print(labels[i])"
   ]
  }
 ],
 "metadata": {
  "kernelspec": {
   "display_name": "Python 3",
   "language": "python",
   "name": "python3"
  },
  "language_info": {
   "codemirror_mode": {
    "name": "ipython",
    "version": 3
   },
   "file_extension": ".py",
   "mimetype": "text/x-python",
   "name": "python",
   "nbconvert_exporter": "python",
   "pygments_lexer": "ipython3",
   "version": "3.9.2"
  }
 },
 "nbformat": 4,
 "nbformat_minor": 2
}
